{
 "cells": [
  {
   "cell_type": "markdown",
   "metadata": {},
   "source": [
    "# SRIM Calculations for stopping power and energy losses\n",
    "\n",
    "The calculations are based on SRIM stopping power tables."
   ]
  },
  {
   "cell_type": "code",
   "execution_count": 3,
   "metadata": {},
   "outputs": [
    {
     "name": "stderr",
     "output_type": "stream",
     "text": [
      "/home/yulia/anaconda3/envs/deadlayer/lib/python3.6/site-packages/srim/core/elementdb.py:10: YAMLLoadWarning: calling yaml.load() without Loader=... is deprecated, as the default Loader is unsafe. Please read https://msg.pyyaml.org/load for full details.\n",
      "  return yaml.load(open(dbpath, \"r\"))\n"
     ]
    }
   ],
   "source": [
    "import numpy as np\n",
    "import matplotlib.pyplot as plt\n",
    "from scipy import interpolate\n",
    "\n",
    "from srim import SR, Ion, Layer, Target\n",
    "\n",
    "# directory where SRIM-2013 is located\n",
    "srim_executable_directory = '/home/yulia/.wine/drive_c/Program Files (x86)/SRIM_2013_install'"
   ]
  },
  {
   "cell_type": "markdown",
   "metadata": {},
   "source": [
    "## Extrapolations to transuranium elements"
   ]
  },
  {
   "cell_type": "markdown",
   "metadata": {},
   "source": [
    "It is a sea of unknown to find a good method to extrapolate stopping powers for transuranium elements.\n",
    "\n",
    "Some relevant sources:\n",
    "\n",
    "* General comparison of different models on the marker: [CriticalReviewStoppingPowers](CriticalReviewStoppingPowers.pdf)\n",
    "* Example of use of extrapolation model in superheavy element experiment: [Wittwer2010](Wittwer2010.pdf)\n",
    "* Calculation of effective charge: [P. Sigmund, 1997](https://journals.aps.org/pra/abstract/10.1103/PhysRevA.56.3781)\n",
    "* Other ways to calculate the effective charge: [Hubert](nucl-data-tables-stopping.pdf) & [Northcliffe](nucl-data-tables-stopping_low.pdf)\n",
    "\n",
    "The very basics can be explained as with the example of derivating stopping powers for nobelium. By the use of the scaling relationship of the effective charge $q_{eff}$:\n",
    "\\begin{equation}\n",
    "S_{No} = \\frac{q_{eff, No}^2}{q_{eff, U}^2} S_U\n",
    "\\end{equation}\n",
    "Where $ S_U $  and $S_{No} $ is the stopping power of uranium and nobelium respectively. As given in [P. Sigmund, 1997](https://journals.aps.org/pra/abstract/10.1103/PhysRevA.56.3781) the effective charge is calculated as, \n",
    "\\begin{align}\n",
    "& q_{eff} = \\lambda Z e \\\\\n",
    "& \\lambda = \\sqrt{1-e^{-v_I/v_{TF}}}, \\ v_{TF} = Z^{2/3}v_{0} = Z^{2/3} \\alpha_{FS} c\n",
    "\\end{align}\n",
    "where $ Z $ is the proton number, $ e $ the electronic charge, $ \\alpha_{FS} $ the finestructure constant, $v_I$ is the ion velocity, and $ c $ the speed of light.  \n",
    "\n",
    "Other models quantifies the effective charge differently, otherwise the scaling factor relationship can still be utilised.\n",
    "\n",
    "#### Attenuation factor\n",
    "According to the [review on the stopping power models](CriticalReviewStoppingPowers.pdf), and [Wittwer2010](Wittwer2010.pdf), SRIM overestimates the stopping power in general for low energy and heavy ions. Therefore it seems natural to further include an attenuation factor for the extrapolated stopping powers.\n",
    "\n",
    "#### Target materials\n",
    "Concerning target materials of transuranium elements, it should be sufficient with a linear scaling factor of the $Z$ of the reference element to the transuranic element of desire, see [Bethe-Bloch](https://en.wikipedia.org/wiki/Bethe_formula). I.e.\n",
    "\n",
    "\\begin{equation}\n",
    "S_{No} = \\frac{Z_{No}}{Z_U} S_U\n",
    "\\end{equation}"
   ]
  },
  {
   "cell_type": "markdown",
   "metadata": {},
   "source": [
    "And here goes the implementation of the epSTF as introduced above."
   ]
  },
  {
   "cell_type": "code",
   "execution_count": 4,
   "metadata": {},
   "outputs": [],
   "source": [
    "e_charge = 1.6021766e-19\n",
    "alpha_FS = 1./137\n",
    "c_vac = 299792458\n",
    "#c_vac = c_vac/1.9605\n",
    "u = 931.494\n",
    "def GetepSTF(z_ion, z_ref, A, S_ref, E):\n",
    "    v_TF_ion = z_ion**(2./3)*alpha_FS*c_vac\n",
    "    v_TF_ref = z_ref**(2./3)*alpha_FS*c_vac\n",
    "    v1 = np.sqrt(2*np.divide(E,A))\n",
    "    l_ion = np.sqrt(1-np.exp(-np.divide(v1, v_TF_ion)))\n",
    "    l_ref = np.sqrt(1-np.exp(-np.divide(v1, v_TF_ref)))\n",
    "    q_eff_ion = l_ion*z_ion\n",
    "    q_eff_ref = l_ref*z_ref\n",
    "    factor = np.square(np.divide(q_eff_ion, q_eff_ref))\n",
    "    S_ion = np.multiply(S_ref, factor)\n",
    "    return S_ion, factor"
   ]
  },
  {
   "cell_type": "markdown",
   "metadata": {},
   "source": [
    "## Test inputs - Ion and Stopping materials"
   ]
  },
  {
   "cell_type": "code",
   "execution_count": 5,
   "metadata": {},
   "outputs": [],
   "source": [
    "# Construct beam\n",
    "A, E_per_A_max = 48, 7e6 # nucleon number, eV \n",
    "energy_max = A*E_per_A_max\n",
    "#print(\"Max energy=\", energy_max)\n",
    "test_ion = Ion('Ca', energy=energy_max, mass=A)\n",
    "\n",
    "# Al\n",
    "density = 2.70e3 #mg/cm3 (from wikipedia)\n",
    "# Construct a layer of Al, arbitrary width (as it is not relevant for these calcs)\n",
    "test_layer = Layer({\n",
    "    'Al': {\n",
    "        'stoich': 1\n",
    "        #'E_d': 35.0, # Displacement Energy\n",
    "        #'lattice': 0.0,\n",
    "        #'surface': 3.0\n",
    "    }\n",
    "}, density=1e-3*density, width=10000.0)"
   ]
  },
  {
   "cell_type": "code",
   "execution_count": 6,
   "metadata": {},
   "outputs": [
    {
     "data": {
      "text/plain": [
       "{<Element symbol:Al name:Aluminium mass:26.98>: {'stoich': 1.0,\n",
       "  'E_d': 25.0,\n",
       "  'lattice': 0.0,\n",
       "  'surface': 3.0}}"
      ]
     },
     "execution_count": 6,
     "metadata": {},
     "output_type": "execute_result"
    }
   ],
   "source": [
    "test_layer.elements"
   ]
  },
  {
   "cell_type": "markdown",
   "metadata": {},
   "source": [
    "## Class for the stopping power information"
   ]
  },
  {
   "cell_type": "code",
   "execution_count": 7,
   "metadata": {},
   "outputs": [],
   "source": [
    "class GenerateStoppingPower():\n",
    "    \n",
    "    def __init__(self, layer, ion, z_ion = -1, Z = -1, Z_ref = -1, e_low_lim=1.1e-3, **kwargs):\n",
    "        #srim = SR(layer, ion, output_type=5, energy_min=1100) \n",
    "        #output_type = 5, means MeV / (mg/cm2)\n",
    "        srim = SR(layer, ion, output_type=5, energy_min=1002.) \n",
    "        results = srim.run(srim_executable_directory)\n",
    "\n",
    "        self.energy_raw = 1e-3*results.data[0] #to MeV\n",
    "        self.dEdX_raw = (results.data[1]+results.data[2])*(layer.density*1e3)*1e-4 # sum of electric and nuclear stopping power and convert to MeV per µm\n",
    "        self.range_raw = results.data[3]\n",
    "        #results.units\n",
    "        \n",
    "        if z_ion != -1:\n",
    "            print(\"Extrapolating stopping power for ion with z=\", z_ion)\n",
    "            self.dEdX_raw, factor = GetepSTF(z_ion, ion.atomic_number, ion.mass, self.dEdX_raw, self.energy_raw)\n",
    "            print(\"Mean scaling factor:\", np.mean(factor))\n",
    "            \n",
    "        if Z != -1:\n",
    "            print(\"Extrapolating stopping power for material with Z=\", Z)\n",
    "            factor = (float(Z)/Z_ref)\n",
    "            self.dEdX_raw = factor*self.dEdX_raw\n",
    "            print(\"Scaling factor:\", factor)\n",
    "\n",
    "        #interpolation of stopping power and range\n",
    "        self.f_dEdX = interpolate.interp1d(self.energy_raw, self.dEdX_raw, kind='quadratic')\n",
    "        self.energy_interp = np.arange(np.min(self.energy_raw), np.max(self.energy_raw), 10)\n",
    "        self.f_range = interpolate.interp1d(self.energy_raw, self.range_raw, kind='quadratic')\n",
    "\n",
    "        \n",
    "        E_beam_0 = max(self.energy_raw) # MeV\n",
    "        step_size = 0.1 #µm\n",
    "        self.e_low_lim = e_low_lim # MeV\n",
    "\n",
    "        e_loss = list()\n",
    "        x_loss = list()\n",
    "\n",
    "        e, x = [], []\n",
    "        x_now = 0\n",
    "        E_beam = E_beam_0\n",
    "        e.append(E_beam)\n",
    "        x.append(x_now)\n",
    "        while E_beam > self.e_low_lim:\n",
    "            #print(\"E_beam =\",E_beam)\n",
    "            x_now += step_size\n",
    "            E_beam -= self.f_dEdX(E_beam)*step_size\n",
    "            e.append(E_beam)\n",
    "            x.append(x_now)\n",
    "        self.x_loss = np.asarray(x)\n",
    "        self.e_loss = np.asarray(e)\n",
    "        self.f_eofx = (interpolate.interp1d(self.x_loss, self.e_loss, kind='quadratic'))\n",
    "        self.f_xofe = (interpolate.interp1d(self.e_loss, self.x_loss, kind='quadratic'))  \n",
    "        \n",
    "        print(\"SRIM stopping power successfully calculated\")\n",
    "        print(\"\\tCalculate energy loss as a function of traversed target material with function \\'GetElossAfterX(E_init, x)'\")\n",
    "        print(\"\\tCalculate traversed target material as a function of energy loss \\'GetXAfterEloss(E_init, E_after)'\")\n",
    "        print(\"\\tCalculate range in material as a function of energy \\'GetRange(E_init)'\")\n",
    "        print(\"\\tUnits: MeV, µm\")\n",
    "\n",
    "    def GetElossAfterX(self, E_init, x):\n",
    "        #print(\"E_init=\", E_init)\n",
    "        x_start = self.f_xofe(E_init)\n",
    "        #print(\"x_start=\", x_start, \"x_end=\", x_start+x)\n",
    "        x_end = x_start+x\n",
    "        if isinstance(x_end, np.ndarray):\n",
    "            #print(\"Yes, ndarray\")\n",
    "            ret = np.zeros(x_end.shape[0])\n",
    "            inds = x_end > self.f_eofx.x[-1]\n",
    "            if isinstance(E_init, np.ndarray):\n",
    "                ret[inds] = E_init[inds]\n",
    "                inds = x_end < self.f_eofx.x[-1]\n",
    "                ret[inds] = E_init[inds] - self.f_eofx(x_end[inds]) \n",
    "            else:\n",
    "                ret[inds] = E_init\n",
    "                inds = x_end < self.f_eofx.x[-1]\n",
    "                ret[inds] = E_init - self.f_eofx(x_end[inds]) \n",
    "            return ret\n",
    "        else:\n",
    "            if x_end > self.f_eofx.x[-1]:\n",
    "                return E_init\n",
    "            else:\n",
    "                return E_init - self.f_eofx(x_end) \n",
    "    \n",
    "    def GetXAfterEloss(self, E_init, E_after):\n",
    "        x_start = self.f_xofe(E_init)\n",
    "        return self.f_xofe(E_after) - x_start\n",
    "    \n",
    "    def GetRange(self, E_init, from_sr=False):\n",
    "        if from_sr:\n",
    "            return self.GetXAfterEloss(E_init, self.e_low_lim)\n",
    "        else:\n",
    "            return self.f_range(E_init)"
   ]
  },
  {
   "cell_type": "code",
   "execution_count": 13,
   "metadata": {},
   "outputs": [
    {
     "name": "stdout",
     "output_type": "stream",
     "text": [
      "SRIM stopping power successfully calculated\n",
      "\tCalculate energy loss as a function of traversed target material with function 'GetElossAfterX(E_init, x)'\n",
      "\tCalculate traversed target material as a function of energy loss 'GetXAfterEloss(E_init, E_after)'\n",
      "\tCalculate range in material as a function of energy 'GetRange(E_init)'\n",
      "\tUnits: MeV, µm\n"
     ]
    }
   ],
   "source": [
    "GSP = GenerateStoppingPower(layer=test_layer, ion=test_ion)"
   ]
  },
  {
   "cell_type": "code",
   "execution_count": 9,
   "metadata": {},
   "outputs": [
    {
     "data": {
      "text/plain": [
       "array([-5.95993278e-02,  3.84934405e-02,  1.42653062e-01,  2.52030022e-01,\n",
       "        3.63567830e-01,  4.77422143e-01,  5.94535500e-01,  7.15976368e-01,\n",
       "        8.42760990e-01,  9.75779587e-01,  1.11583733e+00,  1.26363573e+00,\n",
       "        1.41978404e+00,  1.58476385e+00,  1.75900616e+00,  1.94283271e+00,\n",
       "        2.13647228e+00,  2.34008262e+00,  2.55372880e+00,  2.77742476e+00,\n",
       "        3.01109444e+00,  3.25464494e+00,  3.50789418e+00,  3.77066037e+00,\n",
       "        4.04271998e+00,  4.32384768e+00,  4.61373008e+00,  4.91203682e+00,\n",
       "        5.21870411e+00,  5.53349506e+00,  5.85587358e+00,  6.18567077e+00,\n",
       "        6.52272560e+00,  6.86665269e+00,  7.21721542e+00,  7.57421202e+00,\n",
       "        7.93742989e+00,  8.30664100e+00,  8.68161669e+00,  9.06223572e+00,\n",
       "        9.44838845e+00,  9.83990955e+00,  1.02365455e+01,  1.06380380e+01,\n",
       "        1.10442623e+01,  1.14551307e+01,  1.18705301e+01,  1.22903114e+01,\n",
       "        1.27143270e+01,  1.31424771e+01,  1.35746660e+01,  1.40107872e+01,\n",
       "        1.44507261e+01,  1.48943515e+01,  1.53415096e+01,  1.57920801e+01,\n",
       "        1.62460757e+01,  1.67034992e+01,  1.71641886e+01,  1.76279501e+01,\n",
       "        1.80947254e+01,  1.85645078e+01,  1.90372894e+01,  1.95130138e+01,\n",
       "        1.99915865e+01,  2.04729103e+01,  2.09568858e+01,  2.14434163e+01,\n",
       "        2.19324528e+01,  2.24239572e+01,  2.29178906e+01,  2.34142131e+01,\n",
       "        2.39128832e+01,  2.44138481e+01,  2.49170509e+01,  2.54224331e+01,\n",
       "        2.59299356e+01,  2.64394987e+01,  2.69510698e+01,  2.74645978e+01,\n",
       "        2.79800305e+01,  2.84973151e+01,  2.90164028e+01,  2.95372715e+01,\n",
       "        3.00599035e+01,  3.05842806e+01,  3.11103843e+01,  3.16381827e+01,\n",
       "        3.21676091e+01,  3.26985945e+01,  3.32310686e+01,  3.37649608e+01,\n",
       "        3.43002326e+01,  3.48368748e+01,  3.53748780e+01,  3.59142329e+01,\n",
       "        3.64549277e+01,  3.69969285e+01,  3.75401947e+01,  3.80846859e+01,\n",
       "        3.86303608e+01,  3.91771826e+01,  3.97251244e+01,  4.02741591e+01,\n",
       "        4.08242596e+01,  4.13753986e+01,  4.19275484e+01,  4.24806813e+01,\n",
       "        4.30347707e+01,  4.35897909e+01,  4.41457166e+01,  4.47025219e+01,\n",
       "        4.52601808e+01,  4.58186674e+01,  4.63779553e+01,  4.69380182e+01,\n",
       "        4.74988295e+01,  4.80603670e+01,  4.86226126e+01,  4.91855484e+01,\n",
       "        4.97491563e+01,  5.03134181e+01,  5.08783155e+01,  5.14438302e+01,\n",
       "        5.20099436e+01,  5.25766373e+01,  5.31438911e+01,  5.37116841e+01,\n",
       "        5.42799952e+01,  5.48488032e+01,  5.54180869e+01,  5.59878249e+01,\n",
       "        5.65579958e+01,  5.71285783e+01,  5.76995511e+01,  5.82708962e+01,\n",
       "        5.88425965e+01,  5.94146349e+01,  5.99869943e+01,  6.05596576e+01,\n",
       "        6.11326074e+01,  6.17058265e+01,  6.22792977e+01,  6.28530041e+01,\n",
       "        6.34269313e+01,  6.40010647e+01,  6.45753901e+01,  6.51498929e+01,\n",
       "        6.57245588e+01,  6.62993733e+01,  6.68743219e+01,  6.74493901e+01,\n",
       "        6.80245658e+01,  6.85998403e+01,  6.91752048e+01,  6.97506506e+01,\n",
       "        7.03261689e+01,  7.09017509e+01,  7.14773880e+01,  7.20530712e+01,\n",
       "        7.26287919e+01,  7.32045413e+01,  7.37803107e+01,  7.43560911e+01,\n",
       "        7.49318739e+01,  7.55076499e+01,  7.60834089e+01,  7.66591412e+01,\n",
       "        7.72348366e+01,  7.78104852e+01,  7.83860771e+01,  7.89616022e+01,\n",
       "        7.95370506e+01,  8.01124124e+01,  8.06876775e+01,  8.12628360e+01,\n",
       "        8.18378780e+01,  8.24127936e+01,  8.29875728e+01,  8.35622058e+01,\n",
       "        8.41366826e+01,  8.47109933e+01,  8.52851289e+01,  8.58590863e+01,\n",
       "        8.64328631e+01,  8.70064570e+01,  8.75798657e+01,  8.81530868e+01,\n",
       "        8.87261182e+01,  8.92989574e+01,  8.98716022e+01,  9.04440503e+01,\n",
       "        9.10162994e+01,  9.15883472e+01,  9.21601915e+01,  9.27318299e+01,\n",
       "        9.33032602e+01,  9.38744802e+01,  9.44454875e+01,  9.50162798e+01,\n",
       "        9.55868468e+01,  9.61571705e+01,  9.67272331e+01,  9.72970168e+01,\n",
       "        9.78665040e+01,  9.84356768e+01,  9.90045176e+01,  9.95730088e+01,\n",
       "        1.00141133e+02,  1.00708872e+02,  1.01276209e+02,  1.01843127e+02,\n",
       "        1.02409607e+02,  1.02975633e+02,  1.03541187e+02,  1.04106253e+02,\n",
       "        1.04670812e+02,  1.05234850e+02,  1.05798355e+02,  1.06361319e+02,\n",
       "        1.06923734e+02,  1.07485592e+02,  1.08046884e+02,  1.08607601e+02,\n",
       "        1.09167737e+02,  1.09727281e+02,  1.10286227e+02,  1.10844566e+02,\n",
       "        1.11402290e+02,  1.11959391e+02,  1.12515861e+02,  1.13071691e+02,\n",
       "        1.13626875e+02,  1.14181403e+02,  1.14735268e+02,  1.15288465e+02,\n",
       "        1.15841002e+02,  1.16392888e+02,  1.16944135e+02,  1.17494752e+02,\n",
       "        1.18044749e+02,  1.18594136e+02,  1.19142923e+02,  1.19691120e+02,\n",
       "        1.20238737e+02,  1.20785783e+02,  1.21332269e+02,  1.21878204e+02,\n",
       "        1.22423597e+02,  1.22968460e+02,  1.23512800e+02,  1.24056628e+02,\n",
       "        1.24599953e+02,  1.25142785e+02,  1.25685124e+02,  1.26226972e+02,\n",
       "        1.26768326e+02,  1.27309185e+02,  1.27849549e+02,  1.28389418e+02,\n",
       "        1.28928789e+02,  1.29467662e+02,  1.30006036e+02,  1.30543911e+02,\n",
       "        1.31081285e+02,  1.31618158e+02,  1.32154529e+02,  1.32690396e+02,\n",
       "        1.33225760e+02,  1.33760619e+02,  1.34294972e+02,  1.34828819e+02,\n",
       "        1.35362159e+02,  1.35894991e+02,  1.36427316e+02,  1.36959132e+02,\n",
       "        1.37490440e+02,  1.38021240e+02,  1.38551531e+02,  1.39081312e+02,\n",
       "        1.39610584e+02,  1.40139346e+02,  1.40667598e+02,  1.41195340e+02,\n",
       "        1.41722571e+02,  1.42249291e+02,  1.42775500e+02,  1.43301198e+02,\n",
       "        1.43826384e+02,  1.44351058e+02,  1.44875220e+02,  1.45398869e+02,\n",
       "        1.45922007e+02,  1.46444634e+02,  1.46966750e+02,  1.47488355e+02,\n",
       "        1.48009450e+02,  1.48530036e+02,  1.49050113e+02,  1.49569681e+02,\n",
       "        1.50088741e+02,  1.50607294e+02,  1.51125339e+02,  1.51642878e+02,\n",
       "        1.52159911e+02,  1.52676437e+02,  1.53192459e+02,  1.53707975e+02,\n",
       "        1.54222987e+02,  1.54737496e+02,  1.55251501e+02,  1.55765003e+02,\n",
       "        1.56278006e+02,  1.56790509e+02,  1.57302515e+02,  1.57814025e+02,\n",
       "        1.58325040e+02,  1.58835562e+02,  1.59345593e+02,  1.59855133e+02,\n",
       "        1.60364185e+02,  1.60872749e+02,  1.61380828e+02,  1.61888422e+02,\n",
       "        1.62395533e+02,  1.62902163e+02,  1.63408313e+02,  1.63913984e+02,\n",
       "        1.64419178e+02,  1.64923897e+02,  1.65428140e+02,  1.65931909e+02,\n",
       "        1.66435204e+02,  1.66938025e+02,  1.67440371e+02,  1.67942244e+02,\n",
       "        1.68443643e+02,  1.68944569e+02,  1.69445022e+02,  1.69945002e+02,\n",
       "        1.70444510e+02,  1.70943544e+02,  1.71442107e+02,  1.71940197e+02,\n",
       "        1.72437816e+02,  1.72934963e+02,  1.73431638e+02,  1.73927842e+02,\n",
       "        1.74423575e+02,  1.74918838e+02,  1.75413630e+02,  1.75907952e+02,\n",
       "        1.76401806e+02,  1.76895193e+02,  1.77388113e+02,  1.77880568e+02,\n",
       "        1.78372558e+02,  1.78864085e+02,  1.79355149e+02,  1.79845751e+02,\n",
       "        1.80335893e+02,  1.80825574e+02,  1.81314797e+02,  1.81803562e+02,\n",
       "        1.82291870e+02,  1.82779722e+02,  1.83267119e+02,  1.83754061e+02,\n",
       "        1.84240551e+02,  1.84726588e+02,  1.85212173e+02,  1.85697309e+02,\n",
       "        1.86181994e+02,  1.86666232e+02,  1.87150021e+02,  1.87633364e+02,\n",
       "        1.88116260e+02,  1.88598712e+02,  1.89080720e+02,  1.89562285e+02,\n",
       "        1.90043407e+02,  1.90524088e+02,  1.91004329e+02,  1.91484129e+02,\n",
       "        1.91963491e+02,  1.92442415e+02,  1.92920901e+02,  1.93398950e+02,\n",
       "        1.93876564e+02,  1.94353743e+02,  1.94830488e+02,  1.95306799e+02,\n",
       "        1.95782677e+02,  1.96258124e+02,  1.96733139e+02,  1.97207725e+02,\n",
       "        1.97681880e+02,  1.98155608e+02,  1.98628907e+02,  1.99101778e+02,\n",
       "        1.99574224e+02,  2.00046244e+02,  2.00517839e+02,  2.00989010e+02,\n",
       "        2.01459757e+02,  2.01930082e+02,  2.02399985e+02,  2.02869467e+02,\n",
       "        2.03338529e+02,  2.03807171e+02,  2.04275395e+02,  2.04743200e+02,\n",
       "        2.05210588e+02,  2.05677560e+02,  2.06144116e+02,  2.06610256e+02,\n",
       "        2.07075983e+02,  2.07541296e+02,  2.08006196e+02,  2.08470684e+02,\n",
       "        2.08934761e+02,  2.09398427e+02,  2.09861683e+02,  2.10324530e+02,\n",
       "        2.10786969e+02,  2.11249000e+02,  2.11710624e+02,  2.12171842e+02,\n",
       "        2.12632654e+02,  2.13093062e+02,  2.13553067e+02,  2.14012668e+02,\n",
       "        2.14471868e+02,  2.14930667e+02,  2.15389067e+02,  2.15847067e+02,\n",
       "        2.16304670e+02,  2.16761875e+02,  2.17218685e+02,  2.17675100e+02,\n",
       "        2.18131120e+02,  2.18586747e+02,  2.19041982e+02,  2.19496826e+02,\n",
       "        2.19951279e+02,  2.20405342e+02,  2.20859017e+02,  2.21312305e+02,\n",
       "        2.21765205e+02,  2.22217720e+02,  2.22669850e+02,  2.23121596e+02,\n",
       "        2.23572958e+02,  2.24023939e+02,  2.24474538e+02,  2.24924757e+02,\n",
       "        2.25374596e+02,  2.25824057e+02,  2.26273140e+02,  2.26721847e+02,\n",
       "        2.27170177e+02,  2.27618132e+02,  2.28065713e+02,  2.28512921e+02,\n",
       "        2.28959757e+02,  2.29406221e+02,  2.29852314e+02,  2.30298038e+02,\n",
       "        2.30743393e+02,  2.31188379e+02,  2.31632999e+02,  2.32077253e+02,\n",
       "        2.32521141e+02,  2.32964664e+02,  2.33407824e+02,  2.33850621e+02,\n",
       "        2.34293056e+02,  2.34735130e+02,  2.35176843e+02,  2.35618197e+02,\n",
       "        2.36059193e+02,  2.36499831e+02,  2.36940112e+02,  2.37380037e+02,\n",
       "        2.37819607e+02,  2.38258822e+02,  2.38697683e+02,  2.39136191e+02,\n",
       "        2.39574347e+02,  2.40012150e+02,  2.40449603e+02,  2.40886704e+02,\n",
       "        2.41323456e+02,  2.41759858e+02,  2.42195912e+02,  2.42631618e+02,\n",
       "        2.43066976e+02,  2.43501987e+02,  2.43936653e+02,  2.44370973e+02,\n",
       "        2.44804948e+02,  2.45238579e+02,  2.45671866e+02,  2.46104811e+02,\n",
       "        2.46537413e+02,  2.46969674e+02,  2.47401593e+02,  2.47833173e+02,\n",
       "        2.48264412e+02,  2.48695313e+02,  2.49125875e+02,  2.49556099e+02,\n",
       "        2.49985986e+02,  2.50415536e+02,  2.50844750e+02,  2.51273629e+02,\n",
       "        2.51702173e+02,  2.52130384e+02,  2.52558260e+02,  2.52985804e+02,\n",
       "        2.53413015e+02,  2.53839895e+02,  2.54266444e+02,  2.54692662e+02,\n",
       "        2.55118550e+02,  2.55544109e+02,  2.55969340e+02,  2.56394242e+02,\n",
       "        2.56818817e+02,  2.57243066e+02,  2.57666988e+02,  2.58090584e+02,\n",
       "        2.58513855e+02,  2.58936802e+02,  2.59359426e+02,  2.59781725e+02,\n",
       "        2.60203703e+02,  2.60625358e+02,  2.61046692e+02,  2.61467705e+02,\n",
       "        2.61888397e+02,  2.62308770e+02,  2.62728824e+02,  2.63148560e+02,\n",
       "        2.63567978e+02,  2.63987079e+02,  2.64405864e+02,  2.64824333e+02,\n",
       "        2.65242488e+02,  2.65660329e+02,  2.66077856e+02,  2.66495071e+02,\n",
       "        2.66911975e+02,  2.67328567e+02,  2.67744849e+02,  2.68160821e+02,\n",
       "        2.68576484e+02,  2.68991839e+02,  2.69406887e+02,  2.69821628e+02,\n",
       "        2.70236063e+02,  2.70650192e+02,  2.71064017e+02,  2.71477538e+02,\n",
       "        2.71890755e+02,  2.72303670e+02,  2.72716284e+02,  2.73128596e+02,\n",
       "        2.73540607e+02,  2.73952319e+02,  2.74363732e+02,  2.74774847e+02,\n",
       "        2.75185664e+02,  2.75596184e+02,  2.76006407e+02,  2.76416335e+02,\n",
       "        2.76825968e+02,  2.77235307e+02,  2.77644353e+02,  2.78053105e+02,\n",
       "        2.78461565e+02,  2.78869734e+02,  2.79277612e+02,  2.79685200e+02,\n",
       "        2.80092498e+02,  2.80499508e+02,  2.80906229e+02,  2.81312663e+02,\n",
       "        2.81718810e+02,  2.82124671e+02,  2.82530246e+02,  2.82935537e+02,\n",
       "        2.83340543e+02,  2.83745267e+02,  2.84149707e+02,  2.84553865e+02,\n",
       "        2.84957741e+02,  2.85361337e+02,  2.85764652e+02,  2.86167688e+02,\n",
       "        2.86570445e+02,  2.86972924e+02,  2.87375125e+02,  2.87777049e+02,\n",
       "        2.88178697e+02,  2.88580068e+02,  2.88981164e+02,  2.89381986e+02,\n",
       "        2.89782532e+02,  2.90182805e+02,  2.90582804e+02,  2.90982531e+02,\n",
       "        2.91381984e+02,  2.91781166e+02,  2.92180076e+02,  2.92578716e+02,\n",
       "        2.92977084e+02,  2.93375183e+02,  2.93773012e+02,  2.94170573e+02,\n",
       "        2.94567864e+02,  2.94964888e+02,  2.95361644e+02,  2.95758133e+02,\n",
       "        2.96154355e+02,  2.96550311e+02,  2.96946002e+02,  2.97341427e+02,\n",
       "        2.97736588e+02,  2.98131485e+02,  2.98526118e+02,  2.98920487e+02,\n",
       "        2.99314594e+02,  2.99708439e+02,  3.00102022e+02,  3.00495343e+02,\n",
       "        3.00888404e+02,  3.01281204e+02,  3.01673744e+02,  3.02066025e+02,\n",
       "        3.02458047e+02,  3.02849810e+02,  3.03241316e+02,  3.03632564e+02,\n",
       "        3.04023554e+02,  3.04414289e+02,  3.04804767e+02,  3.05194989e+02,\n",
       "        3.05584956e+02,  3.05974668e+02,  3.06364126e+02,  3.06753330e+02,\n",
       "        3.07142281e+02,  3.07530979e+02,  3.07919424e+02,  3.08307617e+02,\n",
       "        3.08695559e+02,  3.09083249e+02,  3.09470689e+02,  3.09857879e+02,\n",
       "        3.10244819e+02,  3.10631510e+02,  3.11017952e+02,  3.11404145e+02,\n",
       "        3.11790091e+02,  3.12175789e+02,  3.12561240e+02,  3.12946444e+02,\n",
       "        3.13331403e+02,  3.13716116e+02,  3.14100584e+02,  3.14484809e+02,\n",
       "        3.14868789e+02,  3.15252527e+02,  3.15636022e+02,  3.16019275e+02,\n",
       "        3.16402286e+02,  3.16785057e+02,  3.17167588e+02,  3.17549879e+02,\n",
       "        3.17931931e+02,  3.18313744e+02,  3.18695319e+02,  3.19076657e+02,\n",
       "        3.19457758e+02,  3.19838623e+02,  3.20219252e+02,  3.20599646e+02,\n",
       "        3.20979805e+02,  3.21359730e+02,  3.21739422e+02,  3.22118880e+02,\n",
       "        3.22498107e+02,  3.22877101e+02,  3.23255864e+02,  3.23634396e+02,\n",
       "        3.24012698e+02,  3.24390770e+02,  3.24768613e+02,  3.25146228e+02,\n",
       "        3.25523614e+02,  3.25900773e+02,  3.26277705e+02,  3.26654410e+02,\n",
       "        3.27030889e+02,  3.27407144e+02,  3.27783173e+02,  3.28158978e+02,\n",
       "        3.28534559e+02,  3.28909917e+02,  3.29285052e+02,  3.29659965e+02,\n",
       "        3.30034656e+02,  3.30409127e+02,  3.30783376e+02,  3.31157406e+02,\n",
       "        3.31531216e+02,  3.31904807e+02,  3.32278179e+02,  3.32651333e+02,\n",
       "        3.33024270e+02,  3.33396991e+02,  3.33769494e+02,  3.34141782e+02,\n",
       "        3.34513854e+02,  3.34885712e+02,  3.35257355e+02,  3.35628784e+02,\n",
       "        3.36000000e+02])"
      ]
     },
     "execution_count": 9,
     "metadata": {},
     "output_type": "execute_result"
    }
   ],
   "source": [
    "GSP.f_xofe.x"
   ]
  },
  {
   "cell_type": "markdown",
   "metadata": {},
   "source": [
    "### Visualising test"
   ]
  },
  {
   "cell_type": "code",
   "execution_count": 10,
   "metadata": {},
   "outputs": [
    {
     "data": {
      "image/png": "[encoded data removed]",
      "text/plain": [
       "<Figure size 432x288 with 1 Axes>"
      ]
     },
     "metadata": {
      "needs_background": "light"
     },
     "output_type": "display_data"
    }
   ],
   "source": [
    "plt.plot(GSP.energy_raw, GSP.dEdX_raw, marker='o', label='dE/dx', linestyle='')\n",
    "plt.plot(GSP.energy_interp, GSP.f_dEdX(GSP.energy_interp), label='Interpolation')\n",
    "#plt.plot(energy, results.data[2], label='Sn')\n",
    "plt.legend()\n",
    "\n",
    "plt.xlabel('MeV')\n",
    "plt.ylabel('MeV/µm')\n",
    "plt.title(\"Stopping power\")\n",
    "#plt.xscale('log')\n",
    "#plt.yscale('log')\n",
    "#plt.xlim(1e-2, 1e2)\n",
    "#plt.ylim(1, None)\n",
    "plt.grid()\n",
    "#plt.show()"
   ]
  },
  {
   "cell_type": "code",
   "execution_count": 11,
   "metadata": {},
   "outputs": [
    {
     "data": {
      "image/png": "[encoded data removed]",
      "text/plain": [
       "<Figure size 432x288 with 1 Axes>"
      ]
     },
     "metadata": {
      "needs_background": "light"
     },
     "output_type": "display_data"
    }
   ],
   "source": [
    "plt.plot(GSP.energy_raw, GSP.range_raw, marker='o', label='Range', linestyle='')\n",
    "plt.plot(GSP.energy_interp, GSP.GetRange(GSP.energy_interp), label='Interpolation')\n",
    "#plt.plot(energy, results.data[2], label='Sn')\n",
    "plt.legend()\n",
    "\n",
    "plt.xlabel('MeV')\n",
    "plt.ylabel('µm')\n",
    "plt.title(\"Range\")\n",
    "#plt.xscale('log')\n",
    "#plt.yscale('log')\n",
    "#plt.xlim(1e-2, 1e2)\n",
    "#plt.ylim(1, None)\n",
    "plt.grid()\n",
    "#plt.show()"
   ]
  },
  {
   "cell_type": "code",
   "execution_count": 12,
   "metadata": {},
   "outputs": [
    {
     "data": {
      "image/png": "[encoded data removed]",
      "text/plain": [
       "<Figure size 1080x720 with 1 Axes>"
      ]
     },
     "metadata": {
      "needs_background": "light"
     },
     "output_type": "display_data"
    }
   ],
   "source": [
    "plt.figure(figsize=(15,10))\n",
    "plt.plot(GSP.x_loss, GSP.e_loss, marker='.', label='E(x)', linestyle='')\n",
    "plt.plot(GSP.x_loss, GSP.f_eofx(GSP.x_loss), marker='', label='Interp. E(x)', linestyle='-')\n",
    "plt.legend()\n",
    "\n",
    "plt.xlabel('µm')\n",
    "plt.ylabel('MeV')\n",
    "plt.title('Stopping, E(x)')\n",
    "#plt.xscale('log')\n",
    "#plt.yscale('log')\n",
    "#plt.xlim(1e-2, 1e2)\n",
    "#plt.ylim(1, None)\n",
    "plt.grid()\n",
    "#plt.show()"
   ]
  },
  {
   "cell_type": "code",
   "execution_count": null,
   "metadata": {},
   "outputs": [],
   "source": [
    "print(\"Successfully imported \\'GenerateStoppingPower\\'\\n\\tClass to Generate SRIM Stopping Power and calculate energy loss and traversed material.\")"
   ]
  }
 ],
 "metadata": {
  "kernelspec": {
   "display_name": "Python 3",
   "language": "python",
   "name": "python3"
  },
  "language_info": {
   "codemirror_mode": {
    "name": "ipython",
    "version": 3
   },
   "file_extension": ".py",
   "mimetype": "text/x-python",
   "name": "python",
   "nbconvert_exporter": "python",
   "pygments_lexer": "ipython3",
   "version": "3.7.4"
  }
 },
 "nbformat": 4,
 "nbformat_minor": 4
}
