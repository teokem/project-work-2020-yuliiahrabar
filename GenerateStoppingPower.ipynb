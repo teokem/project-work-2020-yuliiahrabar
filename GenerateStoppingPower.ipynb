{
 "cells": [
  {
   "cell_type": "markdown",
   "metadata": {},
   "source": [
    "# SRIM Calculations for stopping power and energy losses\n",
    "\n",
    "The calculations are based on SRIM stopping power tables."
   ]
  },
  {
   "cell_type": "code",
   "execution_count": null,
   "metadata": {},
   "outputs": [],
   "source": [
    "import numpy as np\n",
    "import matplotlib.pyplot as plt\n",
    "from scipy import interpolate\n",
    "\n",
    "from srim import SR, Ion, Layer, Target\n",
    "\n",
    "# directory where SRIM-2013 is located\n",
    "srim_executable_directory = '/home/anton/.srim/'"
   ]
  },
  {
   "cell_type": "markdown",
   "metadata": {},
   "source": [
    "## Extrapolations to transuranium elements"
   ]
  },
  {
   "cell_type": "markdown",
   "metadata": {},
   "source": [
    "It is a sea of unknown to find a good method to extrapolate stopping powers for transuranium elements.\n",
    "\n",
    "Some relevant sources:\n",
    "\n",
    "* General comparison of different models on the marker: [CriticalReviewStoppingPowers](CriticalReviewStoppingPowers.pdf)\n",
    "* Example of use of extrapolation model in superheavy element experiment: [Wittwer2010](Wittwer2010.pdf)\n",
    "* Calculation of effective charge: [P. Sigmund, 1997](https://journals.aps.org/pra/abstract/10.1103/PhysRevA.56.3781)\n",
    "* Other ways to calculate the effective charge: [Hubert](nucl-data-tables-stopping.pdf) & [Northcliffe](nucl-data-tables-stopping_low.pdf)\n",
    "\n",
    "The very basics can be explained as with the example of derivating stopping powers for No. By the use of the scaling relationship of the effective charge $q_{eff}$:\n",
    "\\begin{equation}\n",
    "S_{No} = \\frac{q_{eff, No}^2}{q_{eff, U}^2} S_U\n",
    "\\end{equation}\n",
    "Where $ S_U $  and $S_{No} $ is the stopping power of uranium and nobelium respectively. As given in [P. Sigmund, 1997](https://journals.aps.org/pra/abstract/10.1103/PhysRevA.56.3781) the effective charge is calculated as, \n",
    "\\begin{align}\n",
    "& q_{eff} = \\lambda Z e \\\\\n",
    "& \\lambda = \\sqrt{1-e^{-v_I/v_{TF}}}, \\ v_{TF} = Z^{2/3}v_{0} = Z^{2/3} \\alpha_{FS} c\n",
    "\\end{align}\n",
    "where $ Z $ is the proton number, $ e $ the electronic charge, $ \\alpha_{FS} $ the finestructure constant, $v_I$ is the ion velocity, and $ c $ the speed of light.  \n",
    "\n",
    "Other models quantifies the effective charge differently, otherwise the scaling factor relationship can still be utilised.\n",
    "\n",
    "#### Attenuation factor\n",
    "According to the [review on the stopping power models](CriticalReviewStoppingPowers.pdf), and [Wittwer2010](Wittwer2010.pdf), SRIM overestimates the stopping power in general for low energy and heavy ions. Therefore it seems natural to further include an attenuation factor for the extrapolated stopping powers.\n",
    "\n",
    "#### Target materials\n",
    "Concerning target materials of transuranium elements, it should be sufficient with a linear scaling factor of the $Z$ of the reference element to the transuranic element of desire, see [Bethe-Bloch](https://en.wikipedia.org/wiki/Bethe_formula). I.e.\n",
    "\n",
    "\\begin{equation}\n",
    "S_{No} = \\frac{Z_{No}}{Z_U} S_U\n",
    "\\end{equation}"
   ]
  },
  {
   "cell_type": "markdown",
   "metadata": {},
   "source": [
    "And here goes the implementation of the epSTF as introduced above."
   ]
  },
  {
   "cell_type": "code",
   "execution_count": null,
   "metadata": {},
   "outputs": [],
   "source": [
    "e_charge = 1.6021766e-19\n",
    "alpha_FS = 1./137\n",
    "c_vac = 299792458\n",
    "#c_vac = c_vac/1.9605\n",
    "u = 931.494\n",
    "def GetepSTF(z_ion, z_ref, A, S_ref, E):\n",
    "    v_TF_ion = z_ion**(2./3)*alpha_FS*c_vac\n",
    "    v_TF_ref = z_ref**(2./3)*alpha_FS*c_vac\n",
    "    v1 = np.sqrt(2*np.divide(E,A))\n",
    "    l_ion = np.sqrt(1-np.exp(-np.divide(v1, v_TF_ion)))\n",
    "    l_ref = np.sqrt(1-np.exp(-np.divide(v1, v_TF_ref)))\n",
    "    q_eff_ion = l_ion*z_ion\n",
    "    q_eff_ref = l_ref*z_ref\n",
    "    factor = np.square(np.divide(q_eff_ion, q_eff_ref))\n",
    "    S_ion = np.multiply(S_ref, factor)\n",
    "    return S_ion, factor"
   ]
  },
  {
   "cell_type": "markdown",
   "metadata": {},
   "source": [
    "## Test inputs - Ion and Stopping materials"
   ]
  },
  {
   "cell_type": "code",
   "execution_count": null,
   "metadata": {},
   "outputs": [],
   "source": [
    "# Construct beam\n",
    "A, E_per_A_max = 48, 7e6 # nucleon number, eV \n",
    "energy_max = A*E_per_A_max\n",
    "#print(\"Max energy=\", energy_max)\n",
    "test_ion = Ion('Ca', energy=energy_max, mass=A)\n",
    "\n",
    "# Al\n",
    "density = 2.70e3 #mg/cm3 (from wikipedia)\n",
    "# Construct a layer of Al, arbitrary width (as it is not relevant for these calcs)\n",
    "test_layer = Layer({\n",
    "    'Al': {\n",
    "        'stoich': 1\n",
    "        #'E_d': 35.0, # Displacement Energy\n",
    "        #'lattice': 0.0,\n",
    "        #'surface': 3.0\n",
    "    }\n",
    "}, density=1e-3*density, width=10000.0)"
   ]
  },
  {
   "cell_type": "code",
   "execution_count": null,
   "metadata": {},
   "outputs": [],
   "source": [
    "test_layer.elements"
   ]
  },
  {
   "cell_type": "markdown",
   "metadata": {},
   "source": [
    "## Class for the stopping power information"
   ]
  },
  {
   "cell_type": "code",
   "execution_count": null,
   "metadata": {},
   "outputs": [],
   "source": [
    "class GenerateStoppingPower():\n",
    "    \n",
    "    def __init__(self, layer, ion, z_ion = -1, Z = -1, Z_ref = -1, **kwargs):\n",
    "        #srim = SR(layer, ion, output_type=5, energy_min=1100) \n",
    "        #output_type = 5, means MeV / (mg/cm2)\n",
    "        srim = SR(layer, ion, output_type=5, energy_min=1001) \n",
    "        results = srim.run(srim_executable_directory)\n",
    "\n",
    "        self.energy_raw = 1e-3*results.data[0] #to MeV\n",
    "        self.dEdX_raw = (results.data[1]+results.data[2])*(layer.density*1e3)*1e-4 # sum of electric and nuclear stopping power and convert to MeV per µm\n",
    "        self.range_raw = results.data[3]\n",
    "        #results.units\n",
    "        \n",
    "        if z_ion != -1:\n",
    "            print(\"Extrapolating stopping power for ion with z=\", z_ion)\n",
    "            self.dEdX_raw, factor = GetepSTF(z_ion, ion.atomic_number, ion.mass, self.dEdX_raw, self.energy_raw)\n",
    "            print(\"Mean scaling factor:\", np.mean(factor))\n",
    "            \n",
    "        if Z != -1:\n",
    "            print(\"Extrapolating stopping power for material with Z=\", Z)\n",
    "            factor = (float(Z)/Z_ref)\n",
    "            self.dEdX_raw = factor*self.dEdX_raw\n",
    "            print(\"Scaling factor:\", factor)\n",
    "\n",
    "        #interpolation of stopping power and range\n",
    "        self.f_dEdX = interpolate.interp1d(self.energy_raw, self.dEdX_raw, kind='quadratic')\n",
    "        self.energy_interp = np.arange(np.min(self.energy_raw), np.max(self.energy_raw), 10)\n",
    "        self.f_range = interpolate.interp1d(self.energy_raw, self.range_raw, kind='quadratic')\n",
    "\n",
    "        \n",
    "        E_beam_0 = max(self.energy_raw) # MeV\n",
    "        step_size = 0.1 #µm\n",
    "        self.e_low_lim = 1.1e-3 # MeV\n",
    "\n",
    "        e_loss = list()\n",
    "        x_loss = list()\n",
    "\n",
    "        e, x = [], []\n",
    "        x_now = 0\n",
    "        E_beam = E_beam_0\n",
    "        e.append(E_beam)\n",
    "        x.append(x_now)\n",
    "        while E_beam > self.e_low_lim:\n",
    "            #print(\"E_beam =\",E_beam)\n",
    "            x_now += step_size\n",
    "            E_beam -= self.f_dEdX(E_beam)*step_size\n",
    "            e.append(E_beam)\n",
    "            x.append(x_now)\n",
    "        self.x_loss = np.asarray(x)\n",
    "        self.e_loss = np.asarray(e)\n",
    "        self.f_eofx = (interpolate.interp1d(self.x_loss, self.e_loss, kind='quadratic'))\n",
    "        self.f_xofe = (interpolate.interp1d(self.e_loss, self.x_loss, kind='quadratic'))  \n",
    "        \n",
    "        print(\"SRIM stopping power successfully calculated\")\n",
    "        print(\"\\tCalculate energy loss as a function of traversed target material with function \\'GetElossAfterX(E_init, x)'\")\n",
    "        print(\"\\tCalculate traversed target material as a function of energy loss \\'GetXAfterEloss(E_init, E_after)'\")\n",
    "        print(\"\\tCalculate range in material as a function of energy \\'GetRange(E_init)'\")\n",
    "        print(\"\\tUnits: MeV, µm\")\n",
    "\n",
    "        \n",
    "    def GetElossAfterX(self, E_init, x):\n",
    "        x_start = self.f_xofe(E_init)\n",
    "        #print(\"x_start=\", x_start, \"x_end=\", x_start+x)\n",
    "        return E_init - self.f_eofx(x_start+x)\n",
    "    \n",
    "    def GetXAfterEloss(self, E_init, E_after):\n",
    "        x_start = self.f_xofe(E_init)\n",
    "        return self.f_xofe(E_after) - x_start\n",
    "    \n",
    "    def GetRange(self, E_init, from_sr=False):\n",
    "        if from_sr:\n",
    "            return self.GetXAfterEloss(E_init, self.e_low_lim)\n",
    "        else:\n",
    "            return self.f_range(E_init)"
   ]
  },
  {
   "cell_type": "code",
   "execution_count": null,
   "metadata": {},
   "outputs": [],
   "source": [
    "GSP = GenerateStoppingPower(layer=test_layer, ion=test_ion)"
   ]
  },
  {
   "cell_type": "markdown",
   "metadata": {},
   "source": [
    "### Visualising test"
   ]
  },
  {
   "cell_type": "code",
   "execution_count": null,
   "metadata": {},
   "outputs": [],
   "source": [
    "plt.plot(GSP.energy_raw, GSP.dEdX_raw, marker='o', label='dE/dx', linestyle='')\n",
    "plt.plot(GSP.energy_interp, GSP.f_dEdX(GSP.energy_interp), label='Interpolation')\n",
    "#plt.plot(energy, results.data[2], label='Sn')\n",
    "plt.legend()\n",
    "\n",
    "plt.xlabel('MeV')\n",
    "plt.ylabel('MeV/µm')\n",
    "plt.title(\"Stopping power\")\n",
    "#plt.xscale('log')\n",
    "#plt.yscale('log')\n",
    "#plt.xlim(1e-2, 1e2)\n",
    "#plt.ylim(1, None)\n",
    "plt.grid()\n",
    "#plt.show()"
   ]
  },
  {
   "cell_type": "code",
   "execution_count": null,
   "metadata": {},
   "outputs": [],
   "source": [
    "plt.plot(GSP.energy_raw, GSP.range_raw, marker='o', label='Range', linestyle='')\n",
    "plt.plot(GSP.energy_interp, GSP.GetRange(GSP.energy_interp), label='Interpolation')\n",
    "#plt.plot(energy, results.data[2], label='Sn')\n",
    "plt.legend()\n",
    "\n",
    "plt.xlabel('MeV')\n",
    "plt.ylabel('µm')\n",
    "plt.title(\"Range\")\n",
    "#plt.xscale('log')\n",
    "#plt.yscale('log')\n",
    "#plt.xlim(1e-2, 1e2)\n",
    "#plt.ylim(1, None)\n",
    "plt.grid()\n",
    "#plt.show()"
   ]
  },
  {
   "cell_type": "code",
   "execution_count": null,
   "metadata": {},
   "outputs": [],
   "source": [
    "plt.figure(figsize=(15,10))\n",
    "plt.plot(GSP.x_loss, GSP.e_loss, marker='.', label='E(x)', linestyle='')\n",
    "plt.plot(GSP.x_loss, GSP.f_eofx(GSP.x_loss), marker='', label='Interp. E(x)', linestyle='-')\n",
    "plt.legend()\n",
    "\n",
    "plt.xlabel('µm')\n",
    "plt.ylabel('MeV')\n",
    "plt.title('Stopping, E(x)')\n",
    "#plt.xscale('log')\n",
    "#plt.yscale('log')\n",
    "#plt.xlim(1e-2, 1e2)\n",
    "#plt.ylim(1, None)\n",
    "plt.grid()\n",
    "#plt.show()"
   ]
  },
  {
   "cell_type": "code",
   "execution_count": null,
   "metadata": {},
   "outputs": [],
   "source": [
    "print(\"Successfully imported \\'GenerateStoppingPower\\'\\n\\tClass to Generate SRIM Stopping Power and calculate energy loss and traversed material.\")"
   ]
  }
 ],
 "metadata": {
  "kernelspec": {
   "display_name": "Python 3",
   "language": "python",
   "name": "python3"
  },
  "language_info": {
   "codemirror_mode": {
    "name": "ipython",
    "version": 3
   },
   "file_extension": ".py",
   "mimetype": "text/x-python",
   "name": "python",
   "nbconvert_exporter": "python",
   "pygments_lexer": "ipython3",
   "version": "3.6.5"
  }
 },
 "nbformat": 4,
 "nbformat_minor": 2
}
