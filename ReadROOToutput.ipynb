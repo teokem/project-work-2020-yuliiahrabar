{
 "cells": [
  {
   "cell_type": "code",
   "execution_count": 1,
   "metadata": {},
   "outputs": [
    {
     "name": "stdout",
     "output_type": "stream",
     "text": [
      "Welcome to JupyROOT 6.18/02\n"
     ]
    }
   ],
   "source": [
    "import ROOT "
   ]
  },
  {
   "cell_type": "code",
   "execution_count": 2,
   "metadata": {},
   "outputs": [],
   "source": [
    "f = ROOT.TFile.Open(\"PICOSpec_run0.root\")\n",
    "\n",
    "rawTree = f.Get(\"PICO_tree_raw\")"
   ]
  },
  {
   "cell_type": "code",
   "execution_count": 3,
   "metadata": {},
   "outputs": [
    {
     "name": "stdout",
     "output_type": "stream",
     "text": [
      "******************************************************************************\n",
      "*Tree    :PICO_tree_raw: TTree contain PICOSpec RAW event info                  *\n",
      "*Entries :        2 : Total =            4771 bytes  File  Size =       1712 *\n",
      "*        :          : Tree compression factor =   1.00                       *\n",
      "******************************************************************************\n",
      "*Br    0 :Mult      : Mult/I                                                 *\n",
      "*Entries :        2 : Total  Size=        569 bytes  File Size  =         88 *\n",
      "*Baskets :        1 : Basket Size=      32000 bytes  Compression=   1.00     *\n",
      "*............................................................................*\n",
      "*Br    1 :det_ID    : detector_ID[Mult]/I                                    *\n",
      "*Entries :        2 : Total  Size=        694 bytes  File Size  =        110 *\n",
      "*Baskets :        1 : Basket Size=      32000 bytes  Compression=   1.00     *\n",
      "*............................................................................*\n",
      "*Br    2 :Energy    : energy[Mult]/D                                         *\n",
      "*Entries :        2 : Total  Size=        706 bytes  File Size  =        122 *\n",
      "*Baskets :        1 : Basket Size=      32000 bytes  Compression=   1.00     *\n",
      "*............................................................................*\n",
      "*Br    3 :Xpos      : x[Mult]/D                                              *\n",
      "*Entries :        2 : Total  Size=        687 bytes  File Size  =        120 *\n",
      "*Baskets :        1 : Basket Size=      32000 bytes  Compression=   1.00     *\n",
      "*............................................................................*\n",
      "*Br    4 :Ypos      : y[Mult]/D                                              *\n",
      "*Entries :        2 : Total  Size=        687 bytes  File Size  =        120 *\n",
      "*Baskets :        1 : Basket Size=      32000 bytes  Compression=   1.00     *\n",
      "*............................................................................*\n",
      "*Br    5 :Zpos      : z[Mult]/D                                              *\n",
      "*Entries :        2 : Total  Size=        687 bytes  File Size  =        120 *\n",
      "*Baskets :        1 : Basket Size=      32000 bytes  Compression=   1.00     *\n",
      "*............................................................................*\n",
      "*Br    6 :Globaltime : globalTime[Mult]/D                                    *\n",
      "*Entries :        2 : Total  Size=        726 bytes  File Size  =        126 *\n",
      "*Baskets :        1 : Basket Size=      32000 bytes  Compression=   1.00     *\n",
      "*............................................................................*\n"
     ]
    }
   ],
   "source": [
    "rawTree.Print()"
   ]
  },
  {
   "cell_type": "code",
   "execution_count": 4,
   "metadata": {},
   "outputs": [],
   "source": [
    "nEntries = rawTree.GetEntries()\n"
   ]
  },
  {
   "cell_type": "code",
   "execution_count": 5,
   "metadata": {},
   "outputs": [
    {
     "name": "stdout",
     "output_type": "stream",
     "text": [
      "46.82737815903978\n",
      "64.8414262484521\n"
     ]
    },
    {
     "data": {
      "image/png": "[encoded data removed]",
      "text/plain": [
       "<IPython.core.display.Image object>"
      ]
     },
     "metadata": {},
     "output_type": "display_data"
    }
   ],
   "source": [
    "c = ROOT.TCanvas('c', 'canvas title')\n",
    "h1 = ROOT.TH1F(\"h1\", 'Histogram 1; x axis; y axis', 100, 0, 100)\n",
    "for event in rawTree:\n",
    "    #print(event.Energy, event.Mult) \n",
    "    for i in range(event.Mult):\n",
    "        if 0 < event.det_ID[i] < 1024:\n",
    "            print(event.Energy[i])\n",
    "            h1.Fill(event.Energy[i])\n",
    "\n",
    "h1.Draw()\n",
    "c.Update()\n",
    "c.Draw()"
   ]
  },
  {
   "cell_type": "code",
   "execution_count": 6,
   "metadata": {},
   "outputs": [
    {
     "name": "stdout",
     "output_type": "stream",
     "text": [
      "46.82737815903978\n",
      "64.8414262484521\n"
     ]
    },
    {
     "name": "stderr",
     "output_type": "stream",
     "text": [
      "Warning in <TCanvas::Constructor>: Deleting canvas with same name: c\n",
      "Warning in <TFile::Append>: Replacing existing TH1: h1 (Potential memory leak).\n"
     ]
    },
    {
     "data": {
      "image/png": "[encoded data removed]",
      "text/plain": [
       "<IPython.core.display.Image object>"
      ]
     },
     "metadata": {},
     "output_type": "display_data"
    }
   ],
   "source": [
    "c = ROOT.TCanvas('c', 'canvas title')\n",
    "h1 = ROOT.TH1F(\"h1\", 'Histogram 1; x axis; y axis', 100, 0, 100)\n",
    "for event in rawTree:\n",
    "    #print(event.Energy, event.Mult) \n",
    "    for i in range(event.Mult):\n",
    "        if 0 < event.det_ID[i] < 1024:\n",
    "            print(event.Energy[i])\n",
    "            h1.Fill(event.Energy[i])\n",
    "\n",
    "h1.Draw()\n",
    "c.Update()\n",
    "c.Draw()\n",
    "        "
   ]
  },
  {
   "cell_type": "code",
   "execution_count": 9,
   "metadata": {},
   "outputs": [
    {
     "name": "stdout",
     "output_type": "stream",
     "text": [
      "46.82737815903978\n",
      "64.8414262484521\n"
     ]
    },
    {
     "name": "stderr",
     "output_type": "stream",
     "text": [
      "Warning in <TCanvas::Constructor>: Deleting canvas with same name: c1\n",
      "Warning in <TFile::Append>: Replacing existing TH1: h2 (Potential memory leak).\n"
     ]
    },
    {
     "data": {
      "image/png": "[encoded data removed]",
      "text/plain": [
       "<IPython.core.display.Image object>"
      ]
     },
     "metadata": {},
     "output_type": "display_data"
    }
   ],
   "source": [
    "c1 = ROOT.TCanvas(\"c1\",\"2D histogram \", 500, 0, 500, 800);\n",
    "h2 = ROOT.TH2F(\"h2\",\"hist\", 100, -5, 100., 100, -5, 100.); #filling 2D histogram \n",
    "for event in rawTree:\n",
    "    #print(event.Energy, event.Mult) \n",
    "    E_imp = 0\n",
    "    E_box = 0\n",
    "    for i in range(event.Mult):\n",
    "        if 0 < event.det_ID[i] < 2048:\n",
    "            if 0 < event.det_ID[i] < 1024:  # event in implantation detector \n",
    "                print(event.Energy[i])\n",
    "                E_imp = event.Energy[i]\n",
    "            if 1024 < event.det_ID[i] < 2048: # event in box detector\n",
    "                print(event.Energy[i])\n",
    "                E_box = event.Energy[i]\n",
    "            h2.Fill(E_imp, E_box)\n",
    "h2.Draw()\n",
    "c1.Update()\n",
    "c1.Draw()"
   ]
  },
  {
   "cell_type": "code",
   "execution_count": null,
   "metadata": {},
   "outputs": [],
   "source": []
  },
  {
   "cell_type": "code",
   "execution_count": null,
   "metadata": {},
   "outputs": [],
   "source": []
  }
 ],
 "metadata": {
  "kernelspec": {
   "display_name": "Python 3",
   "language": "python",
   "name": "python3"
  },
  "language_info": {
   "codemirror_mode": {
    "name": "ipython",
    "version": 3
   },
   "file_extension": ".py",
   "mimetype": "text/x-python",
   "name": "python",
   "nbconvert_exporter": "python",
   "pygments_lexer": "ipython3",
   "version": "3.7.4"
  }
 },
 "nbformat": 4,
 "nbformat_minor": 2
}
