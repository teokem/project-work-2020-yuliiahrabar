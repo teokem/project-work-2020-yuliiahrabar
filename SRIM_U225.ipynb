{
 "cells": [
  {
   "cell_type": "markdown",
   "metadata": {},
   "source": [
    "# SRIM Calculations for stopping power and energy losses for U-225 as created in Ca-48 on Hf target\n",
    "\n",
    "The calculations are based on SRIM stopping power tables."
   ]
  },
  {
   "cell_type": "code",
   "execution_count": 1,
   "metadata": {},
   "outputs": [],
   "source": [
    "import numpy as np\n",
    "import matplotlib.pyplot as plt\n",
    "from scipy import interpolate\n",
    "\n",
    "from srim import SR, Ion, Layer, Target\n",
    "\n",
    "# directory where SRIM-2013 is located\n",
    "srim_executable_directory = '/home/anton/.srim/'"
   ]
  },
  {
   "cell_type": "markdown",
   "metadata": {},
   "source": [
    "## Initialise parameters"
   ]
  },
  {
   "cell_type": "code",
   "execution_count": 2,
   "metadata": {},
   "outputs": [],
   "source": [
    "targets = [\"Hf\"]\n",
    "layers = []\n",
    "densities = []"
   ]
  },
  {
   "cell_type": "markdown",
   "metadata": {},
   "source": [
    "## Stopping materials"
   ]
  },
  {
   "cell_type": "code",
   "execution_count": 3,
   "metadata": {},
   "outputs": [],
   "source": [
    "# Hf\n",
    "density = 13.31e3 #mg/cm3 (from wikipedia)\n",
    "densities.append(density)\n",
    "# Construct a layer of Hf, arbitrary width (as it is not relevant for these calcs)\n",
    "layers.append(Layer({\n",
    "    'Hf': {\n",
    "        'stoich': 1\n",
    "        #'E_d': 35.0, # Displacement Energy\n",
    "        #'lattice': 0.0,\n",
    "        #'surface': 3.0\n",
    "    }\n",
    "}, density=1e-3*density, width=10000.0))"
   ]
  },
  {
   "cell_type": "markdown",
   "metadata": {},
   "source": [
    "## Generating relevant stopping power data for U-225"
   ]
  },
  {
   "cell_type": "code",
   "execution_count": 4,
   "metadata": {},
   "outputs": [
    {
     "name": "stdout",
     "output_type": "stream",
     "text": [
      "Max energy= 1575000000.0\n"
     ]
    }
   ],
   "source": [
    "# Construct beam\n",
    "A, E_per_A_max = 225, 7e6 # nucleon number, eV \n",
    "energy_max = A*E_per_A_max\n",
    "print(\"Max energy=\", energy_max)\n",
    "ion = Ion('Ca', energy=energy_max, mass=A)\n",
    "\n",
    "f_dEdX = []\n",
    "e_raw = []\n",
    "e_interp = []\n",
    "dEdX_raw = []\n",
    "\n",
    "for i, layer in enumerate(layers):\n",
    "    target = Target([layer])\n",
    "\n",
    "    #output_type = 5, means MeV / (mg/cm2)\n",
    "    srim = SR(layer, ion, output_type=5, energy_min=1100) \n",
    "    results = srim.run(srim_executable_directory)\n",
    "\n",
    "    energy = 1e-3*results.data[0] #to MeV\n",
    "    dEdX_raw_tmp = (results.data[1]+results.data[2])*densities[i]*1e-4 # sum of electric and nuclear stopping power and convert to MeV per µm\n",
    "    proj_range = results.data[3]\n",
    "    #results.units\n",
    "\n",
    "    #interpolation of stopping power\n",
    "    f_dEdX_tmp = interpolate.interp1d(energy, dEdX_raw_tmp, kind='quadratic')\n",
    "    energy_interp = np.arange(np.min(energy), np.max(energy), 10)\n",
    "    #print(len(energy_interp))\n",
    "    f_dEdX.append(f_dEdX_tmp)\n",
    "    dEdX_raw.append(dEdX_raw_tmp)\n",
    "    e_raw.append(energy)\n",
    "    e_interp.append(energy_interp)"
   ]
  },
  {
   "cell_type": "code",
   "execution_count": 5,
   "metadata": {},
   "outputs": [
    {
     "data": {
      "image/png": "[encoded data removed]",
      "text/plain": [
       "<Figure size 432x288 with 1 Axes>"
      ]
     },
     "metadata": {
      "needs_background": "light"
     },
     "output_type": "display_data"
    }
   ],
   "source": [
    "index = 0\n",
    "plt.plot(e_raw[index], dEdX_raw[index], marker='o', label='dE/dx', linestyle='')\n",
    "plt.plot(e_interp[index], f_dEdX[index](e_interp[index]), label='Interpolation')\n",
    "#plt.plot(energy, results.data[2], label='Sn')\n",
    "plt.legend()\n",
    "\n",
    "plt.xlabel('MeV')\n",
    "plt.ylabel('MeV/µm')\n",
    "plt.title(\"Ca-48 in \" + targets[index])\n",
    "#plt.xscale('log')\n",
    "#plt.yscale('log')\n",
    "#plt.xlim(1e-2, 1e2)\n",
    "#plt.ylim(1, None)\n",
    "plt.grid()\n",
    "#plt.show()"
   ]
  },
  {
   "cell_type": "markdown",
   "metadata": {},
   "source": [
    "## Creating helper interpolated functions for energy losses as a function of distance "
   ]
  },
  {
   "cell_type": "code",
   "execution_count": 6,
   "metadata": {},
   "outputs": [],
   "source": [
    "E_beam_0 = 200 # MeV\n",
    "step_size = 0.1 #µm\n",
    "e_low_lim = 1 # MeV\n",
    "\n",
    "e_loss = list()\n",
    "x_loss = list()\n",
    "\n",
    "f_eofxs_U225 = {}\n",
    "f_xofes_U225 = {}\n",
    "\n",
    "for i, layer in enumerate(layers):\n",
    "    e, x = [], []\n",
    "    x_now = 0\n",
    "    E_beam = E_beam_0\n",
    "    e.append(E_beam)\n",
    "    x.append(x_now)\n",
    "    while E_beam > e_low_lim:\n",
    "        x_now += step_size\n",
    "        E_beam -= f_dEdX[i](E_beam)*step_size\n",
    "        e.append(E_beam)\n",
    "        x.append(x_now)\n",
    "    x = np.asarray(x)\n",
    "    e = np.asarray(e)\n",
    "    e_loss.append(e)\n",
    "    x_loss.append(x)\n",
    "    f_eofxs_U225[targets[i]] = (interpolate.interp1d(x, e, kind='quadratic'))\n",
    "    f_xofes_U225[targets[i]] = (interpolate.interp1d(e, x, kind='quadratic'))    "
   ]
  },
  {
   "cell_type": "code",
   "execution_count": 7,
   "metadata": {},
   "outputs": [
    {
     "data": {
      "text/plain": [
       "(1, 1)"
      ]
     },
     "execution_count": 7,
     "metadata": {},
     "output_type": "execute_result"
    }
   ],
   "source": [
    "len(layers), len(targets)"
   ]
  },
  {
   "cell_type": "code",
   "execution_count": 8,
   "metadata": {},
   "outputs": [
    {
     "data": {
      "image/png": "[encoded data removed]",
      "text/plain": [
       "<Figure size 1080x720 with 1 Axes>"
      ]
     },
     "metadata": {
      "needs_background": "light"
     },
     "output_type": "display_data"
    }
   ],
   "source": [
    "index = 0\n",
    "target = targets[index]\n",
    "plt.figure(figsize=(15,10))\n",
    "plt.plot(x_loss[index], e_loss[index], marker='.', label='E(x)', linestyle='')\n",
    "plt.plot(x_loss[index], f_eofxs_U225[target](x_loss[index]), marker='', label='Interp. E(x)', linestyle='-')\n",
    "plt.legend()\n",
    "\n",
    "plt.xlabel('µm')\n",
    "plt.ylabel('MeV')\n",
    "plt.title('U-225 stopping in '+targets[index])\n",
    "#plt.xscale('log')\n",
    "#plt.yscale('log')\n",
    "#plt.xlim(1e-2, 1e2)\n",
    "#plt.ylim(1, None)\n",
    "plt.grid()\n",
    "#plt.show()"
   ]
  },
  {
   "cell_type": "markdown",
   "metadata": {},
   "source": [
    "Defining function to obtain the energy loss of an beam with a certain energy, traversing the material with thickness x"
   ]
  },
  {
   "cell_type": "code",
   "execution_count": 9,
   "metadata": {},
   "outputs": [],
   "source": [
    "def e_loss_x_U225(E_init, x, target):\n",
    "    x_start = f_xofes_U225[target](E_init)\n",
    "    #print(\"x_start=\", x_start, \"x_end=\", x_start+x)\n",
    "    return E_init - f_eofxs_U225[target](x_start+x)"
   ]
  },
  {
   "cell_type": "markdown",
   "metadata": {},
   "source": [
    "Defining function to obtain the traversed material thickness x after an energy loss of beam with a certain initial energy."
   ]
  },
  {
   "cell_type": "code",
   "execution_count": 10,
   "metadata": {},
   "outputs": [],
   "source": [
    "def x_loss_e_U225(E_init, E_after, target):\n",
    "    x_start = f_xofes_U225[target](E_init)\n",
    "    return f_xofes_U225[target](E_after) - x_start"
   ]
  },
  {
   "cell_type": "code",
   "execution_count": 11,
   "metadata": {},
   "outputs": [
    {
     "name": "stdout",
     "output_type": "stream",
     "text": [
      "SRIM calculations of U-225 successful for the following target materials: ['Hf']\n",
      "\n",
      "\tCalculate energy loss as a function of traversed target material with function 'e_loss_x_U225(E_init, x, target)'\n",
      "\n",
      "\tCalculate traversed target material as a function of energy loss 'x_loss_e_U225(E_init, E_after, target)'\n"
     ]
    }
   ],
   "source": [
    "print(\"SRIM calculations of U-225 successful for the following target materials:\", targets)\n",
    "print(\"\\n\\tCalculate energy loss as a function of traversed target material with function \\'e_loss_x_U225(E_init, x, target)'\")\n",
    "print(\"\\n\\tCalculate traversed target material as a function of energy loss \\'x_loss_e_U225(E_init, E_after, target)'\")"
   ]
  }
 ],
 "metadata": {
  "kernelspec": {
   "display_name": "Python 3",
   "language": "python",
   "name": "python3"
  },
  "language_info": {
   "codemirror_mode": {
    "name": "ipython",
    "version": 3
   },
   "file_extension": ".py",
   "mimetype": "text/x-python",
   "name": "python",
   "nbconvert_exporter": "python",
   "pygments_lexer": "ipython3",
   "version": "3.6.5"
  }
 },
 "nbformat": 4,
 "nbformat_minor": 2
}
