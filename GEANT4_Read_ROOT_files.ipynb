{
 "cells": [
  {
   "cell_type": "markdown",
   "metadata": {},
   "source": [
    "# Reading simulation data from GEANT4 .root output files"
   ]
  },
  {
   "cell_type": "markdown",
   "metadata": {},
   "source": [
    "Results of Geant4 simulations are stored in ROOT tree format in .root files with naming scheme as \"PICOSpec_TKE_A1_A2.root\", where TKE is a total kinetic energy of fission fragments with mass numbers A1 and A2."
   ]
  },
  {
   "cell_type": "markdown",
   "metadata": {},
   "source": [
    "# Importing python packages<a name=\"import\"></a>"
   ]
  },
  {
   "cell_type": "markdown",
   "metadata": {},
   "source": [
    "Packages for reading, storing and manipulating data:"
   ]
  },
  {
   "cell_type": "code",
   "execution_count": 1,
   "metadata": {},
   "outputs": [
    {
     "name": "stdout",
     "output_type": "stream",
     "text": [
      "Welcome to JupyROOT 6.18/02\n"
     ]
    }
   ],
   "source": [
    "import ROOT # for working with Geant4 output files of .root format \n",
    "import pandas as pd # to process large data sets\n",
    "import numpy as np # to perform numerical operations"
   ]
  },
  {
   "cell_type": "markdown",
   "metadata": {},
   "source": [
    "Packages used in order to find all .root files in specified location "
   ]
  },
  {
   "cell_type": "code",
   "execution_count": 2,
   "metadata": {},
   "outputs": [],
   "source": [
    "import os # to be able to perform pathways manipulations\n",
    "import glob # for finding files of specific format \n",
    "import re # used for reading int variables from filename"
   ]
  },
  {
   "cell_type": "markdown",
   "metadata": {},
   "source": [
    "# Extracting information from ROOT trees"
   ]
  },
  {
   "cell_type": "markdown",
   "metadata": {},
   "source": [
    "Extracting information from ROOT trees into pandas DataFrame. "
   ]
  },
  {
   "cell_type": "code",
   "execution_count": 3,
   "metadata": {},
   "outputs": [
    {
     "data": {
      "text/html": [
       "<div>\n",
       "<style scoped>\n",
       "    .dataframe tbody tr th:only-of-type {\n",
       "        vertical-align: middle;\n",
       "    }\n",
       "\n",
       "    .dataframe tbody tr th {\n",
       "        vertical-align: top;\n",
       "    }\n",
       "\n",
       "    .dataframe thead th {\n",
       "        text-align: right;\n",
       "    }\n",
       "</style>\n",
       "<table border=\"1\" class=\"dataframe\">\n",
       "  <thead>\n",
       "    <tr style=\"text-align: right;\">\n",
       "      <th></th>\n",
       "      <th>TKE</th>\n",
       "      <th>A1</th>\n",
       "      <th>A2</th>\n",
       "      <th>Event</th>\n",
       "      <th>Energy</th>\n",
       "      <th>DetID</th>\n",
       "    </tr>\n",
       "  </thead>\n",
       "  <tbody>\n",
       "  </tbody>\n",
       "</table>\n",
       "</div>"
      ],
      "text/plain": [
       "Empty DataFrame\n",
       "Columns: [TKE, A1, A2, Event, Energy, DetID]\n",
       "Index: []"
      ]
     },
     "execution_count": 3,
     "metadata": {},
     "output_type": "execute_result"
    }
   ],
   "source": [
    "# Creating DataFrame to fill from ROOT data files\n",
    "data = pd.DataFrame({'TKE': [], 'A1': [], 'A2': [], 'Event': [], 'Energy': [], 'DetID': []}) \n",
    "data"
   ]
  },
  {
   "cell_type": "code",
   "execution_count": 4,
   "metadata": {},
   "outputs": [
    {
     "name": "stdout",
     "output_type": "stream",
     "text": [
      "Reading data from file:  data/PICOSpec_275_142_142.root\n",
      "TKE=275, A1=142, A2=142\n",
      "Reading data from file:  data/PICOSpec_250_76_208.root\n",
      "TKE=250, A1=76, A2=208\n",
      "Reading data from file:  data/PICOSpec_275_76_208.root\n",
      "TKE=275, A1=76, A2=208\n",
      "Reading data from file:  data/PICOSpec_225_76_208.root\n",
      "TKE=225, A1=76, A2=208\n",
      "Reading data from file:  data/PICOSpec_275_109_175.root\n",
      "TKE=275, A1=109, A2=175\n",
      "Reading data from file:  data/PICOSpec_250_109_175.root\n",
      "TKE=250, A1=109, A2=175\n",
      "Reading data from file:  data/PICOSpec_225_142_142.root\n",
      "TKE=225, A1=142, A2=142\n",
      "Reading data from file:  data/PICOSpec_250_142_142.root\n",
      "TKE=250, A1=142, A2=142\n",
      "Reading data from file:  data/PICOSpec_225_109_175.root\n",
      "TKE=225, A1=109, A2=175\n"
     ]
    }
   ],
   "source": [
    "#for filepath in glob.glob(os.path.join('resources', '*.root')):\n",
    "for filepath in glob.glob(os.path.join('data', '*.root')):\n",
    "    print('Reading data from file: ', filepath)\n",
    "    regex = re.compile(r'\\d+')\n",
    "    idet = [int(x) for x in regex.findall(filepath)] # read TKE, A1, A2 from filename\n",
    "    print('TKE={}, A1={}, A2={}'.format(idet[0], idet[1], idet[2]))\n",
    "    f = ROOT.TFile.Open(filepath)\n",
    "    rawTree = f.Get(\"PICO_tree_raw\")\n",
    "    for idx, event in enumerate(rawTree): \n",
    "        for i in range(event.Mult):\n",
    "            data = data.append({'TKE': idet[0], 'A1': idet[1], 'A2': idet[2], 'Event': idx,'Energy': event.Energy[i], 'DetID': event.det_ID[i]}, ignore_index=True)\n"
   ]
  },
  {
   "cell_type": "code",
   "execution_count": 5,
   "metadata": {},
   "outputs": [],
   "source": [
    "data.set_index(['TKE', 'A1', 'A2'],inplace=True)"
   ]
  },
  {
   "cell_type": "markdown",
   "metadata": {},
   "source": [
    "Below is the final `DataFrame` with all relevant results produced by running simulations in Geant4. Simulations were run with fission products **A1** and **A2** and total kinetic energy **TKE**. For each simulations all **Event**s were extracted from ROOT trees. There are multiple hits of different **Energy** in different pixels **DetID** of detectors of TASISpec set-up."
   ]
  },
  {
   "cell_type": "code",
   "execution_count": 6,
   "metadata": {},
   "outputs": [
    {
     "data": {
      "text/html": [
       "<div>\n",
       "<style scoped>\n",
       "    .dataframe tbody tr th:only-of-type {\n",
       "        vertical-align: middle;\n",
       "    }\n",
       "\n",
       "    .dataframe tbody tr th {\n",
       "        vertical-align: top;\n",
       "    }\n",
       "\n",
       "    .dataframe thead th {\n",
       "        text-align: right;\n",
       "    }\n",
       "</style>\n",
       "<table border=\"1\" class=\"dataframe\">\n",
       "  <thead>\n",
       "    <tr style=\"text-align: right;\">\n",
       "      <th></th>\n",
       "      <th></th>\n",
       "      <th></th>\n",
       "      <th>Event</th>\n",
       "      <th>Energy</th>\n",
       "      <th>DetID</th>\n",
       "    </tr>\n",
       "    <tr>\n",
       "      <th>TKE</th>\n",
       "      <th>A1</th>\n",
       "      <th>A2</th>\n",
       "      <th></th>\n",
       "      <th></th>\n",
       "      <th></th>\n",
       "    </tr>\n",
       "  </thead>\n",
       "  <tbody>\n",
       "    <tr>\n",
       "      <th rowspan=\"5\" valign=\"top\">275.0</th>\n",
       "      <th rowspan=\"5\" valign=\"top\">142.0</th>\n",
       "      <th>142.0</th>\n",
       "      <td>0.0</td>\n",
       "      <td>194026.558304</td>\n",
       "      <td>593.0</td>\n",
       "    </tr>\n",
       "    <tr>\n",
       "      <th>142.0</th>\n",
       "      <td>0.0</td>\n",
       "      <td>21016.307741</td>\n",
       "      <td>1209.0</td>\n",
       "    </tr>\n",
       "    <tr>\n",
       "      <th>142.0</th>\n",
       "      <td>1.0</td>\n",
       "      <td>201667.370187</td>\n",
       "      <td>878.0</td>\n",
       "    </tr>\n",
       "    <tr>\n",
       "      <th>142.0</th>\n",
       "      <td>1.0</td>\n",
       "      <td>3609.370434</td>\n",
       "      <td>1919.0</td>\n",
       "    </tr>\n",
       "    <tr>\n",
       "      <th>142.0</th>\n",
       "      <td>2.0</td>\n",
       "      <td>198400.728601</td>\n",
       "      <td>496.0</td>\n",
       "    </tr>\n",
       "    <tr>\n",
       "      <th>...</th>\n",
       "      <th>...</th>\n",
       "      <th>...</th>\n",
       "      <td>...</td>\n",
       "      <td>...</td>\n",
       "      <td>...</td>\n",
       "    </tr>\n",
       "    <tr>\n",
       "      <th rowspan=\"5\" valign=\"top\">225.0</th>\n",
       "      <th rowspan=\"5\" valign=\"top\">109.0</th>\n",
       "      <th>175.0</th>\n",
       "      <td>2490.0</td>\n",
       "      <td>27263.896950</td>\n",
       "      <td>1468.0</td>\n",
       "    </tr>\n",
       "    <tr>\n",
       "      <th>175.0</th>\n",
       "      <td>2491.0</td>\n",
       "      <td>182485.562287</td>\n",
       "      <td>494.0</td>\n",
       "    </tr>\n",
       "    <tr>\n",
       "      <th>175.0</th>\n",
       "      <td>2492.0</td>\n",
       "      <td>197704.526139</td>\n",
       "      <td>594.0</td>\n",
       "    </tr>\n",
       "    <tr>\n",
       "      <th>175.0</th>\n",
       "      <td>2493.0</td>\n",
       "      <td>138511.989400</td>\n",
       "      <td>558.0</td>\n",
       "    </tr>\n",
       "    <tr>\n",
       "      <th>175.0</th>\n",
       "      <td>2493.0</td>\n",
       "      <td>29125.560690</td>\n",
       "      <td>1933.0</td>\n",
       "    </tr>\n",
       "  </tbody>\n",
       "</table>\n",
       "<p>30071 rows × 3 columns</p>\n",
       "</div>"
      ],
      "text/plain": [
       "                    Event         Energy   DetID\n",
       "TKE   A1    A2                                  \n",
       "275.0 142.0 142.0     0.0  194026.558304   593.0\n",
       "            142.0     0.0   21016.307741  1209.0\n",
       "            142.0     1.0  201667.370187   878.0\n",
       "            142.0     1.0    3609.370434  1919.0\n",
       "            142.0     2.0  198400.728601   496.0\n",
       "...                   ...            ...     ...\n",
       "225.0 109.0 175.0  2490.0   27263.896950  1468.0\n",
       "            175.0  2491.0  182485.562287   494.0\n",
       "            175.0  2492.0  197704.526139   594.0\n",
       "            175.0  2493.0  138511.989400   558.0\n",
       "            175.0  2493.0   29125.560690  1933.0\n",
       "\n",
       "[30071 rows x 3 columns]"
      ]
     },
     "execution_count": 6,
     "metadata": {},
     "output_type": "execute_result"
    }
   ],
   "source": [
    "data"
   ]
  },
  {
   "cell_type": "markdown",
   "metadata": {},
   "source": [
    "## Storing extracted ROOT data as DataFrame into binary file"
   ]
  },
  {
   "cell_type": "code",
   "execution_count": 7,
   "metadata": {},
   "outputs": [],
   "source": [
    "data.to_pickle('fission_data.pk1')"
   ]
  },
  {
   "cell_type": "code",
   "execution_count": 8,
   "metadata": {},
   "outputs": [],
   "source": [
    "del data "
   ]
  }
 ],
 "metadata": {
  "kernelspec": {
   "display_name": "Python 3",
   "language": "python",
   "name": "python3"
  },
  "language_info": {
   "codemirror_mode": {
    "name": "ipython",
    "version": 3
   },
   "file_extension": ".py",
   "mimetype": "text/x-python",
   "name": "python",
   "nbconvert_exporter": "python",
   "pygments_lexer": "ipython3",
   "version": "3.8.2"
  }
 },
 "nbformat": 4,
 "nbformat_minor": 4
}
