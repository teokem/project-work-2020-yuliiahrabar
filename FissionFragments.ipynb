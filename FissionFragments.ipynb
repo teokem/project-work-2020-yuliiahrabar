{
 "cells": [
  {
   "cell_type": "markdown",
   "metadata": {},
   "source": [
    "# Calculations - Fission fragments"
   ]
  },
  {
   "cell_type": "code",
   "execution_count": null,
   "metadata": {},
   "outputs": [],
   "source": [
    "%run SRIM_Ca48.ipynb\n",
    "%run GenerateStoppingPower.ipynb"
   ]
  },
  {
   "cell_type": "code",
   "execution_count": null,
   "metadata": {},
   "outputs": [],
   "source": [
    "import numpy as np\n",
    "import matplotlib.pyplot as plt\n",
    "import time\n",
    "import scipy.linalg\n",
    "from matplotlib import colors\n",
    "import matplotlib as mpl\n",
    "from matplotlib import cm\n",
    "from mpl_toolkits.mplot3d import Axes3D\n",
    "from matplotlib.backends.backend_pdf import PdfPages\n",
    "from mpl_toolkits.axes_grid1 import make_axes_locatable\n",
    "import pandas as pd\n",
    "\n",
    "color_list = plt.rcParams['axes.prop_cycle'].by_key()['color'];\n",
    "#Customising style\n",
    "#mpl.rc('lines', linewidth=2, color='r')\n",
    "mpl.rcParams['axes.linewidth'] = 2\n",
    "mpl.rcParams['font.size'] = 24\n",
    "#mpl.rcParams['savefig.format'] = \"eps\"\n",
    "#mpl.rcParams['savefig.dpi'] = 100\n",
    "#mpl.rcParams['text.usetex'] = True\n",
    "#mpl.rcParams['figure.figsize'] = (16,9)"
   ]
  },
  {
   "cell_type": "markdown",
   "metadata": {},
   "source": [
    "## Initialise general parameters"
   ]
  },
  {
   "cell_type": "markdown",
   "metadata": {},
   "source": [
    "Using a fragment from a fission decay of a SHN and assuming a symmetrical mass distribution."
   ]
  },
  {
   "cell_type": "code",
   "execution_count": null,
   "metadata": {},
   "outputs": [],
   "source": [
    "Z = 56\n",
    "A = 140\n",
    "E_max = 250 #MeV"
   ]
  },
  {
   "cell_type": "markdown",
   "metadata": {},
   "source": [
    "### Creating stopping power functions"
   ]
  },
  {
   "cell_type": "markdown",
   "metadata": {},
   "source": [
    "\"Targets\":"
   ]
  },
  {
   "cell_type": "code",
   "execution_count": null,
   "metadata": {},
   "outputs": [],
   "source": [
    "layers = []\n",
    "\n",
    "density = 2.32e3 #mg/cm3\n",
    "# Construct a layer of SiO2, arbitrary width (as it is not relevant for these calcs)\n",
    "layer = Layer({\n",
    "    'Si': {\n",
    "        'stoich': 1,\n",
    "        #'E_d': 35.0, # Displacement Energy\n",
    "        #'lattice': 0.0,\n",
    "        #'surface': 3.0\n",
    "    },\n",
    "    'O': {\n",
    "        'stoich': 2,\n",
    "        #'E_d': 20.0, # Displacement Energy\n",
    "        #'lattice': 0.0,\n",
    "        #'surface': 3.0\n",
    "    }\n",
    "}, density=1e-3*density, width=10000.0)\n",
    "layers.append(layer)\n",
    "\n",
    "layer_names = [\"SiO2\"]"
   ]
  },
  {
   "cell_type": "markdown",
   "metadata": {},
   "source": [
    "\"Ion\":"
   ]
  },
  {
   "cell_type": "code",
   "execution_count": null,
   "metadata": {},
   "outputs": [],
   "source": [
    "# Construct ion\n",
    "energy_max = E_max*1e6\n",
    "#print(\"Max energy=\", energy_max)\n",
    "ion = Ion(Z, energy=energy_max, mass=A)"
   ]
  },
  {
   "cell_type": "markdown",
   "metadata": {},
   "source": [
    "Stopping power functions:"
   ]
  },
  {
   "cell_type": "code",
   "execution_count": null,
   "metadata": {},
   "outputs": [],
   "source": [
    "GSP = {}\n",
    "for i, l in enumerate(layers):\n",
    "    GSP[layer_names[i]] = GenerateStoppingPower(l, ion)"
   ]
  },
  {
   "cell_type": "markdown",
   "metadata": {},
   "source": [
    "## Visualisations of stopping power and range"
   ]
  },
  {
   "cell_type": "code",
   "execution_count": null,
   "metadata": {},
   "outputs": [],
   "source": [
    "plt.figure(figsize=(15, 10))\n",
    "plt.plot(GSP[\"SiO2\"].energy_raw, GSP[\"SiO2\"].dEdX_raw, label='SiO2')\n",
    "plt.xlabel('Energy (MeV)')\n",
    "plt.ylabel('Stopping power (MeV/µm)')\n",
    "plt.legend()\n",
    "plt.show()"
   ]
  },
  {
   "cell_type": "code",
   "execution_count": null,
   "metadata": {},
   "outputs": [],
   "source": [
    "plt.figure(figsize=(15, 10))\n",
    "plt.plot(GSP[\"SiO2\"].energy_raw, GSP[\"SiO2\"].GetRange(GSP[\"SiO2\"].energy_raw), label='SiO2')\n",
    "plt.xlabel('Energy (MeV)')\n",
    "plt.ylabel('Range (µm)')\n",
    "plt.legend()\n",
    "plt.show()"
   ]
  }
 ],
 "metadata": {
  "kernelspec": {
   "display_name": "Python 3",
   "language": "python",
   "name": "python3"
  },
  "language_info": {
   "codemirror_mode": {
    "name": "ipython",
    "version": 3
   },
   "file_extension": ".py",
   "mimetype": "text/x-python",
   "name": "python",
   "nbconvert_exporter": "python",
   "pygments_lexer": "ipython3",
   "version": "3.7.4"
  }
 },
 "nbformat": 4,
 "nbformat_minor": 4
}
