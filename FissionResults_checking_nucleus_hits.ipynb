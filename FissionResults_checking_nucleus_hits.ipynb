{
 "cells": [
  {
   "cell_type": "markdown",
   "metadata": {},
   "source": [
    "# Test 1 \n",
    "# 1 Heavy Fission Fragment with a set position and momentum \n",
    "# all registered hits "
   ]
  },
  {
   "cell_type": "markdown",
   "metadata": {},
   "source": [
    "### 1 fission product (Z=79, A=208, E_k = 62.5 MeV)\n"
   ]
  },
  {
   "cell_type": "code",
   "execution_count": 1,
   "metadata": {},
   "outputs": [
    {
     "name": "stdout",
     "output_type": "stream",
     "text": [
      "Welcome to JupyROOT 6.18/02\n"
     ]
    }
   ],
   "source": [
    "import ROOT "
   ]
  },
  {
   "cell_type": "code",
   "execution_count": 2,
   "metadata": {},
   "outputs": [],
   "source": [
    "f = ROOT.TFile.Open(\"/home/yulia/Desktop/tasispec/build/PICOSpec_run0_heavy_all_hits_inwards.root\")\n",
    "rawTree = f.Get(\"PICO_tree_raw\")"
   ]
  },
  {
   "cell_type": "markdown",
   "metadata": {},
   "source": [
    "## Print full event "
   ]
  },
  {
   "cell_type": "code",
   "execution_count": 6,
   "metadata": {},
   "outputs": [
    {
     "name": "stdout",
     "output_type": "stream",
     "text": [
      "******************************************************************************\n",
      "*Tree    :PICO_tree_raw: TTree contain PICOSpec RAW event info                  *\n",
      "*Entries :       10 : Total =            5331 bytes  File  Size =       2117 *\n",
      "*        :          : Tree compression factor =   1.12                       *\n",
      "******************************************************************************\n",
      "*Br    0 :Mult      : Mult/I                                                 *\n",
      "*Entries :       10 : Total  Size=        605 bytes  File Size  =        104 *\n",
      "*Baskets :        1 : Basket Size=      32000 bytes  Compression=   1.15     *\n",
      "*............................................................................*\n",
      "*Br    1 :det_ID    : detector_ID[Mult]/I                                    *\n",
      "*Entries :       10 : Total  Size=        758 bytes  File Size  =        137 *\n",
      "*Baskets :        1 : Basket Size=      32000 bytes  Compression=   1.24     *\n",
      "*............................................................................*\n",
      "*Br    2 :Energy    : energy[Mult]/D                                         *\n",
      "*Entries :       10 : Total  Size=        798 bytes  File Size  =        192 *\n",
      "*Baskets :        1 : Basket Size=      32000 bytes  Compression=   1.09     *\n",
      "*............................................................................*\n",
      "*Br    3 :Xpos      : x[Mult]/D                                              *\n",
      "*Entries :       10 : Total  Size=        779 bytes  File Size  =        205 *\n",
      "*Baskets :        1 : Basket Size=      32000 bytes  Compression=   1.01     *\n",
      "*............................................................................*\n",
      "*Br    4 :Ypos      : y[Mult]/D                                              *\n",
      "*Entries :       10 : Total  Size=        779 bytes  File Size  =        207 *\n",
      "*Baskets :        1 : Basket Size=      32000 bytes  Compression=   1.00     *\n",
      "*............................................................................*\n",
      "*Br    5 :Zpos      : z[Mult]/D                                              *\n",
      "*Entries :       10 : Total  Size=        779 bytes  File Size  =        200 *\n",
      "*Baskets :        1 : Basket Size=      32000 bytes  Compression=   1.04     *\n",
      "*............................................................................*\n",
      "*Br    6 :Globaltime : globalTime[Mult]/D                                    *\n",
      "*Entries :       10 : Total  Size=        818 bytes  File Size  =        146 *\n",
      "*Baskets :        1 : Basket Size=      32000 bytes  Compression=   1.47     *\n",
      "*............................................................................*\n"
     ]
    }
   ],
   "source": [
    "rawTree.Print()"
   ]
  },
  {
   "cell_type": "code",
   "execution_count": 8,
   "metadata": {},
   "outputs": [
    {
     "name": "stdout",
     "output_type": "stream",
     "text": [
      "New event\n",
      "1\n",
      "62500.01542360406 3.0114074469305965e-13 561\n",
      "New event\n",
      "1\n",
      "62500.02917909296 3.0114074469305965e-13 561\n",
      "New event\n",
      "1\n",
      "62500.0 3.0114074469305965e-13 561\n",
      "New event\n",
      "1\n",
      "62500.10715538519 3.0114074469305965e-13 561\n",
      "New event\n",
      "1\n",
      "62500.0653231691 3.0114074469305965e-13 561\n",
      "New event\n",
      "1\n",
      "62500.105990737204 3.0114074469305965e-13 561\n",
      "New event\n",
      "1\n",
      "62500.13051574933 3.0114074469305965e-13 561\n",
      "New event\n",
      "1\n",
      "62500.103820348166 3.0114074469305965e-13 561\n",
      "New event\n",
      "1\n",
      "62500.09688662249 3.0114074469305965e-13 561\n",
      "New event\n",
      "1\n",
      "62500.05708189564 3.0114074469305965e-13 561\n"
     ]
    }
   ],
   "source": [
    "for event in rawTree:\n",
    "    print('New event')\n",
    "    print(event.Mult)\n",
    "    for i in range(event.Mult):\n",
    "        print(event.Energy[i], event.globalTime[i], event.det_ID[i])"
   ]
  },
  {
   "cell_type": "markdown",
   "metadata": {},
   "source": [
    "# Test 2\n",
    "# 1 Heavy Fission Fragment with a set position and momentum \n",
    "# selected hits"
   ]
  },
  {
   "cell_type": "markdown",
   "metadata": {},
   "source": [
    "### 1 fission product (Z=79, A=208, E_k = 62.5 MeV)\n"
   ]
  },
  {
   "cell_type": "code",
   "execution_count": 4,
   "metadata": {},
   "outputs": [],
   "source": [
    "f = ROOT.TFile.Open(\"/home/yulia/Desktop/tasispec/build/PICOSpec_run0_heavy_selected_hits_inwards.root\")\n",
    "rawTree = f.Get(\"PICO_tree_raw\")"
   ]
  },
  {
   "cell_type": "markdown",
   "metadata": {},
   "source": [
    "## Print full event "
   ]
  },
  {
   "cell_type": "code",
   "execution_count": 5,
   "metadata": {},
   "outputs": [
    {
     "name": "stdout",
     "output_type": "stream",
     "text": [
      "New event\n",
      "1\n",
      "62500.01542360406 561\n",
      "New event\n",
      "1\n",
      "62500.02917909296 561\n",
      "New event\n",
      "1\n",
      "62500.0 561\n",
      "New event\n",
      "1\n",
      "62500.10715538519 561\n",
      "New event\n",
      "1\n",
      "62500.0653231691 561\n",
      "New event\n",
      "1\n",
      "62500.105990737204 561\n",
      "New event\n",
      "1\n",
      "62500.13051574933 561\n",
      "New event\n",
      "1\n",
      "62500.103820348166 561\n",
      "New event\n",
      "1\n",
      "62500.09688662249 561\n",
      "New event\n",
      "1\n",
      "62500.05708189564 561\n"
     ]
    }
   ],
   "source": [
    "for event in rawTree:\n",
    "    print('New event')\n",
    "    print(event.Mult)\n",
    "    for i in range(event.Mult):\n",
    "        print(event.Energy[i], event.det_ID[i])"
   ]
  },
  {
   "cell_type": "code",
   "execution_count": null,
   "metadata": {},
   "outputs": [],
   "source": []
  }
 ],
 "metadata": {
  "kernelspec": {
   "display_name": "Python 3",
   "language": "python",
   "name": "python3"
  },
  "language_info": {
   "codemirror_mode": {
    "name": "ipython",
    "version": 3
   },
   "file_extension": ".py",
   "mimetype": "text/x-python",
   "name": "python",
   "nbconvert_exporter": "python",
   "pygments_lexer": "ipython3",
   "version": "3.7.4"
  }
 },
 "nbformat": 4,
 "nbformat_minor": 2
}
