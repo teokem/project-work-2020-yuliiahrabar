{
 "cells": [
  {
   "cell_type": "markdown",
   "metadata": {},
   "source": [
    "# Calculations implantation depths"
   ]
  },
  {
   "cell_type": "code",
   "execution_count": 1,
   "metadata": {},
   "outputs": [
    {
     "name": "stdout",
     "output_type": "stream",
     "text": [
      "SRIM stopping power successfully calculated\n",
      "\tCalculate energy loss as a function of traversed target material with function 'GetElossAfterX(E_init, x)'\n",
      "\tCalculate traversed target material as a function of energy loss 'GetXAfterEloss(E_init, E_after)'\n",
      "\tCalculate range in material as a function of energy 'GetRange(E_init)'\n",
      "Successfully imported 'GenerateStoppingPower'\n",
      "\tClass to Generate SRIM Stopping Power and calculate energy loss and traversed material.\n"
     ]
    }
   ],
   "source": [
    "%run GenerateStoppingPower.ipynb"
   ]
  },
  {
   "cell_type": "code",
   "execution_count": 2,
   "metadata": {},
   "outputs": [],
   "source": [
    "import numpy as np\n",
    "import matplotlib.pyplot as plt\n",
    "import time\n",
    "import scipy.linalg\n",
    "from matplotlib import colors\n",
    "import matplotlib as mpl\n",
    "from matplotlib import cm\n",
    "from mpl_toolkits.mplot3d import Axes3D\n",
    "from matplotlib.backends.backend_pdf import PdfPages\n",
    "from mpl_toolkits.axes_grid1 import make_axes_locatable\n",
    "import pandas as pd\n",
    "\n",
    "color_list = plt.rcParams['axes.prop_cycle'].by_key()['color'];\n",
    "#Customising style\n",
    "#mpl.rc('lines', linewidth=2, color='r')\n",
    "mpl.rcParams['axes.linewidth'] = 2\n",
    "mpl.rcParams['font.size'] = 24\n",
    "#mpl.rcParams['savefig.format'] = \"eps\"\n",
    "#mpl.rcParams['savefig.dpi'] = 100\n",
    "#mpl.rcParams['text.usetex'] = True\n",
    "#mpl.rcParams['figure.figsize'] = (16,9)"
   ]
  },
  {
   "cell_type": "markdown",
   "metadata": {},
   "source": [
    "## Fast-Alphas"
   ]
  },
  {
   "cell_type": "markdown",
   "metadata": {},
   "source": [
    "The kinematics as calculated in [notebook](TASCA_U225.ipynb) is assumed.\n",
    "\n",
    "Ion: U-225"
   ]
  },
  {
   "cell_type": "code",
   "execution_count": 3,
   "metadata": {},
   "outputs": [],
   "source": [
    "E_kin = 45 #MeV"
   ]
  },
  {
   "cell_type": "code",
   "execution_count": 4,
   "metadata": {},
   "outputs": [],
   "source": [
    "# Construct a layer of SiO2, arbitrary width (as it is not relevant for these calcs)\n",
    "layer = Layer({\n",
    "    'Si': {\n",
    "        'stoich': 1,\n",
    "        #'E_d': 35.0, # Displacement Energy\n",
    "        #'lattice': 0.0,\n",
    "        #'surface': 3.0\n",
    "    },\n",
    "    'O': {\n",
    "        'stoich': 2,\n",
    "        #'E_d': 20.0, # Displacement Energy\n",
    "        #'lattice': 0.0,\n",
    "        #'surface': 3.0\n",
    "    }\n",
    "}, density=2.32, width=10000.0)"
   ]
  },
  {
   "cell_type": "code",
   "execution_count": 5,
   "metadata": {},
   "outputs": [
    {
     "name": "stdout",
     "output_type": "stream",
     "text": [
      "SRIM stopping power successfully calculated\n",
      "\tCalculate energy loss as a function of traversed target material with function 'GetElossAfterX(E_init, x)'\n",
      "\tCalculate traversed target material as a function of energy loss 'GetXAfterEloss(E_init, E_after)'\n",
      "\tCalculate range in material as a function of energy 'GetRange(E_init)'\n"
     ]
    }
   ],
   "source": [
    "# Construct ion\n",
    "A, E_per_A_max = 225, 7e6 # nucleon number, eV \n",
    "energy_max = A*E_per_A_max\n",
    "#print(\"Max energy=\", energy_max)\n",
    "ion = Ion('U', energy=energy_max, mass=A)\n",
    "\n",
    "U225 = GenerateStoppingPower(layer, ion)"
   ]
  },
  {
   "cell_type": "code",
   "execution_count": 12,
   "metadata": {},
   "outputs": [
    {
     "name": "stdout",
     "output_type": "stream",
     "text": [
      "Range = 7.429001481209475 µm\n"
     ]
    }
   ],
   "source": [
    "print(\"Range =\", U225.GetRange(45, from_sr=True), \"µm\")"
   ]
  },
  {
   "cell_type": "markdown",
   "metadata": {},
   "source": [
    "## Fl-289"
   ]
  },
  {
   "cell_type": "code",
   "execution_count": 7,
   "metadata": {},
   "outputs": [
    {
     "name": "stdout",
     "output_type": "stream",
     "text": [
      "Extrapolating stopping power for ion with z= 114\n",
      "Mean scaling factor: 1.3309325475011262\n",
      "SRIM stopping power successfully calculated\n",
      "\tCalculate energy loss as a function of traversed target material with function 'GetElossAfterX(E_init, x)'\n",
      "\tCalculate traversed target material as a function of energy loss 'GetXAfterEloss(E_init, E_after)'\n",
      "\tCalculate range in material as a function of energy 'GetRange(E_init)'\n"
     ]
    }
   ],
   "source": [
    "# Construct ion\n",
    "A, E_per_A_max = 289, 7e6 # nucleon number, eV \n",
    "energy_max = A*E_per_A_max\n",
    "#print(\"Max energy=\", energy_max)\n",
    "ion = Ion('U', energy=energy_max, mass=A)\n",
    "\n",
    "Fl289 = GenerateStoppingPower(layer, ion, z_ion=114)"
   ]
  },
  {
   "cell_type": "code",
   "execution_count": 13,
   "metadata": {},
   "outputs": [
    {
     "name": "stdout",
     "output_type": "stream",
     "text": [
      "Range = 3.096210212861479 µm\n"
     ]
    }
   ],
   "source": [
    "print(\"Range =\", Fl289.GetRange(22, from_sr=True), \"µm\")"
   ]
  }
 ],
 "metadata": {
  "kernelspec": {
   "display_name": "Python 3",
   "language": "python",
   "name": "python3"
  },
  "language_info": {
   "codemirror_mode": {
    "name": "ipython",
    "version": 3
   },
   "file_extension": ".py",
   "mimetype": "text/x-python",
   "name": "python",
   "nbconvert_exporter": "python",
   "pygments_lexer": "ipython3",
   "version": "3.6.5"
  }
 },
 "nbformat": 4,
 "nbformat_minor": 2
}
