{
 "cells": [
  {
   "cell_type": "markdown",
   "metadata": {},
   "source": [
    "# Calculations implantation depths"
   ]
  },
  {
   "cell_type": "code",
   "execution_count": 1,
   "metadata": {},
   "outputs": [
    {
     "name": "stderr",
     "output_type": "stream",
     "text": [
      "/home/yulia/anaconda3/lib/python3.7/site-packages/srim/core/elementdb.py:10: YAMLLoadWarning: calling yaml.load() without Loader=... is deprecated, as the default Loader is unsafe. Please read https://msg.pyyaml.org/load for full details.\n",
      "  return yaml.load(open(dbpath, \"r\"))\n"
     ]
    },
    {
     "name": "stdout",
     "output_type": "stream",
     "text": [
      "SRIM stopping power successfully calculated\n",
      "\tCalculate energy loss as a function of traversed target material with function 'GetElossAfterX(E_init, x)'\n",
      "\tCalculate traversed target material as a function of energy loss 'GetXAfterEloss(E_init, E_after)'\n",
      "\tCalculate range in material as a function of energy 'GetRange(E_init)'\n",
      "\tUnits: MeV, µm\n",
      "Successfully imported 'GenerateStoppingPower'\n",
      "\tClass to Generate SRIM Stopping Power and calculate energy loss and traversed material.\n"
     ]
    }
   ],
   "source": [
    "%run GenerateStoppingPower.ipynb"
   ]
  },
  {
   "cell_type": "code",
   "execution_count": 2,
   "metadata": {},
   "outputs": [],
   "source": [
    "import numpy as np\n",
    "import matplotlib.pyplot as plt\n",
    "import time\n",
    "import scipy.linalg\n",
    "from matplotlib import colors\n",
    "import matplotlib as mpl\n",
    "from matplotlib import cm\n",
    "from mpl_toolkits.mplot3d import Axes3D\n",
    "from matplotlib.backends.backend_pdf import PdfPages\n",
    "from mpl_toolkits.axes_grid1 import make_axes_locatable\n",
    "import pandas as pd\n",
    "\n",
    "color_list = plt.rcParams['axes.prop_cycle'].by_key()['color'];\n",
    "#Customising style\n",
    "#mpl.rc('lines', linewidth=2, color='r')\n",
    "mpl.rcParams['axes.linewidth'] = 2\n",
    "mpl.rcParams['font.size'] = 24\n",
    "#mpl.rcParams['savefig.format'] = \"eps\"\n",
    "#mpl.rcParams['savefig.dpi'] = 100\n",
    "#mpl.rcParams['text.usetex'] = True\n",
    "#mpl.rcParams['figure.figsize'] = (16,9)"
   ]
  },
  {
   "cell_type": "markdown",
   "metadata": {},
   "source": [
    "## Material"
   ]
  },
  {
   "cell_type": "code",
   "execution_count": 3,
   "metadata": {},
   "outputs": [],
   "source": [
    "# Construct a layer of SiO2, arbitrary width (as it is not relevant for these calcs)\n",
    "layer = Layer({\n",
    "    'Si': {\n",
    "        'stoich': 1,\n",
    "        #'E_d': 35.0, # Displacement Energy\n",
    "        #'lattice': 0.0,\n",
    "        #'surface': 3.0\n",
    "    },\n",
    "    'O': {\n",
    "        'stoich': 2,\n",
    "        #'E_d': 20.0, # Displacement Energy\n",
    "        #'lattice': 0.0,\n",
    "        #'surface': 3.0\n",
    "    }\n",
    "}, density=2.32, width=10000.0)"
   ]
  },
  {
   "cell_type": "markdown",
   "metadata": {},
   "source": [
    "## Fast-Alphas"
   ]
  },
  {
   "cell_type": "markdown",
   "metadata": {},
   "source": [
    "The kinematics as calculated in [notebook](TASCA_U225.ipynb) is assumed.\n",
    "\n",
    "Ion: U-225"
   ]
  },
  {
   "cell_type": "code",
   "execution_count": 4,
   "metadata": {},
   "outputs": [],
   "source": [
    "E_kin = 45 #MeV"
   ]
  },
  {
   "cell_type": "code",
   "execution_count": 5,
   "metadata": {},
   "outputs": [
    {
     "name": "stdout",
     "output_type": "stream",
     "text": [
      "SRIM stopping power successfully calculated\n",
      "\tCalculate energy loss as a function of traversed target material with function 'GetElossAfterX(E_init, x)'\n",
      "\tCalculate traversed target material as a function of energy loss 'GetXAfterEloss(E_init, E_after)'\n",
      "\tCalculate range in material as a function of energy 'GetRange(E_init)'\n",
      "\tUnits: MeV, µm\n"
     ]
    }
   ],
   "source": [
    "# Construct ion\n",
    "A, E_per_A_max = 225, 7e6 # nucleon number, eV \n",
    "energy_max = A*E_per_A_max\n",
    "#print(\"Max energy=\", energy_max)\n",
    "ion = Ion('U', energy=energy_max, mass=A)\n",
    "\n",
    "U225 = GenerateStoppingPower(layer, ion)"
   ]
  },
  {
   "cell_type": "code",
   "execution_count": 6,
   "metadata": {},
   "outputs": [
    {
     "name": "stdout",
     "output_type": "stream",
     "text": [
      "Range = 7.429001481209475 µm\n"
     ]
    }
   ],
   "source": [
    "print(\"Range =\", U225.GetRange(45, from_sr=True), \"µm\")"
   ]
  },
  {
   "cell_type": "markdown",
   "metadata": {},
   "source": [
    "## Fl-289"
   ]
  },
  {
   "cell_type": "code",
   "execution_count": 7,
   "metadata": {},
   "outputs": [
    {
     "name": "stdout",
     "output_type": "stream",
     "text": [
      "Extrapolating stopping power for ion with z= 114\n",
      "Mean scaling factor: 1.3309325475011262\n",
      "SRIM stopping power successfully calculated\n",
      "\tCalculate energy loss as a function of traversed target material with function 'GetElossAfterX(E_init, x)'\n",
      "\tCalculate traversed target material as a function of energy loss 'GetXAfterEloss(E_init, E_after)'\n",
      "\tCalculate range in material as a function of energy 'GetRange(E_init)'\n",
      "\tUnits: MeV, µm\n"
     ]
    }
   ],
   "source": [
    "# Construct ion\n",
    "A, E_per_A_max = 289, 7e6 # nucleon number, eV \n",
    "energy_max = A*E_per_A_max\n",
    "#print(\"Max energy=\", energy_max)\n",
    "ion = Ion('U', energy=energy_max, mass=A)\n",
    "\n",
    "Fl289 = GenerateStoppingPower(layer, ion, z_ion=114)"
   ]
  },
  {
   "cell_type": "code",
   "execution_count": 8,
   "metadata": {},
   "outputs": [
    {
     "name": "stdout",
     "output_type": "stream",
     "text": [
      "Range = 3.096210212861479 µm\n"
     ]
    }
   ],
   "source": [
    "print(\"Range =\", Fl289.GetRange(22, from_sr=True), \"µm\")"
   ]
  },
  {
   "cell_type": "markdown",
   "metadata": {},
   "source": [
    "## Ca-48\n",
    "\n",
    "Beam-like ions implanting themselves."
   ]
  },
  {
   "cell_type": "code",
   "execution_count": 9,
   "metadata": {},
   "outputs": [
    {
     "name": "stdout",
     "output_type": "stream",
     "text": [
      "SRIM stopping power successfully calculated\n",
      "\tCalculate energy loss as a function of traversed target material with function 'GetElossAfterX(E_init, x)'\n",
      "\tCalculate traversed target material as a function of energy loss 'GetXAfterEloss(E_init, E_after)'\n",
      "\tCalculate range in material as a function of energy 'GetRange(E_init)'\n",
      "\tUnits: MeV, µm\n"
     ]
    }
   ],
   "source": [
    "# Construct ion\n",
    "A, E_per_A_max = 48, 7e6 # nucleon number, eV \n",
    "energy_max = A*E_per_A_max\n",
    "#print(\"Max energy=\", energy_max)\n",
    "ion = Ion('Ca', energy=energy_max, mass=A)\n",
    "\n",
    "Ca48 = GenerateStoppingPower(layer, ion)"
   ]
  },
  {
   "cell_type": "code",
   "execution_count": 10,
   "metadata": {},
   "outputs": [
    {
     "name": "stdout",
     "output_type": "stream",
     "text": [
      "Range = 64.5240132299233 µm\n"
     ]
    }
   ],
   "source": [
    "print(\"Range =\", Ca48.GetRange(289, from_sr=True), \"µm\")"
   ]
  },
  {
   "cell_type": "markdown",
   "metadata": {},
   "source": [
    "## Alphas\n",
    "\n",
    "Alphas punching through implantation detector."
   ]
  },
  {
   "cell_type": "code",
   "execution_count": 11,
   "metadata": {},
   "outputs": [
    {
     "name": "stdout",
     "output_type": "stream",
     "text": [
      "SRIM stopping power successfully calculated\n",
      "\tCalculate energy loss as a function of traversed target material with function 'GetElossAfterX(E_init, x)'\n",
      "\tCalculate traversed target material as a function of energy loss 'GetXAfterEloss(E_init, E_after)'\n",
      "\tCalculate range in material as a function of energy 'GetRange(E_init)'\n",
      "\tUnits: MeV, µm\n"
     ]
    }
   ],
   "source": [
    "# Construct ion\n",
    "A, E_per_A_max = 4, 100e6 # nucleon number, eV \n",
    "energy_max = A*E_per_A_max\n",
    "#print(\"Max energy=\", energy_max)\n",
    "ion = Ion('He', energy=energy_max, mass=A)\n",
    "\n",
    "alpha = GenerateStoppingPower(layer, ion)"
   ]
  },
  {
   "cell_type": "code",
   "execution_count": 12,
   "metadata": {},
   "outputs": [
    {
     "name": "stdout",
     "output_type": "stream",
     "text": [
      "Range = 398.72438200096076 µm\n"
     ]
    }
   ],
   "source": [
    "print(\"Range =\", alpha.GetRange(30, from_sr=True), \"µm\")"
   ]
  },
  {
   "cell_type": "markdown",
   "metadata": {},
   "source": [
    "### Punching through VETO and IMP"
   ]
  },
  {
   "cell_type": "markdown",
   "metadata": {},
   "source": [
    "Two energy components:\n",
    "\n",
    "* Beam-like particle collision with He-gas\n",
    "* Target-like particle collision with He-gas\n",
    "\n",
    "Assuming elastic collisions."
   ]
  },
  {
   "cell_type": "code",
   "execution_count": 13,
   "metadata": {},
   "outputs": [],
   "source": [
    "e_tank1 = 4.774 #MeV/u\n",
    "e_tank2 = 5.893 #MeV/u\n",
    "A_beam = 48\n",
    "A_target = 207\n",
    "\n",
    "e_tank = e_tank1"
   ]
  },
  {
   "cell_type": "markdown",
   "metadata": {},
   "source": [
    "Equations for elastic collisions given here: https://en.wikipedia.org/wiki/Elastic_collision"
   ]
  },
  {
   "cell_type": "code",
   "execution_count": 14,
   "metadata": {},
   "outputs": [],
   "source": [
    "def GetEAfterColl(m1, m2, T):\n",
    "    T1 = np.multiply(np.square(np.divide(m1-m2,m1+m2)), T)\n",
    "    T2 = 4*np.multiply(np.divide(np.multiply(m1, m2), np.square(m1+m2)), T)\n",
    "    \n",
    "    #T1 = np.square((m1-m2)/(m1+m2))*T\n",
    "    #T2 = ((4*m1*m2)/np.square(m1+m2))*T\n",
    "    \n",
    "    return T1, T2"
   ]
  },
  {
   "cell_type": "code",
   "execution_count": 15,
   "metadata": {},
   "outputs": [
    {
     "name": "stdout",
     "output_type": "stream",
     "text": [
      "E_kin beam-like: 229.152 MeV\n",
      "E_kin beam-like after collision: 140.06023972318337 MeV\n",
      "E_kin target-like after collision: 89.0917602768166 MeV\n"
     ]
    }
   ],
   "source": [
    "E_beam = (A_beam*e_tank)\n",
    "\n",
    "E_target_like, E_tmp = GetEAfterColl(A_beam, A_target, E_beam)\n",
    "\n",
    "print(\"E_kin beam-like:\", E_beam, \"MeV\")\n",
    "print(\"E_kin beam-like after collision:\", E_tmp, \"MeV\")\n",
    "print(\"E_kin target-like after collision:\", E_target_like, \"MeV\")"
   ]
  },
  {
   "cell_type": "code",
   "execution_count": 16,
   "metadata": {},
   "outputs": [
    {
     "name": "stdout",
     "output_type": "stream",
     "text": [
      "E_kin alpha after collision with beam-like: 164.06740828402366 MeV\n",
      "E_kin alpha after collision with target-like: 82.46405851726905 MeV\n"
     ]
    }
   ],
   "source": [
    "E_alpha_from_beam, E_tmp = GetEAfterColl(A_beam, 4, E_beam)\n",
    "E_alpha_from_target, E_tmp = GetEAfterColl(A_target, 4, E_target_like)\n",
    "\n",
    "print(\"E_kin alpha after collision with beam-like:\", E_alpha_from_beam, \"MeV\")\n",
    "print(\"E_kin alpha after collision with target-like:\", E_alpha_from_target, \"MeV\")"
   ]
  },
  {
   "cell_type": "code",
   "execution_count": 17,
   "metadata": {},
   "outputs": [],
   "source": [
    "E_kin_0 = np.asarray([E_alpha_from_beam, E_alpha_from_target]) "
   ]
  },
  {
   "cell_type": "code",
   "execution_count": 18,
   "metadata": {},
   "outputs": [],
   "source": [
    "imp_thick = 300 #µm\n",
    "veto_thick = 300 #µm\n",
    "dl_imp_veto = 2 #µm"
   ]
  },
  {
   "cell_type": "code",
   "execution_count": 19,
   "metadata": {},
   "outputs": [
    {
     "name": "stdout",
     "output_type": "stream",
     "text": [
      "0 Initial energy: 164.06740828402366 MeV\n",
      "\tDeposited energies:\n",
      "\t [0.022508161890357314, 3.3815756124650136, 0.022885660990823453, 3.4394253335646283] MeV\n",
      "\t Energy after: 157.20101351511283 MeV\n",
      "1 Initial energy: 82.46405851726905 MeV\n",
      "\tDeposited energies:\n",
      "\t [0.038970872946251234, 5.982670129117906, 0.04141276938030103, 6.38575455481913] MeV\n",
      "\t Energy after: 70.01525019100546 MeV\n"
     ]
    }
   ],
   "source": [
    "# implantation detector, dead layer\n",
    "for i, E_kin in enumerate(E_kin_0):\n",
    "    E_dep = [] #deposited energy for each layer\n",
    "    E_dep.append(alpha.GetElossAfterX(E_kin, dl_imp_veto)) #deposited energy\n",
    "    #print(E_dep[-1])\n",
    "    E_kin -= E_dep[-1] # energy after deposit\n",
    "    # implantation detector\n",
    "    E_dep.append(alpha.GetElossAfterX(E_kin, imp_thick-dl_imp_veto)) #deposited energy\n",
    "    E_kin -= E_dep[-1] # alpha energy after deposit\n",
    "\n",
    "    # veto detector, dead layer\n",
    "    E_dep.append(alpha.GetElossAfterX(E_kin, dl_imp_veto)) #deposited energy\n",
    "    #print(E_dep[-1])\n",
    "    E_kin -= E_dep[-1] # energy after deposit\n",
    "    # veto detector\n",
    "    E_dep.append(alpha.GetElossAfterX(E_kin, veto_thick-dl_imp_veto)) #deposited energy\n",
    "    E_kin -= E_dep[-1] # alpha energy after deposit\n",
    "    print(i, \"Initial energy:\", E_kin_0[i], \"MeV\\n\\tDeposited energies:\\n\\t\", E_dep, \"MeV\")\n",
    "    print(\"\\t Energy after:\", E_kin, \"MeV\")"
   ]
  },
  {
   "cell_type": "markdown",
   "metadata": {},
   "source": [
    "## IMP and VETOas dE-dE detector"
   ]
  },
  {
   "cell_type": "markdown",
   "metadata": {},
   "source": [
    "Simulate dE-dE response for different particles."
   ]
  },
  {
   "cell_type": "code",
   "execution_count": 20,
   "metadata": {},
   "outputs": [],
   "source": [
    "elms = np.asarray([\"H\", \"He\", \"Li\", \"Be\", \"B\", \"C\", \"N\", \"O\", \"F\", \"Ne\"])\n",
    "As = np.asarray([\"1\", \"4\", \"7\", \"9\", \"11\", \"12\", \"14\", \"16\", \"19\", \"20\"])\n",
    "#elms = np.asarray([\"He\"])\n",
    "#As = np.asarray([\"4\"])"
   ]
  },
  {
   "cell_type": "markdown",
   "metadata": {},
   "source": [
    "This may take a while ..."
   ]
  },
  {
   "cell_type": "code",
   "execution_count": 21,
   "metadata": {},
   "outputs": [
    {
     "name": "stdout",
     "output_type": "stream",
     "text": [
      "SRIM stopping power successfully calculated\n",
      "\tCalculate energy loss as a function of traversed target material with function 'GetElossAfterX(E_init, x)'\n",
      "\tCalculate traversed target material as a function of energy loss 'GetXAfterEloss(E_init, E_after)'\n",
      "\tCalculate range in material as a function of energy 'GetRange(E_init)'\n",
      "\tUnits: MeV, µm\n",
      "SRIM stopping power successfully calculated\n",
      "\tCalculate energy loss as a function of traversed target material with function 'GetElossAfterX(E_init, x)'\n",
      "\tCalculate traversed target material as a function of energy loss 'GetXAfterEloss(E_init, E_after)'\n",
      "\tCalculate range in material as a function of energy 'GetRange(E_init)'\n",
      "\tUnits: MeV, µm\n",
      "SRIM stopping power successfully calculated\n",
      "\tCalculate energy loss as a function of traversed target material with function 'GetElossAfterX(E_init, x)'\n",
      "\tCalculate traversed target material as a function of energy loss 'GetXAfterEloss(E_init, E_after)'\n",
      "\tCalculate range in material as a function of energy 'GetRange(E_init)'\n",
      "\tUnits: MeV, µm\n",
      "SRIM stopping power successfully calculated\n",
      "\tCalculate energy loss as a function of traversed target material with function 'GetElossAfterX(E_init, x)'\n",
      "\tCalculate traversed target material as a function of energy loss 'GetXAfterEloss(E_init, E_after)'\n",
      "\tCalculate range in material as a function of energy 'GetRange(E_init)'\n",
      "\tUnits: MeV, µm\n",
      "SRIM stopping power successfully calculated\n",
      "\tCalculate energy loss as a function of traversed target material with function 'GetElossAfterX(E_init, x)'\n",
      "\tCalculate traversed target material as a function of energy loss 'GetXAfterEloss(E_init, E_after)'\n",
      "\tCalculate range in material as a function of energy 'GetRange(E_init)'\n",
      "\tUnits: MeV, µm\n",
      "SRIM stopping power successfully calculated\n",
      "\tCalculate energy loss as a function of traversed target material with function 'GetElossAfterX(E_init, x)'\n",
      "\tCalculate traversed target material as a function of energy loss 'GetXAfterEloss(E_init, E_after)'\n",
      "\tCalculate range in material as a function of energy 'GetRange(E_init)'\n",
      "\tUnits: MeV, µm\n",
      "SRIM stopping power successfully calculated\n",
      "\tCalculate energy loss as a function of traversed target material with function 'GetElossAfterX(E_init, x)'\n",
      "\tCalculate traversed target material as a function of energy loss 'GetXAfterEloss(E_init, E_after)'\n",
      "\tCalculate range in material as a function of energy 'GetRange(E_init)'\n",
      "\tUnits: MeV, µm\n",
      "SRIM stopping power successfully calculated\n",
      "\tCalculate energy loss as a function of traversed target material with function 'GetElossAfterX(E_init, x)'\n",
      "\tCalculate traversed target material as a function of energy loss 'GetXAfterEloss(E_init, E_after)'\n",
      "\tCalculate range in material as a function of energy 'GetRange(E_init)'\n",
      "\tUnits: MeV, µm\n",
      "SRIM stopping power successfully calculated\n",
      "\tCalculate energy loss as a function of traversed target material with function 'GetElossAfterX(E_init, x)'\n",
      "\tCalculate traversed target material as a function of energy loss 'GetXAfterEloss(E_init, E_after)'\n",
      "\tCalculate range in material as a function of energy 'GetRange(E_init)'\n",
      "\tUnits: MeV, µm\n",
      "SRIM stopping power successfully calculated\n",
      "\tCalculate energy loss as a function of traversed target material with function 'GetElossAfterX(E_init, x)'\n",
      "\tCalculate traversed target material as a function of energy loss 'GetXAfterEloss(E_init, E_after)'\n",
      "\tCalculate range in material as a function of energy 'GetRange(E_init)'\n",
      "\tUnits: MeV, µm\n"
     ]
    }
   ],
   "source": [
    "# Construct ions\n",
    "energy_max = 300e6 #300 MeV\n",
    "\n",
    "GSP_dEdE = []\n",
    "\n",
    "for i, elm in enumerate(elms):\n",
    "    ion = Ion(elm, energy=energy_max, mass=As[i])\n",
    "    GSP_dEdE.append(GenerateStoppingPower(layer, ion))"
   ]
  },
  {
   "cell_type": "code",
   "execution_count": 22,
   "metadata": {},
   "outputs": [],
   "source": [
    "imp_thick = 300 #µm\n",
    "veto_thick = 300 #µm\n",
    "dl_imp_veto = 5 #µm, dead layer at back and front"
   ]
  },
  {
   "cell_type": "markdown",
   "metadata": {},
   "source": [
    "Energies in the range [5, 295] MeV is investigated."
   ]
  },
  {
   "cell_type": "code",
   "execution_count": 23,
   "metadata": {},
   "outputs": [],
   "source": [
    "energy = np.linspace(20, 295, 1000)"
   ]
  },
  {
   "cell_type": "code",
   "execution_count": 24,
   "metadata": {},
   "outputs": [
    {
     "name": "stdout",
     "output_type": "stream",
     "text": [
      "0 \tCalculating for particle: H\n",
      "1 \tCalculating for particle: He\n",
      "2 \tCalculating for particle: Li\n",
      "3 \tCalculating for particle: Be\n",
      "4 \tCalculating for particle: B\n",
      "5 \tCalculating for particle: C\n",
      "6 \tCalculating for particle: N\n",
      "7 \tCalculating for particle: O\n",
      "8 \tCalculating for particle: F\n",
      "9 \tCalculating for particle: Ne\n"
     ]
    }
   ],
   "source": [
    "energies_all, E_dep_imp_all, E_dep_veto_all = [], [], [] #deposited energy in imp and box\n",
    "\n",
    "for i, elm in enumerate(elms):\n",
    "    print(i, \"\\tCalculating for particle:\", elm)\n",
    "    #E_dep_imp, E_dep_veto = np.asarray([]), np.asarray([]) #deposited energy for each detector\n",
    "    E_now = energy\n",
    "    energies = energy\n",
    "    # implantation detector, dead layer\n",
    "    E_dep = GSP_dEdE[i].GetElossAfterX(energy, dl_imp_veto) #deposited energy\n",
    "    #print(E_dep[-1])\n",
    "    E_now -= E_dep # energy after deposit\n",
    "    inds = E_now > 10\n",
    "    energies = energies[inds]\n",
    "    E_now = E_now[inds]\n",
    "    \n",
    "    # implantation detector\n",
    "    E_dep = GSP_dEdE[i].GetElossAfterX(E_now, imp_thick-2*dl_imp_veto) #deposited energy\n",
    "    E_dep_imp_all.append(E_dep) \n",
    "    E_now -= E_dep # energy after deposit\n",
    "\n",
    "    inds = E_now > 10\n",
    "    energies = energies[inds]\n",
    "    E_now = E_now[inds]\n",
    "    E_dep_imp_all[-1] = E_dep_imp_all[-1][inds] \n",
    "    \n",
    "    # imp detector back dead layer and veto detector dead layer\n",
    "    E_dep = GSP_dEdE[i].GetElossAfterX(E_now, 2*dl_imp_veto) #deposited energy\n",
    "    #print(E_dep[-1])\n",
    "    E_now -= E_dep # energy after deposit  \n",
    "    \n",
    "    inds = E_now > 10\n",
    "    energies = energies[inds]\n",
    "    E_now = E_now[inds]\n",
    "    E_dep_imp_all[-1] = E_dep_imp_all[-1][inds] \n",
    "\n",
    "    # veto detector\n",
    "    E_dep = GSP_dEdE[i].GetElossAfterX(E_now, imp_thick-2*dl_imp_veto) #deposited energy\n",
    "    E_dep_veto_all.append(E_dep) \n",
    "    E_now -= E_dep # energy after deposit\n",
    "    energies_all.append(energies)"
   ]
  },
  {
   "cell_type": "code",
   "execution_count": 25,
   "metadata": {},
   "outputs": [
    {
     "name": "stdout",
     "output_type": "stream",
     "text": [
      "(1000,) (1000,) (1000,)\n",
      "(968,) (968,) (968,)\n",
      "(875,) (875,) (875,)\n",
      "(768,) (768,) (768,)\n",
      "(652,) (652,) (652,)\n",
      "(540,) (540,) (540,)\n",
      "(395,) (395,) (395,)\n",
      "(248,) (248,) (248,)\n",
      "(62,) (62,) (62,)\n",
      "(0,) (0,) (0,)\n"
     ]
    }
   ],
   "source": [
    "for i, x in enumerate(elms):\n",
    "    print(energies_all[i].shape, E_dep_imp_all[i].shape, E_dep_veto_all[i].shape)"
   ]
  },
  {
   "cell_type": "code",
   "execution_count": 26,
   "metadata": {},
   "outputs": [
    {
     "ename": "ModuleNotFoundError",
     "evalue": "No module named 'ipympl'",
     "output_type": "error",
     "traceback": [
      "\u001b[0;31m---------------------------------------------------------------------------\u001b[0m",
      "\u001b[0;31mModuleNotFoundError\u001b[0m                       Traceback (most recent call last)",
      "\u001b[0;32m<ipython-input-26-9dc2c9470b8a>\u001b[0m in \u001b[0;36m<module>\u001b[0;34m\u001b[0m\n\u001b[0;32m----> 1\u001b[0;31m \u001b[0mget_ipython\u001b[0m\u001b[0;34m(\u001b[0m\u001b[0;34m)\u001b[0m\u001b[0;34m.\u001b[0m\u001b[0mrun_line_magic\u001b[0m\u001b[0;34m(\u001b[0m\u001b[0;34m'matplotlib'\u001b[0m\u001b[0;34m,\u001b[0m \u001b[0;34m'widget'\u001b[0m\u001b[0;34m)\u001b[0m\u001b[0;34m\u001b[0m\u001b[0;34m\u001b[0m\u001b[0m\n\u001b[0m\u001b[1;32m      2\u001b[0m \u001b[0mmpl\u001b[0m\u001b[0;34m.\u001b[0m\u001b[0mrcParams\u001b[0m\u001b[0;34m[\u001b[0m\u001b[0;34m'axes.linewidth'\u001b[0m\u001b[0;34m]\u001b[0m \u001b[0;34m=\u001b[0m \u001b[0;36m2\u001b[0m\u001b[0;34m\u001b[0m\u001b[0;34m\u001b[0m\u001b[0m\n\u001b[1;32m      3\u001b[0m \u001b[0mmpl\u001b[0m\u001b[0;34m.\u001b[0m\u001b[0mrcParams\u001b[0m\u001b[0;34m[\u001b[0m\u001b[0;34m'font.size'\u001b[0m\u001b[0;34m]\u001b[0m \u001b[0;34m=\u001b[0m \u001b[0;36m24\u001b[0m\u001b[0;34m\u001b[0m\u001b[0;34m\u001b[0m\u001b[0m\n\u001b[1;32m      4\u001b[0m \u001b[0mplt\u001b[0m\u001b[0;34m.\u001b[0m\u001b[0mfigure\u001b[0m\u001b[0;34m(\u001b[0m\u001b[0mfigsize\u001b[0m\u001b[0;34m=\u001b[0m\u001b[0;34m(\u001b[0m\u001b[0;36m15\u001b[0m\u001b[0;34m,\u001b[0m \u001b[0;36m10\u001b[0m\u001b[0;34m)\u001b[0m\u001b[0;34m)\u001b[0m\u001b[0;34m\u001b[0m\u001b[0;34m\u001b[0m\u001b[0m\n\u001b[1;32m      5\u001b[0m \u001b[0;32mfor\u001b[0m \u001b[0mi\u001b[0m\u001b[0;34m,\u001b[0m \u001b[0melm\u001b[0m \u001b[0;32min\u001b[0m \u001b[0menumerate\u001b[0m\u001b[0;34m(\u001b[0m\u001b[0melms\u001b[0m\u001b[0;34m)\u001b[0m\u001b[0;34m:\u001b[0m\u001b[0;34m\u001b[0m\u001b[0;34m\u001b[0m\u001b[0m\n",
      "\u001b[0;32m~/anaconda3/lib/python3.7/site-packages/IPython/core/interactiveshell.py\u001b[0m in \u001b[0;36mrun_line_magic\u001b[0;34m(self, magic_name, line, _stack_depth)\u001b[0m\n\u001b[1;32m   2312\u001b[0m                 \u001b[0mkwargs\u001b[0m\u001b[0;34m[\u001b[0m\u001b[0;34m'local_ns'\u001b[0m\u001b[0;34m]\u001b[0m \u001b[0;34m=\u001b[0m \u001b[0msys\u001b[0m\u001b[0;34m.\u001b[0m\u001b[0m_getframe\u001b[0m\u001b[0;34m(\u001b[0m\u001b[0mstack_depth\u001b[0m\u001b[0;34m)\u001b[0m\u001b[0;34m.\u001b[0m\u001b[0mf_locals\u001b[0m\u001b[0;34m\u001b[0m\u001b[0;34m\u001b[0m\u001b[0m\n\u001b[1;32m   2313\u001b[0m             \u001b[0;32mwith\u001b[0m \u001b[0mself\u001b[0m\u001b[0;34m.\u001b[0m\u001b[0mbuiltin_trap\u001b[0m\u001b[0;34m:\u001b[0m\u001b[0;34m\u001b[0m\u001b[0;34m\u001b[0m\u001b[0m\n\u001b[0;32m-> 2314\u001b[0;31m                 \u001b[0mresult\u001b[0m \u001b[0;34m=\u001b[0m \u001b[0mfn\u001b[0m\u001b[0;34m(\u001b[0m\u001b[0;34m*\u001b[0m\u001b[0margs\u001b[0m\u001b[0;34m,\u001b[0m \u001b[0;34m**\u001b[0m\u001b[0mkwargs\u001b[0m\u001b[0;34m)\u001b[0m\u001b[0;34m\u001b[0m\u001b[0;34m\u001b[0m\u001b[0m\n\u001b[0m\u001b[1;32m   2315\u001b[0m             \u001b[0;32mreturn\u001b[0m \u001b[0mresult\u001b[0m\u001b[0;34m\u001b[0m\u001b[0;34m\u001b[0m\u001b[0m\n\u001b[1;32m   2316\u001b[0m \u001b[0;34m\u001b[0m\u001b[0m\n",
      "\u001b[0;32m</home/yulia/anaconda3/lib/python3.7/site-packages/decorator.py:decorator-gen-108>\u001b[0m in \u001b[0;36mmatplotlib\u001b[0;34m(self, line)\u001b[0m\n",
      "\u001b[0;32m~/anaconda3/lib/python3.7/site-packages/IPython/core/magic.py\u001b[0m in \u001b[0;36m<lambda>\u001b[0;34m(f, *a, **k)\u001b[0m\n\u001b[1;32m    185\u001b[0m     \u001b[0;31m# but it's overkill for just that one bit of state.\u001b[0m\u001b[0;34m\u001b[0m\u001b[0;34m\u001b[0m\u001b[0;34m\u001b[0m\u001b[0m\n\u001b[1;32m    186\u001b[0m     \u001b[0;32mdef\u001b[0m \u001b[0mmagic_deco\u001b[0m\u001b[0;34m(\u001b[0m\u001b[0marg\u001b[0m\u001b[0;34m)\u001b[0m\u001b[0;34m:\u001b[0m\u001b[0;34m\u001b[0m\u001b[0;34m\u001b[0m\u001b[0m\n\u001b[0;32m--> 187\u001b[0;31m         \u001b[0mcall\u001b[0m \u001b[0;34m=\u001b[0m \u001b[0;32mlambda\u001b[0m \u001b[0mf\u001b[0m\u001b[0;34m,\u001b[0m \u001b[0;34m*\u001b[0m\u001b[0ma\u001b[0m\u001b[0;34m,\u001b[0m \u001b[0;34m**\u001b[0m\u001b[0mk\u001b[0m\u001b[0;34m:\u001b[0m \u001b[0mf\u001b[0m\u001b[0;34m(\u001b[0m\u001b[0;34m*\u001b[0m\u001b[0ma\u001b[0m\u001b[0;34m,\u001b[0m \u001b[0;34m**\u001b[0m\u001b[0mk\u001b[0m\u001b[0;34m)\u001b[0m\u001b[0;34m\u001b[0m\u001b[0;34m\u001b[0m\u001b[0m\n\u001b[0m\u001b[1;32m    188\u001b[0m \u001b[0;34m\u001b[0m\u001b[0m\n\u001b[1;32m    189\u001b[0m         \u001b[0;32mif\u001b[0m \u001b[0mcallable\u001b[0m\u001b[0;34m(\u001b[0m\u001b[0marg\u001b[0m\u001b[0;34m)\u001b[0m\u001b[0;34m:\u001b[0m\u001b[0;34m\u001b[0m\u001b[0;34m\u001b[0m\u001b[0m\n",
      "\u001b[0;32m~/anaconda3/lib/python3.7/site-packages/IPython/core/magics/pylab.py\u001b[0m in \u001b[0;36mmatplotlib\u001b[0;34m(self, line)\u001b[0m\n\u001b[1;32m     97\u001b[0m             \u001b[0mprint\u001b[0m\u001b[0;34m(\u001b[0m\u001b[0;34m\"Available matplotlib backends: %s\"\u001b[0m \u001b[0;34m%\u001b[0m \u001b[0mbackends_list\u001b[0m\u001b[0;34m)\u001b[0m\u001b[0;34m\u001b[0m\u001b[0;34m\u001b[0m\u001b[0m\n\u001b[1;32m     98\u001b[0m         \u001b[0;32melse\u001b[0m\u001b[0;34m:\u001b[0m\u001b[0;34m\u001b[0m\u001b[0;34m\u001b[0m\u001b[0m\n\u001b[0;32m---> 99\u001b[0;31m             \u001b[0mgui\u001b[0m\u001b[0;34m,\u001b[0m \u001b[0mbackend\u001b[0m \u001b[0;34m=\u001b[0m \u001b[0mself\u001b[0m\u001b[0;34m.\u001b[0m\u001b[0mshell\u001b[0m\u001b[0;34m.\u001b[0m\u001b[0menable_matplotlib\u001b[0m\u001b[0;34m(\u001b[0m\u001b[0margs\u001b[0m\u001b[0;34m.\u001b[0m\u001b[0mgui\u001b[0m\u001b[0;34m.\u001b[0m\u001b[0mlower\u001b[0m\u001b[0;34m(\u001b[0m\u001b[0;34m)\u001b[0m \u001b[0;32mif\u001b[0m \u001b[0misinstance\u001b[0m\u001b[0;34m(\u001b[0m\u001b[0margs\u001b[0m\u001b[0;34m.\u001b[0m\u001b[0mgui\u001b[0m\u001b[0;34m,\u001b[0m \u001b[0mstr\u001b[0m\u001b[0;34m)\u001b[0m \u001b[0;32melse\u001b[0m \u001b[0margs\u001b[0m\u001b[0;34m.\u001b[0m\u001b[0mgui\u001b[0m\u001b[0;34m)\u001b[0m\u001b[0;34m\u001b[0m\u001b[0;34m\u001b[0m\u001b[0m\n\u001b[0m\u001b[1;32m    100\u001b[0m             \u001b[0mself\u001b[0m\u001b[0;34m.\u001b[0m\u001b[0m_show_matplotlib_backend\u001b[0m\u001b[0;34m(\u001b[0m\u001b[0margs\u001b[0m\u001b[0;34m.\u001b[0m\u001b[0mgui\u001b[0m\u001b[0;34m,\u001b[0m \u001b[0mbackend\u001b[0m\u001b[0;34m)\u001b[0m\u001b[0;34m\u001b[0m\u001b[0;34m\u001b[0m\u001b[0m\n\u001b[1;32m    101\u001b[0m \u001b[0;34m\u001b[0m\u001b[0m\n",
      "\u001b[0;32m~/anaconda3/lib/python3.7/site-packages/IPython/core/interactiveshell.py\u001b[0m in \u001b[0;36menable_matplotlib\u001b[0;34m(self, gui)\u001b[0m\n\u001b[1;32m   3412\u001b[0m                 \u001b[0mgui\u001b[0m\u001b[0;34m,\u001b[0m \u001b[0mbackend\u001b[0m \u001b[0;34m=\u001b[0m \u001b[0mpt\u001b[0m\u001b[0;34m.\u001b[0m\u001b[0mfind_gui_and_backend\u001b[0m\u001b[0;34m(\u001b[0m\u001b[0mself\u001b[0m\u001b[0;34m.\u001b[0m\u001b[0mpylab_gui_select\u001b[0m\u001b[0;34m)\u001b[0m\u001b[0;34m\u001b[0m\u001b[0;34m\u001b[0m\u001b[0m\n\u001b[1;32m   3413\u001b[0m \u001b[0;34m\u001b[0m\u001b[0m\n\u001b[0;32m-> 3414\u001b[0;31m         \u001b[0mpt\u001b[0m\u001b[0;34m.\u001b[0m\u001b[0mactivate_matplotlib\u001b[0m\u001b[0;34m(\u001b[0m\u001b[0mbackend\u001b[0m\u001b[0;34m)\u001b[0m\u001b[0;34m\u001b[0m\u001b[0;34m\u001b[0m\u001b[0m\n\u001b[0m\u001b[1;32m   3415\u001b[0m         \u001b[0mpt\u001b[0m\u001b[0;34m.\u001b[0m\u001b[0mconfigure_inline_support\u001b[0m\u001b[0;34m(\u001b[0m\u001b[0mself\u001b[0m\u001b[0;34m,\u001b[0m \u001b[0mbackend\u001b[0m\u001b[0;34m)\u001b[0m\u001b[0;34m\u001b[0m\u001b[0;34m\u001b[0m\u001b[0m\n\u001b[1;32m   3416\u001b[0m \u001b[0;34m\u001b[0m\u001b[0m\n",
      "\u001b[0;32m~/anaconda3/lib/python3.7/site-packages/IPython/core/pylabtools.py\u001b[0m in \u001b[0;36mactivate_matplotlib\u001b[0;34m(backend)\u001b[0m\n\u001b[1;32m    312\u001b[0m \u001b[0;34m\u001b[0m\u001b[0m\n\u001b[1;32m    313\u001b[0m     \u001b[0;32mimport\u001b[0m \u001b[0mmatplotlib\u001b[0m\u001b[0;34m.\u001b[0m\u001b[0mpyplot\u001b[0m\u001b[0;34m\u001b[0m\u001b[0;34m\u001b[0m\u001b[0m\n\u001b[0;32m--> 314\u001b[0;31m     \u001b[0mmatplotlib\u001b[0m\u001b[0;34m.\u001b[0m\u001b[0mpyplot\u001b[0m\u001b[0;34m.\u001b[0m\u001b[0mswitch_backend\u001b[0m\u001b[0;34m(\u001b[0m\u001b[0mbackend\u001b[0m\u001b[0;34m)\u001b[0m\u001b[0;34m\u001b[0m\u001b[0;34m\u001b[0m\u001b[0m\n\u001b[0m\u001b[1;32m    315\u001b[0m \u001b[0;34m\u001b[0m\u001b[0m\n\u001b[1;32m    316\u001b[0m     \u001b[0;31m# This must be imported last in the matplotlib series, after\u001b[0m\u001b[0;34m\u001b[0m\u001b[0;34m\u001b[0m\u001b[0;34m\u001b[0m\u001b[0m\n",
      "\u001b[0;32m~/anaconda3/lib/python3.7/site-packages/matplotlib/pyplot.py\u001b[0m in \u001b[0;36mswitch_backend\u001b[0;34m(newbackend)\u001b[0m\n\u001b[1;32m    219\u001b[0m         else \"matplotlib.backends.backend_{}\".format(newbackend.lower()))\n\u001b[1;32m    220\u001b[0m \u001b[0;34m\u001b[0m\u001b[0m\n\u001b[0;32m--> 221\u001b[0;31m     \u001b[0mbackend_mod\u001b[0m \u001b[0;34m=\u001b[0m \u001b[0mimportlib\u001b[0m\u001b[0;34m.\u001b[0m\u001b[0mimport_module\u001b[0m\u001b[0;34m(\u001b[0m\u001b[0mbackend_name\u001b[0m\u001b[0;34m)\u001b[0m\u001b[0;34m\u001b[0m\u001b[0;34m\u001b[0m\u001b[0m\n\u001b[0m\u001b[1;32m    222\u001b[0m     Backend = type(\n\u001b[1;32m    223\u001b[0m         \"Backend\", (matplotlib.backends._Backend,), vars(backend_mod))\n",
      "\u001b[0;32m~/anaconda3/lib/python3.7/importlib/__init__.py\u001b[0m in \u001b[0;36mimport_module\u001b[0;34m(name, package)\u001b[0m\n\u001b[1;32m    125\u001b[0m                 \u001b[0;32mbreak\u001b[0m\u001b[0;34m\u001b[0m\u001b[0;34m\u001b[0m\u001b[0m\n\u001b[1;32m    126\u001b[0m             \u001b[0mlevel\u001b[0m \u001b[0;34m+=\u001b[0m \u001b[0;36m1\u001b[0m\u001b[0;34m\u001b[0m\u001b[0;34m\u001b[0m\u001b[0m\n\u001b[0;32m--> 127\u001b[0;31m     \u001b[0;32mreturn\u001b[0m \u001b[0m_bootstrap\u001b[0m\u001b[0;34m.\u001b[0m\u001b[0m_gcd_import\u001b[0m\u001b[0;34m(\u001b[0m\u001b[0mname\u001b[0m\u001b[0;34m[\u001b[0m\u001b[0mlevel\u001b[0m\u001b[0;34m:\u001b[0m\u001b[0;34m]\u001b[0m\u001b[0;34m,\u001b[0m \u001b[0mpackage\u001b[0m\u001b[0;34m,\u001b[0m \u001b[0mlevel\u001b[0m\u001b[0;34m)\u001b[0m\u001b[0;34m\u001b[0m\u001b[0;34m\u001b[0m\u001b[0m\n\u001b[0m\u001b[1;32m    128\u001b[0m \u001b[0;34m\u001b[0m\u001b[0m\n\u001b[1;32m    129\u001b[0m \u001b[0;34m\u001b[0m\u001b[0m\n",
      "\u001b[0;32m~/anaconda3/lib/python3.7/importlib/_bootstrap.py\u001b[0m in \u001b[0;36m_gcd_import\u001b[0;34m(name, package, level)\u001b[0m\n",
      "\u001b[0;32m~/anaconda3/lib/python3.7/importlib/_bootstrap.py\u001b[0m in \u001b[0;36m_find_and_load\u001b[0;34m(name, import_)\u001b[0m\n",
      "\u001b[0;32m~/anaconda3/lib/python3.7/importlib/_bootstrap.py\u001b[0m in \u001b[0;36m_find_and_load_unlocked\u001b[0;34m(name, import_)\u001b[0m\n",
      "\u001b[0;32m~/anaconda3/lib/python3.7/importlib/_bootstrap.py\u001b[0m in \u001b[0;36m_call_with_frames_removed\u001b[0;34m(f, *args, **kwds)\u001b[0m\n",
      "\u001b[0;32m~/anaconda3/lib/python3.7/importlib/_bootstrap.py\u001b[0m in \u001b[0;36m_gcd_import\u001b[0;34m(name, package, level)\u001b[0m\n",
      "\u001b[0;32m~/anaconda3/lib/python3.7/importlib/_bootstrap.py\u001b[0m in \u001b[0;36m_find_and_load\u001b[0;34m(name, import_)\u001b[0m\n",
      "\u001b[0;32m~/anaconda3/lib/python3.7/importlib/_bootstrap.py\u001b[0m in \u001b[0;36m_find_and_load_unlocked\u001b[0;34m(name, import_)\u001b[0m\n",
      "\u001b[0;31mModuleNotFoundError\u001b[0m: No module named 'ipympl'"
     ]
    }
   ],
   "source": [
    "%matplotlib widget\n",
    "mpl.rcParams['axes.linewidth'] = 2\n",
    "mpl.rcParams['font.size'] = 24\n",
    "plt.figure(figsize=(15, 10))\n",
    "for i, elm in enumerate(elms):\n",
    "    plt.plot(E_dep_imp_all[i], E_dep_veto_all[i], label=elm)\n",
    "plt.xlabel(\"Energy imp (MeV)\")\n",
    "plt.ylabel(\"Energy veto (MeV)\")\n",
    "plt.legend()\n",
    "plt.show()"
   ]
  }
 ],
 "metadata": {
  "kernelspec": {
   "display_name": "Python 3",
   "language": "python",
   "name": "python3"
  },
  "language_info": {
   "codemirror_mode": {
    "name": "ipython",
    "version": 3
   },
   "file_extension": ".py",
   "mimetype": "text/x-python",
   "name": "python",
   "nbconvert_exporter": "python",
   "pygments_lexer": "ipython3",
   "version": "3.7.4"
  }
 },
 "nbformat": 4,
 "nbformat_minor": 4
}
