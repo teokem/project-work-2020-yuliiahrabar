{
 "cells": [
  {
   "cell_type": "markdown",
   "metadata": {},
   "source": [
    "# Evaluation of SRIM stopping power extrapolations to transuranium elements"
   ]
  },
  {
   "cell_type": "code",
   "execution_count": 1,
   "metadata": {},
   "outputs": [
    {
     "name": "stdout",
     "output_type": "stream",
     "text": [
      "SRIM stopping power successfully calculated\n",
      "\tCalculate energy loss as a function of traversed target material with function 'GetElossAfterX(E_init, x)'\n",
      "\tCalculate traversed target material as a function of energy loss 'GetXAfterEloss(E_init, E_after)'\n",
      "\tCalculate range in material as a function of energy 'GetRange(E_init)'\n",
      "Successfully imported 'GenerateStoppingPower'\n",
      "\tClass to Generate SRIM Stopping Power and calculate energy loss and traversed material.\n"
     ]
    }
   ],
   "source": [
    "%run GenerateStoppingPower.ipynb"
   ]
  },
  {
   "cell_type": "code",
   "execution_count": 2,
   "metadata": {},
   "outputs": [],
   "source": [
    "import numpy as np\n",
    "import matplotlib.pyplot as plt\n",
    "import time\n",
    "import scipy.linalg\n",
    "from matplotlib import colors\n",
    "import matplotlib as mpl\n",
    "from matplotlib import cm\n",
    "from mpl_toolkits.mplot3d import Axes3D\n",
    "from matplotlib.backends.backend_pdf import PdfPages\n",
    "from mpl_toolkits.axes_grid1 import make_axes_locatable\n",
    "import pandas as pd\n",
    "\n",
    "color_list = plt.rcParams['axes.prop_cycle'].by_key()['color'];\n",
    "#Customising style\n",
    "#mpl.rc('lines', linewidth=2, color='r')\n",
    "mpl.rcParams['axes.linewidth'] = 2\n",
    "mpl.rcParams['font.size'] = 24\n",
    "#mpl.rcParams['savefig.format'] = \"eps\"\n",
    "#mpl.rcParams['savefig.dpi'] = 100\n",
    "#mpl.rcParams['text.usetex'] = True\n",
    "#mpl.rcParams['figure.figsize'] = (16,9)"
   ]
  },
  {
   "cell_type": "code",
   "execution_count": 3,
   "metadata": {},
   "outputs": [],
   "source": [
    "%matplotlib widget"
   ]
  },
  {
   "cell_type": "markdown",
   "metadata": {},
   "source": [
    "## Ion"
   ]
  },
  {
   "cell_type": "markdown",
   "metadata": {},
   "source": [
    "Example SiO2 layer as material"
   ]
  },
  {
   "cell_type": "code",
   "execution_count": 4,
   "metadata": {},
   "outputs": [],
   "source": [
    "# Construct a layer of UO2, arbitrary width (as it is not relevant for these calcs)\n",
    "layer = Layer({\n",
    "    'Si': {\n",
    "        'stoich': 1,\n",
    "        #'E_d': 35.0, # Displacement Energy\n",
    "        #'lattice': 0.0,\n",
    "        #'surface': 3.0\n",
    "    },\n",
    "    'O': {\n",
    "        'stoich': 2,\n",
    "        #'E_d': 20.0, # Displacement Energy\n",
    "        #'lattice': 0.0,\n",
    "        #'surface': 3.0\n",
    "    }\n",
    "}, density=2.32, width=10000.0)"
   ]
  },
  {
   "cell_type": "markdown",
   "metadata": {},
   "source": [
    "Example ion is No-254."
   ]
  },
  {
   "cell_type": "code",
   "execution_count": 5,
   "metadata": {},
   "outputs": [],
   "source": [
    "# Construct ion\n",
    "A, E_per_A_max = 254, 7e6 # nucleon number, eV \n",
    "energy_max = A*E_per_A_max\n",
    "#print(\"Max energy=\", energy_max)\n",
    "ion = Ion('U', energy=energy_max, mass=A)"
   ]
  },
  {
   "cell_type": "code",
   "execution_count": 6,
   "metadata": {},
   "outputs": [
    {
     "name": "stdout",
     "output_type": "stream",
     "text": [
      "SRIM stopping power successfully calculated\n",
      "\tCalculate energy loss as a function of traversed target material with function 'GetElossAfterX(E_init, x)'\n",
      "\tCalculate traversed target material as a function of energy loss 'GetXAfterEloss(E_init, E_after)'\n",
      "\tCalculate range in material as a function of energy 'GetRange(E_init)'\n"
     ]
    }
   ],
   "source": [
    "U254 = GenerateStoppingPower(layer, ion)"
   ]
  },
  {
   "cell_type": "code",
   "execution_count": 7,
   "metadata": {},
   "outputs": [
    {
     "name": "stdout",
     "output_type": "stream",
     "text": [
      "Extrapolating stopping power for ion with z= 102\n",
      "Mean scaling factor: 1.1474923319670072\n",
      "SRIM stopping power successfully calculated\n",
      "\tCalculate energy loss as a function of traversed target material with function 'GetElossAfterX(E_init, x)'\n",
      "\tCalculate traversed target material as a function of energy loss 'GetXAfterEloss(E_init, E_after)'\n",
      "\tCalculate range in material as a function of energy 'GetRange(E_init)'\n"
     ]
    }
   ],
   "source": [
    "No254 = GenerateStoppingPower(layer, ion, z_ion=102)"
   ]
  },
  {
   "cell_type": "code",
   "execution_count": 8,
   "metadata": {},
   "outputs": [
    {
     "name": "stdout",
     "output_type": "stream",
     "text": [
      "Extrapolating stopping power for ion with z= 114\n",
      "Mean scaling factor: 1.3309325475011262\n",
      "SRIM stopping power successfully calculated\n",
      "\tCalculate energy loss as a function of traversed target material with function 'GetElossAfterX(E_init, x)'\n",
      "\tCalculate traversed target material as a function of energy loss 'GetXAfterEloss(E_init, E_after)'\n",
      "\tCalculate range in material as a function of energy 'GetRange(E_init)'\n"
     ]
    }
   ],
   "source": [
    "# Construct ion\n",
    "A, E_per_A_max = 289, 7e6 # nucleon number, eV \n",
    "energy_max = A*E_per_A_max\n",
    "#print(\"Max energy=\", energy_max)\n",
    "ion = Ion('U', energy=energy_max, mass=A)\n",
    "Fl289 = GenerateStoppingPower(layer, ion, z_ion=114)"
   ]
  },
  {
   "cell_type": "code",
   "execution_count": 9,
   "metadata": {},
   "outputs": [
    {
     "data": {
      "application/vnd.jupyter.widget-view+json": {
       "model_id": "a494c2f454dc406eb703f279621a60ee",
       "version_major": 2,
       "version_minor": 0
      },
      "text/plain": [
       "FigureCanvasNbAgg()"
      ]
     },
     "metadata": {},
     "output_type": "display_data"
    }
   ],
   "source": [
    "plt.figure()\n",
    "plt.plot(U254.energy_raw, U254.dEdX_raw, label='U254')\n",
    "plt.plot(No254.energy_raw, No254.dEdX_raw, label='No254')\n",
    "plt.plot(Fl289.energy_raw, Fl289.dEdX_raw, label='Fl289')\n",
    "plt.xlabel('Energy (MeV)')\n",
    "plt.ylabel('Stopping power (MeV/µm)')\n",
    "plt.legend()\n",
    "plt.show()"
   ]
  },
  {
   "cell_type": "code",
   "execution_count": 10,
   "metadata": {},
   "outputs": [
    {
     "data": {
      "application/vnd.jupyter.widget-view+json": {
       "model_id": "aeebe4ef3d2d4665b23594f32af448b7",
       "version_major": 2,
       "version_minor": 0
      },
      "text/plain": [
       "FigureCanvasNbAgg()"
      ]
     },
     "metadata": {},
     "output_type": "display_data"
    }
   ],
   "source": [
    "plt.figure()\n",
    "plt.plot(U254.energy_raw, U254.GetRange(U254.energy_raw), label='U254_raw')\n",
    "plt.plot(U254.energy_raw, U254.GetRange(U254.energy_raw, from_sr=True), label='U254')\n",
    "plt.plot(No254.energy_raw, No254.GetRange(No254.energy_raw, from_sr=True), label='No254')\n",
    "plt.plot(Fl289.energy_interp, Fl289.GetRange(Fl289.energy_interp), label='Fl289_raw')\n",
    "plt.plot(Fl289.energy_interp, Fl289.GetRange(Fl289.energy_interp, from_sr=True), label='Fl289')\n",
    "\n",
    "plt.xlabel('Energy (MeV)')\n",
    "plt.ylabel('Range (µm)')\n",
    "plt.legend()\n",
    "plt.show()"
   ]
  },
  {
   "cell_type": "markdown",
   "metadata": {},
   "source": [
    "## Material"
   ]
  },
  {
   "cell_type": "markdown",
   "metadata": {},
   "source": [
    "Example PuO2 layer as material"
   ]
  },
  {
   "cell_type": "code",
   "execution_count": 11,
   "metadata": {},
   "outputs": [],
   "source": [
    "# Construct a layer of SiO2, arbitrary width (as it is not relevant for these calcs)\n",
    "layer = Layer({\n",
    "    'Si': {\n",
    "        'stoich': 1,\n",
    "        #'E_d': 35.0, # Displacement Energy\n",
    "        #'lattice': 0.0,\n",
    "        #'surface': 3.0\n",
    "    },\n",
    "    'O': {\n",
    "        'stoich': 2,\n",
    "        #'E_d': 20.0, # Displacement Energy\n",
    "        #'lattice': 0.0,\n",
    "        #'surface': 3.0\n",
    "    }\n",
    "}, density=11.5, width=10000.0)"
   ]
  },
  {
   "cell_type": "markdown",
   "metadata": {},
   "source": [
    "Example ion is Ca-48."
   ]
  },
  {
   "cell_type": "code",
   "execution_count": 12,
   "metadata": {},
   "outputs": [],
   "source": [
    "# Construct ion\n",
    "A, E_per_A_max = 48, 7e6 # nucleon number, eV \n",
    "energy_max = A*E_per_A_max\n",
    "#print(\"Max energy=\", energy_max)\n",
    "ion = Ion('Ca', energy=energy_max, mass=A)"
   ]
  },
  {
   "cell_type": "code",
   "execution_count": 13,
   "metadata": {},
   "outputs": [
    {
     "name": "stdout",
     "output_type": "stream",
     "text": [
      "SRIM stopping power successfully calculated\n",
      "\tCalculate energy loss as a function of traversed target material with function 'GetElossAfterX(E_init, x)'\n",
      "\tCalculate traversed target material as a function of energy loss 'GetXAfterEloss(E_init, E_after)'\n",
      "\tCalculate range in material as a function of energy 'GetRange(E_init)'\n"
     ]
    }
   ],
   "source": [
    "UO2 = GenerateStoppingPower(layer, ion)"
   ]
  },
  {
   "cell_type": "code",
   "execution_count": 14,
   "metadata": {},
   "outputs": [
    {
     "name": "stdout",
     "output_type": "stream",
     "text": [
      "Extrapolating stopping power for material with Z= 36.666666666666664\n",
      "Scaling factor: 1.0185185185185184\n",
      "SRIM stopping power successfully calculated\n",
      "\tCalculate energy loss as a function of traversed target material with function 'GetElossAfterX(E_init, x)'\n",
      "\tCalculate traversed target material as a function of energy loss 'GetXAfterEloss(E_init, E_after)'\n",
      "\tCalculate range in material as a function of energy 'GetRange(E_init)'\n"
     ]
    }
   ],
   "source": [
    "Z_PuO2 = (94+2*8)/3.\n",
    "Z_UO2 = (92+2*8)/3.\n",
    "PuO2 = GenerateStoppingPower(layer, ion, Z=Z_PuO2, Z_ref=Z_UO2)"
   ]
  },
  {
   "cell_type": "code",
   "execution_count": 15,
   "metadata": {},
   "outputs": [
    {
     "data": {
      "application/vnd.jupyter.widget-view+json": {
       "model_id": "cec5d38be0de425ea69aa375aa329437",
       "version_major": 2,
       "version_minor": 0
      },
      "text/plain": [
       "FigureCanvasNbAgg()"
      ]
     },
     "metadata": {},
     "output_type": "display_data"
    }
   ],
   "source": [
    "plt.figure()\n",
    "plt.plot(UO2.energy_raw, UO2.dEdX_raw, label='UO2')\n",
    "plt.plot(PuO2.energy_raw, PuO2.dEdX_raw, label='PuO2')\n",
    "plt.xlabel('Energy (MeV)')\n",
    "plt.ylabel('Stopping power (MeV/µm)')\n",
    "plt.legend()\n",
    "plt.show()"
   ]
  },
  {
   "cell_type": "code",
   "execution_count": 16,
   "metadata": {},
   "outputs": [
    {
     "data": {
      "application/vnd.jupyter.widget-view+json": {
       "model_id": "eb371ddd8cfd4d018e2a463589955127",
       "version_major": 2,
       "version_minor": 0
      },
      "text/plain": [
       "FigureCanvasNbAgg()"
      ]
     },
     "metadata": {},
     "output_type": "display_data"
    }
   ],
   "source": [
    "plt.figure()\n",
    "plt.plot(UO2.energy_raw, UO2.GetRange(UO2.energy_raw), label='UO2')\n",
    "plt.plot(PuO2.energy_raw, PuO2.GetRange(PuO2.energy_raw, from_sr=True), label='PuO2')\n",
    "plt.xlabel('Energy (MeV)')\n",
    "plt.ylabel('Range (µm)')\n",
    "plt.legend()\n",
    "plt.show()"
   ]
  }
 ],
 "metadata": {
  "kernelspec": {
   "display_name": "Python 3",
   "language": "python",
   "name": "python3"
  },
  "language_info": {
   "codemirror_mode": {
    "name": "ipython",
    "version": 3
   },
   "file_extension": ".py",
   "mimetype": "text/x-python",
   "name": "python",
   "nbconvert_exporter": "python",
   "pygments_lexer": "ipython3",
   "version": "3.6.5"
  }
 },
 "nbformat": 4,
 "nbformat_minor": 2
}
