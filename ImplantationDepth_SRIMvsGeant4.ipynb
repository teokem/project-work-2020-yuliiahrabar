{
 "cells": [
  {
   "cell_type": "markdown",
   "metadata": {},
   "source": [
    "# Calculations implantation depths"
   ]
  },
  {
   "cell_type": "code",
   "execution_count": 4,
   "metadata": {},
   "outputs": [
    {
     "ename": "FileNotFoundError",
     "evalue": "[Errno 2] No such file or directory: '/home/yulia/.wine/drive_c/Program Files (x86)/SRIM_2013_install/.srim/SR Module'",
     "output_type": "error",
     "traceback": [
      "\u001b[0;31m---------------------------------------------------------------------------\u001b[0m",
      "\u001b[0;31mFileNotFoundError\u001b[0m                         Traceback (most recent call last)",
      "\u001b[0;32m~/Desktop/Beam_target/geant4_vs_srim_stopping_power/GenerateStoppingPower.ipynb\u001b[0m in \u001b[0;36m<module>\u001b[0;34m\u001b[0m\n\u001b[0;32m----> 1\u001b[0;31m \u001b[0mGSP\u001b[0m \u001b[0;34m=\u001b[0m \u001b[0mGenerateStoppingPower\u001b[0m\u001b[0;34m(\u001b[0m\u001b[0mlayer\u001b[0m\u001b[0;34m=\u001b[0m\u001b[0mtest_layer\u001b[0m\u001b[0;34m,\u001b[0m \u001b[0mion\u001b[0m\u001b[0;34m=\u001b[0m\u001b[0mtest_ion\u001b[0m\u001b[0;34m)\u001b[0m\u001b[0;34m\u001b[0m\u001b[0m\n\u001b[0m",
      "\u001b[0;32m~/Desktop/Beam_target/geant4_vs_srim_stopping_power/GenerateStoppingPower.ipynb\u001b[0m in \u001b[0;36m__init__\u001b[0;34m(self, layer, ion, z_ion, Z, Z_ref, e_low_lim, **kwargs)\u001b[0m\n\u001b[1;32m      5\u001b[0m         \u001b[0;31m#output_type = 5, means MeV / (mg/cm2)\u001b[0m\u001b[0;34m\u001b[0m\u001b[0;34m\u001b[0m\u001b[0m\n\u001b[1;32m      6\u001b[0m         \u001b[0msrim\u001b[0m \u001b[0;34m=\u001b[0m \u001b[0mSR\u001b[0m\u001b[0;34m(\u001b[0m\u001b[0mlayer\u001b[0m\u001b[0;34m,\u001b[0m \u001b[0mion\u001b[0m\u001b[0;34m,\u001b[0m \u001b[0moutput_type\u001b[0m\u001b[0;34m=\u001b[0m\u001b[0;36m5\u001b[0m\u001b[0;34m,\u001b[0m \u001b[0menergy_min\u001b[0m\u001b[0;34m=\u001b[0m\u001b[0;36m1002.\u001b[0m\u001b[0;34m)\u001b[0m\u001b[0;34m\u001b[0m\u001b[0m\n\u001b[0;32m----> 7\u001b[0;31m         \u001b[0mresults\u001b[0m \u001b[0;34m=\u001b[0m \u001b[0msrim\u001b[0m\u001b[0;34m.\u001b[0m\u001b[0mrun\u001b[0m\u001b[0;34m(\u001b[0m\u001b[0msrim_executable_directory\u001b[0m\u001b[0;34m)\u001b[0m\u001b[0;34m\u001b[0m\u001b[0m\n\u001b[0m\u001b[1;32m      8\u001b[0m \u001b[0;34m\u001b[0m\u001b[0m\n\u001b[1;32m      9\u001b[0m         \u001b[0mself\u001b[0m\u001b[0;34m.\u001b[0m\u001b[0menergy_raw\u001b[0m \u001b[0;34m=\u001b[0m \u001b[0;36m1e-3\u001b[0m\u001b[0;34m*\u001b[0m\u001b[0mresults\u001b[0m\u001b[0;34m.\u001b[0m\u001b[0mdata\u001b[0m\u001b[0;34m[\u001b[0m\u001b[0;36m0\u001b[0m\u001b[0;34m]\u001b[0m \u001b[0;31m#to MeV\u001b[0m\u001b[0;34m\u001b[0m\u001b[0m\n",
      "\u001b[0;32m~/anaconda3/envs/deadlayer/lib/python3.6/site-packages/srim/srim.py\u001b[0m in \u001b[0;36mrun\u001b[0;34m(self, srim_directory)\u001b[0m\n\u001b[1;32m    306\u001b[0m         \u001b[0mcurrent_directory\u001b[0m \u001b[0;34m=\u001b[0m \u001b[0mos\u001b[0m\u001b[0;34m.\u001b[0m\u001b[0mgetcwd\u001b[0m\u001b[0;34m(\u001b[0m\u001b[0;34m)\u001b[0m\u001b[0;34m\u001b[0m\u001b[0m\n\u001b[1;32m    307\u001b[0m         \u001b[0;32mtry\u001b[0m\u001b[0;34m:\u001b[0m\u001b[0;34m\u001b[0m\u001b[0m\n\u001b[0;32m--> 308\u001b[0;31m             \u001b[0mos\u001b[0m\u001b[0;34m.\u001b[0m\u001b[0mchdir\u001b[0m\u001b[0;34m(\u001b[0m\u001b[0mos\u001b[0m\u001b[0;34m.\u001b[0m\u001b[0mpath\u001b[0m\u001b[0;34m.\u001b[0m\u001b[0mjoin\u001b[0m\u001b[0;34m(\u001b[0m\u001b[0msrim_directory\u001b[0m\u001b[0;34m,\u001b[0m \u001b[0;34m'SR Module'\u001b[0m\u001b[0;34m)\u001b[0m\u001b[0;34m)\u001b[0m\u001b[0;34m\u001b[0m\u001b[0m\n\u001b[0m\u001b[1;32m    309\u001b[0m             \u001b[0mself\u001b[0m\u001b[0;34m.\u001b[0m\u001b[0m_write_input_file\u001b[0m\u001b[0;34m(\u001b[0m\u001b[0;34m)\u001b[0m\u001b[0;34m\u001b[0m\u001b[0m\n\u001b[1;32m    310\u001b[0m             \u001b[0;31m# Make sure compatible with Windows, OSX, and Linux\u001b[0m\u001b[0;34m\u001b[0m\u001b[0;34m\u001b[0m\u001b[0m\n",
      "\u001b[0;31mFileNotFoundError\u001b[0m: [Errno 2] No such file or directory: '/home/yulia/.wine/drive_c/Program Files (x86)/SRIM_2013_install/.srim/SR Module'"
     ]
    }
   ],
   "source": [
    "%run GenerateStoppingPower.ipynb"
   ]
  },
  {
   "cell_type": "code",
   "execution_count": null,
   "metadata": {},
   "outputs": [],
   "source": [
    "import numpy as np\n",
    "import matplotlib.pyplot as plt\n",
    "import time\n",
    "import scipy.linalg\n",
    "from matplotlib import colors\n",
    "import matplotlib as mpl\n",
    "from matplotlib import cm\n",
    "from mpl_toolkits.mplot3d import Axes3D\n",
    "from matplotlib.backends.backend_pdf import PdfPages\n",
    "from mpl_toolkits.axes_grid1 import make_axes_locatable\n",
    "import pandas as pd\n",
    "\n",
    "color_list = plt.rcParams['axes.prop_cycle'].by_key()['color'];\n",
    "#Customising style\n",
    "#mpl.rc('lines', linewidth=2, color='r')\n",
    "mpl.rcParams['axes.linewidth'] = 2\n",
    "mpl.rcParams['font.size'] = 24\n",
    "#mpl.rcParams['savefig.format'] = \"eps\"\n",
    "#mpl.rcParams['savefig.dpi'] = 100\n",
    "#mpl.rcParams['text.usetex'] = True\n",
    "#mpl.rcParams['figure.figsize'] = (16,9)"
   ]
  },
  {
   "cell_type": "markdown",
   "metadata": {},
   "source": [
    "## Material"
   ]
  },
  {
   "cell_type": "code",
   "execution_count": null,
   "metadata": {},
   "outputs": [],
   "source": [
    "# Construct a layer of SiO2, arbitrary width (as it is not relevant for these calcs)\n",
    "layer = Layer({\n",
    "    'Si': {\n",
    "        'stoich': 1,\n",
    "        #'E_d': 35.0, # Displacement Energy\n",
    "        #'lattice': 0.0,\n",
    "        #'surface': 3.0\n",
    "    },\n",
    "    'O': {\n",
    "        'stoich': 2,\n",
    "        #'E_d': 20.0, # Displacement Energy\n",
    "        #'lattice': 0.0,\n",
    "        #'surface': 3.0\n",
    "    }\n",
    "}, density=2.32, width=10000.0)"
   ]
  },
  {
   "cell_type": "markdown",
   "metadata": {},
   "source": [
    "## Fast-Alphas"
   ]
  },
  {
   "cell_type": "markdown",
   "metadata": {},
   "source": [
    "The kinematics as calculated in [notebook](TASCA_U225.ipynb) is assumed.\n",
    "\n",
    "Ion: U-225"
   ]
  },
  {
   "cell_type": "code",
   "execution_count": null,
   "metadata": {},
   "outputs": [],
   "source": [
    "E_kin = 45 #MeV"
   ]
  },
  {
   "cell_type": "code",
   "execution_count": null,
   "metadata": {},
   "outputs": [],
   "source": [
    "# Construct ion\n",
    "A, E_per_A_max = 225, 7e6 # nucleon number, eV \n",
    "energy_max = A*E_per_A_max\n",
    "#print(\"Max energy=\", energy_max)\n",
    "ion = Ion('U', energy=energy_max, mass=A)\n",
    "\n",
    "U225 = GenerateStoppingPower(layer, ion)"
   ]
  },
  {
   "cell_type": "code",
   "execution_count": null,
   "metadata": {},
   "outputs": [],
   "source": [
    "print(\"Range =\", U225.GetRange(45, from_sr=True), \"µm\")"
   ]
  },
  {
   "cell_type": "markdown",
   "metadata": {},
   "source": [
    "## Fl-289"
   ]
  },
  {
   "cell_type": "code",
   "execution_count": null,
   "metadata": {},
   "outputs": [],
   "source": [
    "# Construct ion\n",
    "A, E_per_A_max = 289, 7e6 # nucleon number, eV \n",
    "energy_max = A*E_per_A_max\n",
    "#print(\"Max energy=\", energy_max)\n",
    "ion = Ion('U', energy=energy_max, mass=A)\n",
    "\n",
    "Fl289 = GenerateStoppingPower(layer, ion, z_ion=114)"
   ]
  },
  {
   "cell_type": "code",
   "execution_count": null,
   "metadata": {},
   "outputs": [],
   "source": [
    "print(\"Range =\", Fl289.GetRange(22, from_sr=True), \"µm\")"
   ]
  },
  {
   "cell_type": "markdown",
   "metadata": {},
   "source": [
    "## Ca-48\n",
    "\n",
    "Beam-like ions implanting themselves."
   ]
  },
  {
   "cell_type": "code",
   "execution_count": null,
   "metadata": {},
   "outputs": [],
   "source": [
    "# Construct ion\n",
    "A, E_per_A_max = 48, 7e6 # nucleon number, eV \n",
    "energy_max = A*E_per_A_max\n",
    "#print(\"Max energy=\", energy_max)\n",
    "ion = Ion('Ca', energy=energy_max, mass=A)\n",
    "\n",
    "Ca48 = GenerateStoppingPower(layer, ion)"
   ]
  },
  {
   "cell_type": "code",
   "execution_count": null,
   "metadata": {},
   "outputs": [],
   "source": [
    "print(\"Range =\", Ca48.GetRange(289, from_sr=True), \"µm\")"
   ]
  },
  {
   "cell_type": "markdown",
   "metadata": {},
   "source": [
    "## Alphas\n",
    "\n",
    "Alphas punching through implantation detector."
   ]
  },
  {
   "cell_type": "code",
   "execution_count": null,
   "metadata": {},
   "outputs": [],
   "source": [
    "# Construct ion\n",
    "A, E_per_A_max = 4, 100e6 # nucleon number, eV \n",
    "energy_max = A*E_per_A_max\n",
    "#print(\"Max energy=\", energy_max)\n",
    "ion = Ion('He', energy=energy_max, mass=A)\n",
    "\n",
    "alpha = GenerateStoppingPower(layer, ion)"
   ]
  },
  {
   "cell_type": "code",
   "execution_count": null,
   "metadata": {},
   "outputs": [],
   "source": [
    "print(\"Range =\", alpha.GetRange(30, from_sr=True), \"µm\")"
   ]
  },
  {
   "cell_type": "markdown",
   "metadata": {},
   "source": [
    "### Punching through VETO and IMP"
   ]
  },
  {
   "cell_type": "markdown",
   "metadata": {},
   "source": [
    "Two energy components:\n",
    "\n",
    "* Beam-like particle collision with He-gas\n",
    "* Target-like particle collision with He-gas\n",
    "\n",
    "Assuming elastic collisions."
   ]
  },
  {
   "cell_type": "code",
   "execution_count": null,
   "metadata": {},
   "outputs": [],
   "source": [
    "e_tank1 = 4.774 #MeV/u\n",
    "e_tank2 = 5.893 #MeV/u\n",
    "A_beam = 48\n",
    "A_target = 207\n",
    "\n",
    "e_tank = e_tank1"
   ]
  },
  {
   "cell_type": "markdown",
   "metadata": {},
   "source": [
    "Equations for elastic collisions given here: https://en.wikipedia.org/wiki/Elastic_collision"
   ]
  },
  {
   "cell_type": "code",
   "execution_count": null,
   "metadata": {},
   "outputs": [],
   "source": [
    "def GetEAfterColl(m1, m2, T):\n",
    "    T1 = np.multiply(np.square(np.divide(m1-m2,m1+m2)), T)\n",
    "    T2 = 4*np.multiply(np.divide(np.multiply(m1, m2), np.square(m1+m2)), T)\n",
    "    \n",
    "    #T1 = np.square((m1-m2)/(m1+m2))*T\n",
    "    #T2 = ((4*m1*m2)/np.square(m1+m2))*T\n",
    "    \n",
    "    return T1, T2"
   ]
  },
  {
   "cell_type": "code",
   "execution_count": null,
   "metadata": {},
   "outputs": [],
   "source": [
    "E_beam = (A_beam*e_tank)\n",
    "\n",
    "E_target_like, E_tmp = GetEAfterColl(A_beam, A_target, E_beam)\n",
    "\n",
    "print(\"E_kin beam-like:\", E_beam, \"MeV\")\n",
    "print(\"E_kin beam-like after collision:\", E_tmp, \"MeV\")\n",
    "print(\"E_kin target-like after collision:\", E_target_like, \"MeV\")"
   ]
  },
  {
   "cell_type": "code",
   "execution_count": null,
   "metadata": {},
   "outputs": [],
   "source": [
    "E_alpha_from_beam, E_tmp = GetEAfterColl(A_beam, 4, E_beam)\n",
    "E_alpha_from_target, E_tmp = GetEAfterColl(A_target, 4, E_target_like)\n",
    "\n",
    "print(\"E_kin alpha after collision with beam-like:\", E_alpha_from_beam, \"MeV\")\n",
    "print(\"E_kin alpha after collision with target-like:\", E_alpha_from_target, \"MeV\")"
   ]
  },
  {
   "cell_type": "code",
   "execution_count": null,
   "metadata": {},
   "outputs": [],
   "source": [
    "E_kin_0 = np.asarray([E_alpha_from_beam, E_alpha_from_target]) "
   ]
  },
  {
   "cell_type": "code",
   "execution_count": null,
   "metadata": {},
   "outputs": [],
   "source": [
    "imp_thick = 300 #µm\n",
    "veto_thick = 300 #µm\n",
    "dl_imp_veto = 2 #µm"
   ]
  },
  {
   "cell_type": "code",
   "execution_count": null,
   "metadata": {},
   "outputs": [],
   "source": [
    "# implantation detector, dead layer\n",
    "for i, E_kin in enumerate(E_kin_0):\n",
    "    E_dep = [] #deposited energy for each layer\n",
    "    E_dep.append(alpha.GetElossAfterX(E_kin, dl_imp_veto)) #deposited energy\n",
    "    #print(E_dep[-1])\n",
    "    E_kin -= E_dep[-1] # energy after deposit\n",
    "    # implantation detector\n",
    "    E_dep.append(alpha.GetElossAfterX(E_kin, imp_thick-dl_imp_veto)) #deposited energy\n",
    "    E_kin -= E_dep[-1] # alpha energy after deposit\n",
    "\n",
    "    # veto detector, dead layer\n",
    "    E_dep.append(alpha.GetElossAfterX(E_kin, dl_imp_veto)) #deposited energy\n",
    "    #print(E_dep[-1])\n",
    "    E_kin -= E_dep[-1] # energy after deposit\n",
    "    # veto detector\n",
    "    E_dep.append(alpha.GetElossAfterX(E_kin, veto_thick-dl_imp_veto)) #deposited energy\n",
    "    E_kin -= E_dep[-1] # alpha energy after deposit\n",
    "    print(i, \"Initial energy:\", E_kin_0[i], \"MeV\\n\\tDeposited energies:\\n\\t\", E_dep, \"MeV\")\n",
    "    print(\"\\t Energy after:\", E_kin, \"MeV\")"
   ]
  },
  {
   "cell_type": "markdown",
   "metadata": {},
   "source": [
    "## IMP and VETOas dE-dE detector"
   ]
  },
  {
   "cell_type": "markdown",
   "metadata": {},
   "source": [
    "Simulate dE-dE response for different particles."
   ]
  },
  {
   "cell_type": "code",
   "execution_count": null,
   "metadata": {},
   "outputs": [],
   "source": [
    "elms = np.asarray([\"H\", \"He\", \"Li\", \"Be\", \"B\", \"C\", \"N\", \"O\", \"F\", \"Ne\"])\n",
    "As = np.asarray([\"1\", \"4\", \"7\", \"9\", \"11\", \"12\", \"14\", \"16\", \"19\", \"20\"])\n",
    "#elms = np.asarray([\"He\"])\n",
    "#As = np.asarray([\"4\"])"
   ]
  },
  {
   "cell_type": "markdown",
   "metadata": {},
   "source": [
    "This may take a while ..."
   ]
  },
  {
   "cell_type": "code",
   "execution_count": null,
   "metadata": {},
   "outputs": [],
   "source": [
    "# Construct ions\n",
    "energy_max = 300e6 #300 MeV\n",
    "\n",
    "GSP_dEdE = []\n",
    "\n",
    "for i, elm in enumerate(elms):\n",
    "    ion = Ion(elm, energy=energy_max, mass=As[i])\n",
    "    GSP_dEdE.append(GenerateStoppingPower(layer, ion))"
   ]
  },
  {
   "cell_type": "code",
   "execution_count": null,
   "metadata": {},
   "outputs": [],
   "source": [
    "imp_thick = 300 #µm\n",
    "veto_thick = 300 #µm\n",
    "dl_imp_veto = 5 #µm, dead layer at back and front"
   ]
  },
  {
   "cell_type": "markdown",
   "metadata": {},
   "source": [
    "Energies in the range [5, 295] MeV is investigated."
   ]
  },
  {
   "cell_type": "code",
   "execution_count": null,
   "metadata": {},
   "outputs": [],
   "source": [
    "energy = np.linspace(20, 295, 1000)"
   ]
  },
  {
   "cell_type": "code",
   "execution_count": null,
   "metadata": {},
   "outputs": [],
   "source": [
    "energies_all, E_dep_imp_all, E_dep_veto_all = [], [], [] #deposited energy in imp and box\n",
    "\n",
    "for i, elm in enumerate(elms):\n",
    "    print(i, \"\\tCalculating for particle:\", elm)\n",
    "    #E_dep_imp, E_dep_veto = np.asarray([]), np.asarray([]) #deposited energy for each detector\n",
    "    E_now = energy\n",
    "    energies = energy\n",
    "    # implantation detector, dead layer\n",
    "    E_dep = GSP_dEdE[i].GetElossAfterX(energy, dl_imp_veto) #deposited energy\n",
    "    #print(E_dep[-1])\n",
    "    E_now -= E_dep # energy after deposit\n",
    "    inds = E_now > 10\n",
    "    energies = energies[inds]\n",
    "    E_now = E_now[inds]\n",
    "    \n",
    "    # implantation detector\n",
    "    E_dep = GSP_dEdE[i].GetElossAfterX(E_now, imp_thick-2*dl_imp_veto) #deposited energy\n",
    "    E_dep_imp_all.append(E_dep) \n",
    "    E_now -= E_dep # energy after deposit\n",
    "\n",
    "    inds = E_now > 10\n",
    "    energies = energies[inds]\n",
    "    E_now = E_now[inds]\n",
    "    E_dep_imp_all[-1] = E_dep_imp_all[-1][inds] \n",
    "    \n",
    "    # imp detector back dead layer and veto detector dead layer\n",
    "    E_dep = GSP_dEdE[i].GetElossAfterX(E_now, 2*dl_imp_veto) #deposited energy\n",
    "    #print(E_dep[-1])\n",
    "    E_now -= E_dep # energy after deposit  \n",
    "    \n",
    "    inds = E_now > 10\n",
    "    energies = energies[inds]\n",
    "    E_now = E_now[inds]\n",
    "    E_dep_imp_all[-1] = E_dep_imp_all[-1][inds] \n",
    "\n",
    "    # veto detector\n",
    "    E_dep = GSP_dEdE[i].GetElossAfterX(E_now, imp_thick-2*dl_imp_veto) #deposited energy\n",
    "    E_dep_veto_all.append(E_dep) \n",
    "    E_now -= E_dep # energy after deposit\n",
    "    energies_all.append(energies)"
   ]
  },
  {
   "cell_type": "code",
   "execution_count": null,
   "metadata": {},
   "outputs": [],
   "source": [
    "for i, x in enumerate(elms):\n",
    "    print(energies_all[i].shape, E_dep_imp_all[i].shape, E_dep_veto_all[i].shape)"
   ]
  },
  {
   "cell_type": "code",
   "execution_count": null,
   "metadata": {},
   "outputs": [],
   "source": [
    "%matplotlib widget\n",
    "mpl.rcParams['axes.linewidth'] = 2\n",
    "mpl.rcParams['font.size'] = 24\n",
    "plt.figure(figsize=(15, 10))\n",
    "for i, elm in enumerate(elms):\n",
    "    plt.plot(E_dep_imp_all[i], E_dep_veto_all[i], label=elm)\n",
    "plt.xlabel(\"Energy imp (MeV)\")\n",
    "plt.ylabel(\"Energy veto (MeV)\")\n",
    "plt.legend()\n",
    "plt.show()"
   ]
  }
 ],
 "metadata": {
  "kernelspec": {
   "display_name": "Python 3",
   "language": "python",
   "name": "python3"
  },
  "language_info": {
   "codemirror_mode": {
    "name": "ipython",
    "version": 3
   },
   "file_extension": ".py",
   "mimetype": "text/x-python",
   "name": "python",
   "nbconvert_exporter": "python",
   "pygments_lexer": "ipython3",
   "version": "3.6.5"
  }
 },
 "nbformat": 4,
 "nbformat_minor": 4
}
