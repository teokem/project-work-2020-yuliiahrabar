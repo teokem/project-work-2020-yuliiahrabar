{
 "cells": [
  {
   "cell_type": "markdown",
   "metadata": {},
   "source": [
    "# Calculations - degrader foil thicknesses"
   ]
  },
  {
   "cell_type": "code",
   "execution_count": null,
   "metadata": {},
   "outputs": [],
   "source": [
    "%run SRIM_Ca48.ipynb"
   ]
  },
  {
   "cell_type": "code",
   "execution_count": null,
   "metadata": {},
   "outputs": [],
   "source": [
    "import numpy as np\n",
    "import matplotlib.pyplot as plt\n",
    "import time\n",
    "import scipy.linalg\n",
    "from matplotlib import colors\n",
    "import matplotlib as mpl\n",
    "from matplotlib import cm\n",
    "from mpl_toolkits.mplot3d import Axes3D\n",
    "from matplotlib.backends.backend_pdf import PdfPages\n",
    "from mpl_toolkits.axes_grid1 import make_axes_locatable\n",
    "import pandas as pd\n",
    "\n",
    "color_list = plt.rcParams['axes.prop_cycle'].by_key()['color'];\n",
    "#Customising style\n",
    "#mpl.rc('lines', linewidth=2, color='r')\n",
    "mpl.rcParams['axes.linewidth'] = 2\n",
    "mpl.rcParams['font.size'] = 24\n",
    "#mpl.rcParams['savefig.format'] = \"eps\"\n",
    "#mpl.rcParams['savefig.dpi'] = 100\n",
    "#mpl.rcParams['text.usetex'] = True\n",
    "#mpl.rcParams['figure.figsize'] = (16,9)"
   ]
  },
  {
   "cell_type": "markdown",
   "metadata": {},
   "source": [
    "## Initialise general parameters"
   ]
  },
  {
   "cell_type": "code",
   "execution_count": null,
   "metadata": {},
   "outputs": [],
   "source": [
    "e_tank1 = 4.774 #MeV/u\n",
    "e_tank2 = 5.893 #MeV/u\n",
    "A = 48"
   ]
  },
  {
   "cell_type": "markdown",
   "metadata": {},
   "source": [
    "## PbS for nobelium production\n",
    "\n",
    "Ca-48 on Pb-207.\n",
    "\n",
    "Beam energies at middle of target should be aimed for: \n",
    "\n",
    "* 4.53 MeV/u for 2n, i.e. No-253\n",
    "* 4.73 MeV/u for 3n, i.e. No-252\n",
    "\n",
    "This is according to Fritz Peter Hessberger, NUSTAR annual meeting 2010."
   ]
  },
  {
   "cell_type": "code",
   "execution_count": null,
   "metadata": {},
   "outputs": [],
   "source": [
    "e_tank = e_tank1\n",
    "target = \"PbS\"\n",
    "degrader = \"Al\"\n",
    "backing = \"Graphite\""
   ]
  },
  {
   "cell_type": "code",
   "execution_count": null,
   "metadata": {},
   "outputs": [],
   "source": [
    "degrader_thickness = 0.76 # mg/cm2\n",
    "degrader_thickness = 1e4*(degrader_thickness / 2.70e3) #µm\n",
    "print(degrader_thickness)\n",
    "degrader_thickness = 1*2 #µm\n",
    "\n",
    "backing_thickness = 40 # µg/cm2 (according to Dirk)\n",
    "backing_thickness = 1e4*(backing_thickness/2.15e6) # µm\n",
    "\n",
    "target_thickness = 0.6 #mg/cm2 (according to Dirk)\n",
    "target_thickness = 1e4*(target_thickness/7.60e3) # µm"
   ]
  },
  {
   "cell_type": "markdown",
   "metadata": {},
   "source": [
    "### Traversing material and calculating energy"
   ]
  },
  {
   "cell_type": "code",
   "execution_count": null,
   "metadata": {},
   "outputs": [],
   "source": [
    "E_of_X = [] #energies\n",
    "X = [] # distance\n",
    "E = e_tank*A\n",
    "E_of_X.append(E)\n",
    "X.append(0)\n",
    "print(\"E(\"+str(X[-1])+\" µm)=\", E_of_X[-1], 'MeV', E_of_X[-1]/A, 'MeV/u')\n",
    "\n",
    "# degrader\n",
    "E = E - e_loss_x(E, degrader_thickness, degrader)\n",
    "E_of_X.append(E)\n",
    "X.append(X[-1]+degrader_thickness)\n",
    "print(\"E(\"+str(X[-1])+\" µm)=\", E_of_X[-1], 'MeV', E_of_X[-1]/A, 'MeV/u')\n",
    "\n",
    "# backing\n",
    "E = E - e_loss_x(E, backing_thickness, backing)\n",
    "E_of_X.append(E)\n",
    "X.append(X[-1]+backing_thickness)\n",
    "print(\"E(\"+str(X[-1])+\" µm)=\", E_of_X[-1], 'MeV', E_of_X[-1]/A, 'MeV/u')\n",
    "\n",
    "# target, middle and end\n",
    "E = E - e_loss_x(E, target_thickness*0.5, target)\n",
    "E_of_X.append(E)\n",
    "X.append(X[-1]+target_thickness*0.5)\n",
    "print(\"E(\"+str(X[-1])+\" µm)=\", E_of_X[-1], 'MeV', E_of_X[-1]/A, 'MeV/u')\n",
    "E = E - e_loss_x(E, target_thickness*0.5, target)\n",
    "E_of_X.append(E)\n",
    "X.append(X[-1]+target_thickness*0.5)\n",
    "print(\"E(\"+str(X[-1])+\" µm)=\", E_of_X[-1], 'MeV', E_of_X[-1]/A, 'MeV/u')\n",
    "\n",
    "E_of_X = np.asarray(E_of_X)\n",
    "X = np.asarray(X)"
   ]
  },
  {
   "cell_type": "code",
   "execution_count": null,
   "metadata": {},
   "outputs": [],
   "source": [
    "stop_labels = ['start_degrader', 'start_backing', 'start_target', 'middle_target', 'end_target']"
   ]
  },
  {
   "cell_type": "code",
   "execution_count": null,
   "metadata": {},
   "outputs": [],
   "source": [
    "fig, axes = plt.subplots(1,2, figsize=(20,10))\n",
    "axes[0].plot(X, E_of_X, label='E(X)')\n",
    "axes[0].set_xlabel(\"Traversed material (µm)\")\n",
    "axes[0].set_ylabel('Energy (MeV))')\n",
    "axes[1].plot(stop_labels, E_of_X/A, label='E(X)')\n",
    "plt.xticks(rotation=90)\n",
    "axes[1].set_xlabel(\"Traversed material\")\n",
    "axes[1].set_ylabel('Energy (MeV/u)')\n",
    "plt.show()"
   ]
  },
  {
   "cell_type": "markdown",
   "metadata": {},
   "source": [
    "## Hf for shortlived alpha-decaying nuclei\n",
    "\n",
    "Ca-48 on Hf-nat.\n",
    "\n",
    "Beam energies at middle of target should be aimed for: \n",
    "\n",
    "* 4.2 MeV/u\n",
    "\n",
    "This is according to Andrew's calculations (got them from Dirk)"
   ]
  },
  {
   "cell_type": "code",
   "execution_count": null,
   "metadata": {},
   "outputs": [],
   "source": [
    "e_tank = e_tank1\n",
    "target = \"Hf\"\n",
    "degrader = \"Al\"\n",
    "backing = \"Ti\""
   ]
  },
  {
   "cell_type": "code",
   "execution_count": null,
   "metadata": {},
   "outputs": [],
   "source": [
    "degrader_thickness = 0.76 # mg/cm2\n",
    "degrader_thickness = 1e4*(degrader_thickness / 2.70e3) #µm\n",
    "print(degrader_thickness)\n",
    "degrader_thickness = 0*2 #µm\n",
    "\n",
    "backing_thickness = 0.82 # mg/cm2 (according to Dirk)\n",
    "backing_thickness = 1e4*(backing_thickness/4.506e3) # µm\n",
    "backing_thickness = 2.25 # µm\n",
    "\n",
    "target_thickness = 0.83 #mg/cm2 (correspondence with Bettina Lommel)\n",
    "target_thickness = 1e4*(target_thickness/13.31e3) # µm"
   ]
  },
  {
   "cell_type": "markdown",
   "metadata": {},
   "source": [
    "### Traversing material and calculating energy"
   ]
  },
  {
   "cell_type": "code",
   "execution_count": null,
   "metadata": {},
   "outputs": [],
   "source": [
    "E_of_X = [] #energies\n",
    "X = [] # distance\n",
    "E = e_tank*A\n",
    "E_of_X.append(E)\n",
    "X.append(0)\n",
    "print(\"E(\"+str(X[-1])+\" µm)=\", E_of_X[-1], 'MeV', E_of_X[-1]/A, 'MeV/u')\n",
    "\n",
    "# degrader\n",
    "E = E - e_loss_x(E, degrader_thickness, degrader)\n",
    "E_of_X.append(E)\n",
    "X.append(X[-1]+degrader_thickness)\n",
    "print(\"E(\"+str(X[-1])+\" µm)=\", E_of_X[-1], 'MeV', E_of_X[-1]/A, 'MeV/u')\n",
    "\n",
    "# backing\n",
    "E = E - e_loss_x(E, backing_thickness, backing)\n",
    "E_of_X.append(E)\n",
    "X.append(X[-1]+backing_thickness)\n",
    "print(\"E(\"+str(X[-1])+\" µm)=\", E_of_X[-1], 'MeV', E_of_X[-1]/A, 'MeV/u')\n",
    "\n",
    "# target, middle and end\n",
    "E = E - e_loss_x(E, target_thickness*0.5, target)\n",
    "E_of_X.append(E)\n",
    "X.append(X[-1]+target_thickness*0.5)\n",
    "print(\"E(\"+str(X[-1])+\" µm)=\", E_of_X[-1], 'MeV', E_of_X[-1]/A, 'MeV/u')\n",
    "E = E - e_loss_x(E, target_thickness*0.5, target)\n",
    "E_of_X.append(E)\n",
    "X.append(X[-1]+target_thickness*0.5)\n",
    "print(\"E(\"+str(X[-1])+\" µm)=\", E_of_X[-1], 'MeV', E_of_X[-1]/A, 'MeV/u')\n",
    "\n",
    "E_of_X = np.asarray(E_of_X)\n",
    "X = np.asarray(X)"
   ]
  },
  {
   "cell_type": "code",
   "execution_count": null,
   "metadata": {},
   "outputs": [],
   "source": [
    "stop_labels = ['start_degrader', 'start_backing', 'start_target', 'middle_target', 'end_target']"
   ]
  },
  {
   "cell_type": "code",
   "execution_count": null,
   "metadata": {},
   "outputs": [],
   "source": [
    "fig, axes = plt.subplots(1,2, figsize=(20,10))\n",
    "axes[0].plot(X, E_of_X, label='E(X)')\n",
    "axes[0].set_xlabel(\"Traversed material (µm)\")\n",
    "axes[0].set_ylabel('Energy (MeV))')\n",
    "axes[1].plot(stop_labels, E_of_X/A, label='E(X)')\n",
    "plt.xticks(rotation=90)\n",
    "axes[1].set_xlabel(\"Traversed material\")\n",
    "axes[1].set_ylabel('Energy (MeV/u)')\n",
    "plt.show()"
   ]
  }
 ],
 "metadata": {
  "kernelspec": {
   "display_name": "Python 3",
   "language": "python",
   "name": "python3"
  },
  "language_info": {
   "codemirror_mode": {
    "name": "ipython",
    "version": 3
   },
   "file_extension": ".py",
   "mimetype": "text/x-python",
   "name": "python",
   "nbconvert_exporter": "python",
   "pygments_lexer": "ipython3",
   "version": "3.6.5"
  }
 },
 "nbformat": 4,
 "nbformat_minor": 2
}
