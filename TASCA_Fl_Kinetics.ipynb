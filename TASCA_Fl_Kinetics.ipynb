{
 "cells": [
  {
   "cell_type": "markdown",
   "metadata": {},
   "source": [
    "# Calculations - Flerovium kinetics"
   ]
  },
  {
   "cell_type": "code",
   "execution_count": null,
   "metadata": {},
   "outputs": [],
   "source": [
    "%run SRIM_Ca48.ipynb\n",
    "%run GenerateStoppingPower.ipynb"
   ]
  },
  {
   "cell_type": "code",
   "execution_count": null,
   "metadata": {},
   "outputs": [],
   "source": [
    "import numpy as np\n",
    "import matplotlib.pyplot as plt\n",
    "import time\n",
    "import scipy.linalg\n",
    "from matplotlib import colors\n",
    "import matplotlib as mpl\n",
    "from matplotlib import cm\n",
    "from mpl_toolkits.mplot3d import Axes3D\n",
    "from matplotlib.backends.backend_pdf import PdfPages\n",
    "from mpl_toolkits.axes_grid1 import make_axes_locatable\n",
    "import pandas as pd\n",
    "\n",
    "color_list = plt.rcParams['axes.prop_cycle'].by_key()['color'];\n",
    "#Customising style\n",
    "#mpl.rc('lines', linewidth=2, color='r')\n",
    "mpl.rcParams['axes.linewidth'] = 2\n",
    "mpl.rcParams['font.size'] = 24\n",
    "#mpl.rcParams['savefig.format'] = \"eps\"\n",
    "#mpl.rcParams['savefig.dpi'] = 100\n",
    "#mpl.rcParams['text.usetex'] = True\n",
    "#mpl.rcParams['figure.figsize'] = (16,9)"
   ]
  },
  {
   "cell_type": "markdown",
   "metadata": {},
   "source": [
    "## Initialise general parameters"
   ]
  },
  {
   "cell_type": "code",
   "execution_count": null,
   "metadata": {},
   "outputs": [],
   "source": [
    "e_tank1 = 4.774 #MeV/u\n",
    "e_tank2 = 5.893 #MeV/u\n",
    "#e_tank2 = 6.02 #MeV/u\n",
    "A_beam = 48"
   ]
  },
  {
   "cell_type": "markdown",
   "metadata": {},
   "source": [
    "## Pu-target for flerovium production\n",
    "\n",
    "Ca-48 on Pu-target.\n",
    "\n",
    "Beam energies at middle of target should be aimed for: \n",
    "\n",
    "* 240 MeV = ~5 MeV/u\n",
    "\n",
    "See Dirk's folder."
   ]
  },
  {
   "cell_type": "markdown",
   "metadata": {},
   "source": [
    "### Basic settings"
   ]
  },
  {
   "cell_type": "code",
   "execution_count": null,
   "metadata": {},
   "outputs": [],
   "source": [
    "e_tank = e_tank2\n",
    "target = \"PuO2\"\n",
    "degrader = \"Ti\"\n",
    "backing = \"Ti\""
   ]
  },
  {
   "cell_type": "code",
   "execution_count": null,
   "metadata": {},
   "outputs": [],
   "source": [
    "print(\"Beam energy:\", e_tank*A_beam, \"MeV\")"
   ]
  },
  {
   "cell_type": "markdown",
   "metadata": {},
   "source": [
    "### Creating stopping power functions"
   ]
  },
  {
   "cell_type": "markdown",
   "metadata": {},
   "source": [
    "\"Targets\":"
   ]
  },
  {
   "cell_type": "code",
   "execution_count": null,
   "metadata": {},
   "outputs": [],
   "source": [
    "layers = []\n",
    "\n",
    "# Ti\n",
    "density = 4.506e3 #mg/cm3 (from wikipedia)\n",
    "densities.append(density)\n",
    "# Construct a layer of Ti, arbitrary width (as it is not relevant for these calcs)\n",
    "layers.append(Layer({\n",
    "    'Ti': {\n",
    "        'stoich': 1\n",
    "        #'E_d': 35.0, # Displacement Energy\n",
    "        #'lattice': 0.0,\n",
    "        #'surface': 3.0\n",
    "    }\n",
    "}, density=1e-3*density, width=10000.0))\n",
    "\n",
    "# PuO2\n",
    "density = 11.5 #g/cm3 (from wikipedia)\n",
    "densities.append(density)\n",
    "# Construct a layer of U, arbitrary width (as it is not relevant for these calcs)\n",
    "layers.append(Layer({\n",
    "    'U': {\n",
    "        'stoich': 1\n",
    "        #'E_d': 35.0, # Displacement Energy\n",
    "        #'lattice': 0.0,\n",
    "        #'surface': 3.0\n",
    "    }\n",
    "}, density=density, width=10000.0))\n",
    "\n",
    "# Calculating mean/effective nuclear charge for reference layer and desired layer.\n",
    "Z_UO2 = (92+2*8)/3.\n",
    "Z_PuO2 = (94+2*8)/3.\n",
    "\n",
    "layer_names = [\"Ti\", \"PuO2\"]"
   ]
  },
  {
   "cell_type": "markdown",
   "metadata": {},
   "source": [
    "\"Ion\":"
   ]
  },
  {
   "cell_type": "code",
   "execution_count": null,
   "metadata": {},
   "outputs": [],
   "source": [
    "# Construct ion\n",
    "A, E_per_A_max = 48, 7e6 # nucleon number, eV \n",
    "energy_max = A*E_per_A_max\n",
    "#print(\"Max energy=\", energy_max)\n",
    "ion = Ion('Ca', energy=energy_max, mass=A)"
   ]
  },
  {
   "cell_type": "markdown",
   "metadata": {},
   "source": [
    "Stopping power functions:"
   ]
  },
  {
   "cell_type": "code",
   "execution_count": null,
   "metadata": {},
   "outputs": [],
   "source": [
    "Ca48_GSP = {}\n",
    "\n",
    "Ca48_GSP[layer_names[0]] = GenerateStoppingPower(layers[0], ion)\n",
    "Ca48_GSP[layer_names[1]] = GenerateStoppingPower(layers[1], ion, Z=Z_PuO2, Z_ref=Z_UO2)"
   ]
  },
  {
   "cell_type": "markdown",
   "metadata": {},
   "source": [
    "### Thickness - degrader, backing, target"
   ]
  },
  {
   "cell_type": "code",
   "execution_count": null,
   "metadata": {},
   "outputs": [],
   "source": [
    "#degrader_thickness = 0.76 # mg/cm2\n",
    "#degrader_thickness = 1e4*(degrader_thickness / 2.70e3) #µm\n",
    "degrader_thickness = 5.6 #µm & 5.05 µm\n",
    "\n",
    "#backing_thickness = 40 # µg/cm2 (according to Dirk)\n",
    "#backing_thickness = 1e4*(backing_thickness/2.15e6) # µm\n",
    "backing_thickness = 2.24 #µm\n",
    "\n",
    "target_thickness = 0.91 #mg/cm2 (according to 'Target Considerations Summary' file)\n",
    "target_thickness = 1e4*(target_thickness/11.5e3) # µm\n",
    "print(\"Target thickness: \", target_thickness)"
   ]
  },
  {
   "cell_type": "markdown",
   "metadata": {},
   "source": [
    "### Traversing material and calculating energy"
   ]
  },
  {
   "cell_type": "code",
   "execution_count": null,
   "metadata": {},
   "outputs": [],
   "source": [
    "E_of_X = [] #energies\n",
    "X = [] # distance\n",
    "E = e_tank*A_beam\n",
    "E_of_X.append(E)\n",
    "X.append(0)\n",
    "print(\"E(\"+str(X[-1])+\" µm)=\", E_of_X[-1], 'MeV', E_of_X[-1]/A, 'MeV/u')\n",
    "\n",
    "# degrader\n",
    "E = E - Ca48_GSP[degrader].GetElossAfterX(E, degrader_thickness)\n",
    "#e_loss_x(E, degrader_thickness, degrader)\n",
    "E_of_X.append(E)\n",
    "X.append(X[-1]+degrader_thickness)\n",
    "print(\"E(\"+str(X[-1])+\" µm)=\", E_of_X[-1], 'MeV', E_of_X[-1]/A, 'MeV/u')\n",
    "\n",
    "# backing\n",
    "E = E - Ca48_GSP[backing].GetElossAfterX(E, backing_thickness)\n",
    "#e_loss_x(E, backing_thickness, backing)\n",
    "E_of_X.append(E)\n",
    "X.append(X[-1]+backing_thickness)\n",
    "print(\"E(\"+str(X[-1])+\" µm)=\", E_of_X[-1], 'MeV', E_of_X[-1]/A, 'MeV/u')\n",
    "\n",
    "# target, middle and end\n",
    "E = E - Ca48_GSP[target].GetElossAfterX(E, target_thickness*0.5)\n",
    "#e_loss_x(E, target_thickness*0.5, target)\n",
    "E_of_X.append(E)\n",
    "X.append(X[-1]+target_thickness*0.5)\n",
    "print(\"E(\"+str(X[-1])+\" µm)=\", E_of_X[-1], 'MeV', E_of_X[-1]/A, 'MeV/u')\n",
    "E = E - Ca48_GSP[target].GetElossAfterX(E, target_thickness*0.5)\n",
    "E_of_X.append(E)\n",
    "X.append(X[-1]+target_thickness*0.5)\n",
    "print(\"E(\"+str(X[-1])+\" µm)=\", E_of_X[-1], 'MeV', E_of_X[-1]/A, 'MeV/u')\n",
    "\n",
    "E_of_X = np.asarray(E_of_X)\n",
    "X = np.asarray(X)"
   ]
  },
  {
   "cell_type": "code",
   "execution_count": null,
   "metadata": {},
   "outputs": [],
   "source": [
    "stop_labels = ['start_degrader', 'start_backing', 'start_target', 'middle_target', 'end_target']"
   ]
  },
  {
   "cell_type": "code",
   "execution_count": null,
   "metadata": {},
   "outputs": [],
   "source": [
    "fig, axes = plt.subplots(1,2, figsize=(20,10))\n",
    "axes[0].plot(X, E_of_X, label='E(X)')\n",
    "axes[0].set_xlabel(\"Traversed material (µm)\")\n",
    "axes[0].set_ylabel('Energy (MeV))')\n",
    "axes[1].plot(stop_labels, E_of_X, label='E(X)')\n",
    "plt.xticks(rotation=90)\n",
    "axes[1].set_xlabel(\"Traversed material\")\n",
    "axes[1].set_ylabel('Energy (MeV)')\n",
    "ax2 = axes[1].twinx()\n",
    "ax2.plot(stop_labels, E_of_X/A, label='E(X)/u')\n",
    "ax2.set_ylabel('Energy (MeV/u)')\n",
    "plt.show()"
   ]
  },
  {
   "cell_type": "markdown",
   "metadata": {},
   "source": [
    "# Fusion: flerovium excitation and kinetic energies"
   ]
  },
  {
   "cell_type": "code",
   "execution_count": null,
   "metadata": {},
   "outputs": [],
   "source": [
    "from pyne import data as pyne_data"
   ]
  },
  {
   "cell_type": "code",
   "execution_count": null,
   "metadata": {},
   "outputs": [],
   "source": [
    "A_compound = 253\n",
    "masses = {\"Ca48\": pyne_data.atomic_mass(\"Ca48\"), \"No255\": pyne_data.atomic_mass(\"No255\"), \"Pb207\": pyne_data.atomic_mass(\"Pb207\")}\n",
    "for m in masses:\n",
    "    masses[m] *= 931.494 #MeV/c^2\n",
    "masses"
   ]
  },
  {
   "cell_type": "markdown",
   "metadata": {},
   "source": [
    "Looping target"
   ]
  },
  {
   "cell_type": "code",
   "execution_count": null,
   "metadata": {},
   "outputs": [],
   "source": [
    "ind_start = 2\n",
    "E_compound, E_exc = [], []\n",
    "\n",
    "for i in range(ind_start, len(E_of_X)):\n",
    "    E_beam = E_of_X[i]\n",
    "    E_kin_compound =  E_beam * (A_beam/A_compound)\n",
    "    excitation_energy = masses[\"Ca48\"] + masses[\"Pb207\"] - masses[\"No255\"] + E_beam - E_kin_compound    \n",
    "    E_compound.append(E_kin_compound)\n",
    "    E_exc.append(excitation_energy)\n",
    "\n",
    "print(\"Fusion at: \", stop_labels[ind_start:])\n",
    "print(\"Compound kinetic energy: \", E_compound)\n",
    "print(\"Compound excitation energy: \", E_exc)"
   ]
  },
  {
   "cell_type": "markdown",
   "metadata": {},
   "source": [
    "## Energy loss in gas filled separator"
   ]
  },
  {
   "cell_type": "code",
   "execution_count": null,
   "metadata": {},
   "outputs": [],
   "source": [
    "tasca_length = 4 * 1e6 # 4 m in µm (ballpark figure taken from CAD drawing)"
   ]
  },
  {
   "cell_type": "code",
   "execution_count": null,
   "metadata": {},
   "outputs": [],
   "source": [
    "No253 = {}"
   ]
  },
  {
   "cell_type": "code",
   "execution_count": null,
   "metadata": {},
   "outputs": [],
   "source": [
    "# Construct a layer of He, arbitrary width (as it is not relevant for these calcs)\n",
    "pressure = 0.8 #mbar\n",
    "density = 0.1786 #g/L at STP\n",
    "density *= 1e-3 #g/cm^3\n",
    "density *= pressure*1e-3\n",
    "print(\"density:\", density, \"g/cm^3\")\n",
    "print(\"NOTE, too low density for SRIM to handle it seems\")\n",
    "layer = Layer({\n",
    "    'He': {\n",
    "        'stoich': 1,\n",
    "        #'E_d': 35.0, # Displacement Energy\n",
    "        #'lattice': 0.0,\n",
    "        #'surface': 3.0\n",
    "    }\n",
    "}, density=density, width=10000.0)"
   ]
  },
  {
   "cell_type": "markdown",
   "metadata": {},
   "source": []
  },
  {
   "cell_type": "markdown",
   "metadata": {},
   "source": [
    "Average charge state of No in TASCA (see Ulrika's thesis, p. 33-34)"
   ]
  },
  {
   "cell_type": "code",
   "execution_count": null,
   "metadata": {},
   "outputs": [],
   "source": [
    "v0 = 2.19e6 #m/s, Bohr velocity\n",
    "c = 3e8 #light speed, m/s\n",
    "m_No = 931.494*253\n",
    "v = np.sqrt(np.divide(np.asarray(E_compound), m_No))*c\n",
    "print(\"Velocity:\", v)\n",
    "Z = 102\n",
    "x = np.divide(v, v0)*Z**(1./3)\n",
    "q_avg = 0.641*x-0.235+0.517*np.sin(2*np.pi/32*(0.641*x-0.235)-74.647)\n",
    "print(\"Average charge state:\", q_avg)\n",
    "q_avg = q_avg[1]"
   ]
  },
  {
   "cell_type": "code",
   "execution_count": null,
   "metadata": {},
   "outputs": [],
   "source": [
    "# Construct ion\n",
    "A, E_per_A_max = 253, 7e6 # nucleon number, eV \n",
    "energy_max = A*E_per_A_max\n",
    "#print(\"Max energy=\", energy_max)\n",
    "ion = Ion('U', energy=energy_max, mass=A)\n",
    "\n",
    "# FAILS WITH DENSITY HERE\n",
    "#No253[\"He\"] = GenerateStoppingPower(layer, ion, z_ion=102)"
   ]
  },
  {
   "cell_type": "markdown",
   "metadata": {},
   "source": [
    "[SRIM for No in He](SRIM_No_in_He.png)\n",
    "(SRIM_No_in_He.png)"
   ]
  },
  {
   "cell_type": "code",
   "execution_count": null,
   "metadata": {},
   "outputs": [],
   "source": [
    "dEdX = 5.995e-4+4.607e-5 #MeV/mm\n",
    "dEdX *= 1e-3"
   ]
  },
  {
   "cell_type": "code",
   "execution_count": null,
   "metadata": {},
   "outputs": [],
   "source": [
    "E_compound_TASCA = []\n",
    "\n",
    "for i, e in enumerate(E_compound):\n",
    "    #e_stop = (No253[\"He\"].f_dEdX(e))*(q_avg/Z) #normalise with average charge\n",
    "    e_stop = (dEdX)*(q_avg/Z) #normalise with average charge\n",
    "    E_compound_TASCA.append(e-e_stop*tasca_length)\n",
    "    \n",
    "print(\"Fusion at: \", stop_labels[ind_start:])\n",
    "print(\"Energy after TASCA:\", E_compound_TASCA)"
   ]
  },
  {
   "cell_type": "markdown",
   "metadata": {},
   "source": [
    "How do you really estimate this?"
   ]
  },
  {
   "cell_type": "code",
   "execution_count": null,
   "metadata": {},
   "outputs": [],
   "source": [
    "#E_compound_TASCA = E_compound"
   ]
  },
  {
   "cell_type": "markdown",
   "metadata": {},
   "source": [
    "### Implantation energy"
   ]
  },
  {
   "cell_type": "code",
   "execution_count": null,
   "metadata": {},
   "outputs": [],
   "source": [
    "# Construct a layer of SiO2, arbitrary width (as it is not relevant for these calcs)\n",
    "layer = Layer({\n",
    "    'Si': {\n",
    "        'stoich': 1,\n",
    "        #'E_d': 35.0, # Displacement Energy\n",
    "        #'lattice': 0.0,\n",
    "        #'surface': 3.0\n",
    "    },\n",
    "    'O': {\n",
    "        'stoich': 2,\n",
    "        #'E_d': 20.0, # Displacement Energy\n",
    "        #'lattice': 0.0,\n",
    "        #'surface': 3.0\n",
    "    }\n",
    "}, density=2.32, width=10000.0)"
   ]
  },
  {
   "cell_type": "code",
   "execution_count": null,
   "metadata": {},
   "outputs": [],
   "source": [
    "# Construct ion\n",
    "A, E_per_A_max = 253, 7e6 # nucleon number, eV \n",
    "energy_max = A*E_per_A_max\n",
    "#print(\"Max energy=\", energy_max)\n",
    "ion = Ion('U', energy=energy_max, mass=A)\n",
    "\n",
    "No253[\"Si\"] = GenerateStoppingPower(layer, ion, z_ion=102)"
   ]
  },
  {
   "cell_type": "markdown",
   "metadata": {},
   "source": [
    "Loss in deadlayer (2 µm) and detected implantation energies:"
   ]
  },
  {
   "cell_type": "code",
   "execution_count": null,
   "metadata": {},
   "outputs": [],
   "source": [
    "E_det = []\n",
    "for i, e in enumerate(E_compound_TASCA):\n",
    "    E_loss = No253[\"Si\"].GetElossAfterX(e, 2)\n",
    "    E_det.append(e-E_loss)\n",
    "\n",
    "print(\"Fusion at: \", stop_labels[ind_start:])\n",
    "print(\"Implant energy detected:\", E_det)"
   ]
  }
 ],
 "metadata": {
  "kernelspec": {
   "display_name": "Python 3",
   "language": "python",
   "name": "python3"
  },
  "language_info": {
   "codemirror_mode": {
    "name": "ipython",
    "version": 3
   },
   "file_extension": ".py",
   "mimetype": "text/x-python",
   "name": "python",
   "nbconvert_exporter": "python",
   "pygments_lexer": "ipython3",
   "version": "3.6.5"
  }
 },
 "nbformat": 4,
 "nbformat_minor": 2
}
