{
 "cells": [
  {
   "cell_type": "markdown",
   "metadata": {},
   "source": [
    "# Day 1. Introduction to the Notebook and NumPy"
   ]
  },
  {
   "cell_type": "markdown",
   "metadata": {},
   "source": [
    "* [Navigating the Notebook](#1)\n",
    "* [Python built-in functions](#2)\n",
    "* [Storage and manipulation of numerical arrays](#3)\n",
    "* [Repeated operations and universal functions](#4)"
   ]
  },
  {
   "cell_type": "markdown",
   "metadata": {},
   "source": [
    "The answers to the exercises are encrypted. Feel free to ask the instructors for the decryption key whenever you need to view the solution."
   ]
  },
  {
   "cell_type": "code",
   "execution_count": 2,
   "metadata": {},
   "outputs": [],
   "source": [
    "from IPython.display import IFrame\n",
    "from IPython.display import YouTubeVideo"
   ]
  },
  {
   "cell_type": "code",
   "execution_count": 3,
   "metadata": {},
   "outputs": [],
   "source": [
    "import numpy as np\n",
    "import matplotlib as mpl\n",
    "import matplotlib.pyplot as plt\n",
    "%matplotlib inline"
   ]
  },
  {
   "cell_type": "code",
   "execution_count": 4,
   "metadata": {},
   "outputs": [],
   "source": [
    "from cryptography.fernet import Fernet\n",
    "import base64\n",
    "def encrypt(string, key):\n",
    "    keygen = lambda x : base64.urlsafe_b64encode(x.encode() + b' '*(32 - len(x)))\n",
    "    cipher = Fernet(keygen(key))\n",
    "    return cipher.encrypt(string.encode())\n",
    "def decrypt(string, key):\n",
    "    keygen = lambda x : base64.urlsafe_b64encode(x.encode() + b' '*(32 - len(x)))\n",
    "    cipher = Fernet(keygen(key))\n",
    "    return print(cipher.decrypt(string.encode()).decode())"
   ]
  },
  {
   "cell_type": "markdown",
   "metadata": {},
   "source": [
    "## Familiarize yourself with \n",
    "<img src=\"https://conda.io/docs/_images/conda_logo.svg\" width=\"150\" align=\"left\"/>"
   ]
  },
  {
   "cell_type": "markdown",
   "metadata": {},
   "source": [
    "* create a new [environment](https://conda.io/docs/user-guide/concepts.html#conda-environments):\n",
    "  - go to the terminal (or to the anaconda prompt on Windows) and [make sure](https://conda.io/docs/user-guide/tasks/manage-environments.html#determining-your-current-environment) that no environment is acrivated (else [deactivate](https://conda.io/docs/user-guide/tasks/manage-environments.html#deactivating-an-environment) it)\n",
    "  - decide on the name of your new environment (_i.e._ `[env_name]`)\n",
    "  - run `conda create -n [env_name]`\n",
    "* [activate](https://conda.io/docs/user-guide/tasks/manage-environments.html#activating-an-environment) the new environment\n",
    "* install the following packages in the new environment:\n",
    "  - python=3.6\n",
    "  - mdtraj=1.9 from the `conda-forge` channel (`conda install -c conda-forge mdtraj=1.9`)\n",
    "  - R from the `r` channel (the package is called r-essentials)\n",
    "* list the packages installed in the environment (`conda list`)\n",
    "* deactivate the environment\n",
    "* [export](https://conda.io/docs/user-guide/tasks/manage-environments.html#sharing-an-environment) the environment to a yml file (be careful not to overwrite any yml file in your current directory)\n",
    "* [view a list](https://conda.io/docs/user-guide/tasks/manage-environments.html#viewing-a-list-of-your-environments) of all your conda environments\n",
    "* [remove](https://conda.io/docs/user-guide/tasks/manage-environments.html#removing-an-environment) the environment that you have just created"
   ]
  },
  {
   "cell_type": "markdown",
   "metadata": {},
   "source": [
    "## Use [Binder](https://mybinder.org/) to launch a GitHub repository\n",
    "<img src=\"https://mybinder.org/static/logo.svg?v=f9f0d927b67cc9dc99d788c822ca21c0\" width=\"200\" align=\"left\"/>"
   ]
  },
  {
   "cell_type": "markdown",
   "metadata": {},
   "source": [
    "* go to mybinder.org and launch a GitHub repository containing Jupyter Notebooks of your choice\n",
    "* navigate and run a Notebook in the executable environment\n",
    "* be aware that the repository has to contain a dependency file (_e.g._ the yml file containing the list of packages of a conda environment)\n",
    "* Binder uses the dependency file to build a Docker [container](https://www.docker.com/resources/what-container) image of the repository\n",
    "  - \"A container is a standard unit of software that packages up code and all its dependencies so the application runs quickly and reliably from one computing environment to another. A Docker container image is a lightweight, standalone, executable package of software that includes everything needed to run an application: code, runtime, system tools, system libraries and settings.\" (excerpt from docker.com)"
   ]
  },
  {
   "cell_type": "markdown",
   "metadata": {},
   "source": [
    "<a id='1'></a>"
   ]
  },
  {
   "cell_type": "markdown",
   "metadata": {},
   "source": [
    "# Navigating the Notebook"
   ]
  },
  {
   "cell_type": "code",
   "execution_count": 4,
   "metadata": {},
   "outputs": [
    {
     "data": {
      "text/html": [
       "\n",
       "        <iframe\n",
       "            width=\"608\"\n",
       "            height=\"402\"\n",
       "            src=\"https://api.kaltura.nordu.net/p/310/sp/31000/embedIframeJs/uiconf_id/23449977/partner_id/310?iframeembed=true&playerId=kaltura_player&entry_id=0_z85if4is&flashvars[streamerType]=auto&amp;flashvars[localizationCode]=en&amp;flashvars[leadWithHTML5]=true&amp;flashvars[sideBarContainer.plugin]=true&amp;flashvars[sideBarContainer.position]=left&amp;flashvars[sideBarContainer.clickToClose]=true&amp;flashvars[chapters.plugin]=true&amp;flashvars[chapters.layout]=vertical&amp;flashvars[chapters.thumbnailRotator]=false&amp;flashvars[streamSelector.plugin]=true&amp;flashvars[EmbedPlayer.SpinnerTarget]=videoHolder&amp;flashvars[dualScreen.plugin]=true&amp;&wid=0_l2d1egty\"\n",
       "            frameborder=\"0\"\n",
       "            allowfullscreen\n",
       "        ></iframe>\n",
       "        "
      ],
      "text/plain": [
       "<IPython.lib.display.IFrame at 0x7f0afe92c1f0>"
      ]
     },
     "execution_count": 4,
     "metadata": {},
     "output_type": "execute_result"
    }
   ],
   "source": [
    "IFrame(src='https://api.kaltura.nordu.net/p/310/sp/31000/embedIframeJs/uiconf_id/23449977/partner_id/310?iframeembed=true&playerId=kaltura_player&entry_id=0_z85if4is&flashvars[streamerType]=auto&amp;flashvars[localizationCode]=en&amp;flashvars[leadWithHTML5]=true&amp;flashvars[sideBarContainer.plugin]=true&amp;flashvars[sideBarContainer.position]=left&amp;flashvars[sideBarContainer.clickToClose]=true&amp;flashvars[chapters.plugin]=true&amp;flashvars[chapters.layout]=vertical&amp;flashvars[chapters.thumbnailRotator]=false&amp;flashvars[streamSelector.plugin]=true&amp;flashvars[EmbedPlayer.SpinnerTarget]=videoHolder&amp;flashvars[dualScreen.plugin]=true&amp;&wid=0_l2d1egty', width=608, height=402)"
   ]
  },
  {
   "cell_type": "markdown",
   "metadata": {},
   "source": [
    "### Tasks\n",
    "\n",
    "1. Find and try out the keyboard shortcuts (Help > Keyboard Shortcuts) for\n",
    "   - Toggling line numbers\n",
    "   - Setting the cell to _code_\n",
    "   - Setting the cell to _markdown_\n",
    "   - Merging two consecutive cells\n",
    "   - Inserting a cell above\n",
    "   - Inserting a cell below\n",
    "   - Deleting a cell\n",
    "2. Export this notebook as HTML and open it in a web-browser\n",
    "3. Go back to the Home page (usually a browser tab) and check which notebooks that are currently running"
   ]
  },
  {
   "cell_type": "markdown",
   "metadata": {},
   "source": [
    "## Output\n",
    "\n",
    "The result from running a code cell is shown as output directly below it. In particular, the output from the _last_ command will be printed, unless explicitly suppressed by a trailing `;`\n",
    "\n",
    "Previous output can be retrieved by:\n",
    "- `_` last output\n",
    "- `__` last last output\n",
    "- `_x` where `x` is the cell number.\n",
    "\n",
    "### Tasks\n",
    "- Retrieve the output of the following cell\n",
    "- Suppress the output of the following cell"
   ]
  },
  {
   "cell_type": "code",
   "execution_count": 4,
   "metadata": {},
   "outputs": [],
   "source": [
    "a = 3\n",
    "a;"
   ]
  },
  {
   "cell_type": "markdown",
   "metadata": {},
   "source": [
    "## Getting help\n",
    "\n",
    "- `shift`-`tab`-`tab`: access information about python functions (place cursor between brackets)\n",
    "- `tab`: tab complete functions and objects\n",
    "- `?command` or `command?`\n",
    "- The help menu has links to detailed help on Python, Markdown, Matplotlib etc.\n",
    "\n",
    "### Task\n",
    "\n",
    "Use the above different ways to explore the arguments for the `print()` function we used earlier.\n",
    "What is the `end` argument for?"
   ]
  },
  {
   "cell_type": "markdown",
   "metadata": {},
   "source": [
    "## Documentation using Markdown\n",
    "\n",
    "Markdown is a _lightweight_ markup language that\n",
    "\n",
    "- is intended to be as easy-to-read and easy-to-write as possible\n",
    "- supports equations ($f(x)=x$), [links](http://), ~~text formatting~~, tables, images etc.\n",
    "\n",
    "For more information see [here](https://github.com/adam-p/markdown-here/wiki/Markdown-Cheatsheet)."
   ]
  },
  {
   "cell_type": "markdown",
   "metadata": {},
   "source": [
    "### Task 1\n",
    "\n",
    "Use a Markdown cell to explain Pythagoras' theorem. Your answer should include\n",
    "\n",
    "- headers and text formatting\n",
    "- a link to an external web page\n",
    "- [LaTeX math](http://docs.mathjax.org/en/latest/tex.html)\n",
    "\n",
    "_Hint:_ images need not be local, but can be linked via a URL."
   ]
  },
  {
   "cell_type": "markdown",
   "metadata": {},
   "source": [
    "#### Pythagoras theorem \n",
    "\n",
    "If we beautiful right triangle: \n",
    "\n",
    "![Image of Yaktocat](https://upload.wikimedia.org/wikipedia/commons/6/6f/Rtriangle.svg)\n",
    "\n",
    "Here is the **Pythagorean theorem**:\n",
    "\\begin{equation}\n",
    "a^2 + b^2 = c^2\n",
    "\\end{equation}\n",
    "\n",
    "where *a* and *b* are the lengths the sides of the triangle and *c* is the hypotenuse of a right triangle.  \n",
    "\n",
    "<p>More could be found at <a href=\"https://en.wikipedia.org/wiki/Pythagorean_theorem\"> Wikipedia. </p> \n",
    "\n",
    "\n"
   ]
  },
  {
   "cell_type": "code",
   "execution_count": 9,
   "metadata": {},
   "outputs": [],
   "source": [
    "answer = 'gAAAAABcAVG3y9adFC6juLwdCUxdFnKhUDK9gqLlTTrVNfiedLFxfKdZqWayixC54-Anq9BhGQZvoWBm-AzZMyDhmsfFKIWkrhe9KR-9bwwXho5axladf90oUcqO3gBRYcOHt1nixpfl4ExV2z7Fr-xsxLyIpCzz6K2e0BvagxTonkRQNApDU_qZ6PGTVzpjq9VvgIj_xIQkSt0GEvUI0vtOdZUPly8eszQorUXGbGqIgt5aeE4YVQrnwWRAkwErK9_SdSNNqzWUwnraM_GhnjeFDIMFEbrpSxGYZomAy8N5zqWQIYGbi7jJkPePqIGqYdoM2Anceb_9IrZHQEaap18pBwLU6-Mkwx6k1uCc26eQBdKsUbk36zVKcvt-FeHojYSXtCF3CsDb40nE_b7oBBh5we1fI9IWLSaaOv6NlQVUD0uM5qze7w8BegBmLtMbdwlX9lqx2UC1'\n"
   ]
  },
  {
   "cell_type": "code",
   "execution_count": 10,
   "metadata": {},
   "outputs": [
    {
     "ename": "NameError",
     "evalue": "name 'decrypt' is not defined",
     "output_type": "error",
     "traceback": [
      "\u001b[0;31m---------------------------------------------------------------------------\u001b[0m",
      "\u001b[0;31mNameError\u001b[0m                                 Traceback (most recent call last)",
      "\u001b[0;32m<ipython-input-10-aaf621f038fc>\u001b[0m in \u001b[0;36m<module>\u001b[0;34m\u001b[0m\n\u001b[0;32m----> 1\u001b[0;31m \u001b[0mdecrypt\u001b[0m\u001b[0;34m(\u001b[0m\u001b[0manswer\u001b[0m\u001b[0;34m,\u001b[0m\u001b[0;34m)\u001b[0m\u001b[0;34m\u001b[0m\u001b[0;34m\u001b[0m\u001b[0m\n\u001b[0m",
      "\u001b[0;31mNameError\u001b[0m: name 'decrypt' is not defined"
     ]
    }
   ],
   "source": [
    "decrypt(answer,)"
   ]
  },
  {
   "cell_type": "markdown",
   "metadata": {},
   "source": [
    "### Task 2\n",
    "\n",
    "1. Use a markdown cell to create a table with column labels **Element**, **Symbol**, **Atomic number**, and a single row with **Hydrogen**, **H**, and **1**.\n",
    "2. In a _code cell_, import the `Markdown` function from `IPython` using\n",
    "   ```.py\n",
    "   from IPython.display import Markdown\n",
    "   ```\n",
    "   and explore its documentation.\n",
    "3. Redo subquestion 1 using the `Markdown` command and a [formatted Python string](https://pyformat.info)"
   ]
  },
  {
   "cell_type": "markdown",
   "metadata": {},
   "source": [
    "| **Element** | **Symbol**| **Atomic number** |\n",
    "|------|------|-----|\n",
    "|   Hydrogen  | H | 1 |"
   ]
  },
  {
   "cell_type": "code",
   "execution_count": 172,
   "metadata": {},
   "outputs": [
    {
     "data": {
      "text/markdown": [
       "| **Element** | **Symbol**| **Atomic Number** | \n",
       "|------|------|-----|\n",
       "|   Hydrogen  | H | 1 |"
      ],
      "text/plain": [
       "<IPython.core.display.Markdown object>"
      ]
     },
     "execution_count": 172,
     "metadata": {},
     "output_type": "execute_result"
    }
   ],
   "source": [
    "from IPython.display import Markdown \n",
    "\n",
    "Markdown(\"\"\"| **{}** | **{}**| **{}** | \n",
    "|------|------|-----|\n",
    "|   Hydrogen  | H | 1 |\"\"\".format(\"Element\", \"Symbol\", \"Atomic Number\"))"
   ]
  },
  {
   "cell_type": "code",
   "execution_count": 173,
   "metadata": {},
   "outputs": [
    {
     "data": {
      "text/plain": [
       "'| **{}** | **{}**| **{}** | \\n|------|------|-----|\\n|   Hydrogen  | H | 1 |'"
      ]
     },
     "execution_count": 173,
     "metadata": {},
     "output_type": "execute_result"
    }
   ],
   "source": [
    "\"\"\"| **{}** | **{}**| **{}** | \n",
    "|------|------|-----|\n",
    "|   Hydrogen  | H | 1 |\"\"\""
   ]
  },
  {
   "cell_type": "code",
   "execution_count": null,
   "metadata": {},
   "outputs": [],
   "source": [
    "answer = 'gAAAAABcAVHzAOYjHRhWhK28NdM61aXfc9hOcExm9TdQPvYCRa50Es4vPadouW4usg3AIm5zdbuYycJMkJ8HvGHmp-AOZcKT0W6XrSXMO8yZz44rUNWMYvT-re4ZVFx-om_Vtsj6bcWLAupO2QHKxZdRh2bl5o4sy8s-0yposy8g4CIGMC0OZs18nBru06xRa9DeLQhxBENMu7FqdC4XU9Bs_fIYtR8WJP5U3suk8O8bXX4AQlkfSCWGsCo-0729C0h6K3k2CkVFoMlnZnXCjpxND9pj5okvZNIsAR2-4KU_T6_AyP_8ifI1w4Xloe_hWourVdpagznZ3I16KLjFI9HdAC6kPeV1ao3Pm9-uKWhjq7oZWLj-aOgfBJeq3GKjyNSJ_r2RBa9bWU2hM9az05h-KtazArxp7_zdq3RDijC5NMgL6_Cyhut5G4Q243K6YiGBlrIWPC7lFhmmgsowExlBKWQne5Z6AQgYfHWPnoEteS-grvqN0iwuRT2PS1hv36RG4a6-O65HL0oQ9oslKmzCJCmd9UNoTBp_oMHWxE2kc-2lnZlB7BwrcsHhVXtrkap8tce0tyj_N3RksSJ6XN-CNoRklAA8UwbFjzSGBr20Q6HdL3QJ5o1r6gxvG06bFNx-iJvc_ALTjyIc9ZKXZnsWOoMymG-L_4FCejCKrLqHFonT2lsrn_dOZ5qVu5KQr4MzDwcxhBFlRYpHUcOCtj2wSqEM0f-ycCUZMveuJueC7s2uOKDXQQy0ZjtiZaW0VUoV-tJlwoWzlSjJvtRSLINESXfi9e60Xw=='"
   ]
  },
  {
   "cell_type": "code",
   "execution_count": null,
   "metadata": {},
   "outputs": [],
   "source": [
    "decrypt(answer,)"
   ]
  },
  {
   "cell_type": "markdown",
   "metadata": {},
   "source": [
    "### Task: Embedded web content\n",
    "\n",
    "Lund University Publications ([LUP](https://lup.lub.lu.se/search)) allows you to search for publications from specific LU departments or authors. They also provide the possibility to _embed_ the search result. Use `IPython.display.IFrame` to display a search of your choice."
   ]
  },
  {
   "cell_type": "code",
   "execution_count": 16,
   "metadata": {},
   "outputs": [
    {
     "data": {
      "text/html": [
       "\n",
       "        <iframe\n",
       "            width=\"800\"\n",
       "            height=\"400\"\n",
       "            src=\"http://www.ncbi.nlm.nih.gov/Structure/icn3d/full.html?pdbid=4lzt\"\n",
       "            frameborder=\"0\"\n",
       "            allowfullscreen\n",
       "        ></iframe>\n",
       "        "
      ],
      "text/plain": [
       "<IPython.lib.display.IFrame at 0x7f914d3e6bd0>"
      ]
     },
     "execution_count": 16,
     "metadata": {},
     "output_type": "execute_result"
    }
   ],
   "source": [
    "# Here's an example showing a protein - replace with something from LUP!\n",
    "from IPython.display import IFrame\n",
    "IFrame(src=\"http://www.ncbi.nlm.nih.gov/Structure/icn3d/full.html?pdbid=4lzt\", width=800, height=400)"
   ]
  },
  {
   "cell_type": "markdown",
   "metadata": {},
   "source": [
    "##  IPython Magic commands\n",
    "- Line magic (`%`): operates on a single line and can be mixed with other languages\n",
    "- Cell magic (`%%`): operates on the whole cell\n",
    "- [More info](http://ipython.readthedocs.io/en/stable/interactive/magics.html)"
   ]
  },
  {
   "cell_type": "code",
   "execution_count": 17,
   "metadata": {},
   "outputs": [
    {
     "data": {
      "application/json": {
       "cell": {
        "!": "OSMagics",
        "HTML": "Other",
        "SVG": "Other",
        "bash": "Other",
        "capture": "ExecutionMagics",
        "debug": "ExecutionMagics",
        "file": "Other",
        "html": "DisplayMagics",
        "javascript": "DisplayMagics",
        "js": "DisplayMagics",
        "latex": "DisplayMagics",
        "markdown": "DisplayMagics",
        "perl": "Other",
        "prun": "ExecutionMagics",
        "pypy": "Other",
        "python": "Other",
        "python2": "Other",
        "python3": "Other",
        "ruby": "Other",
        "script": "ScriptMagics",
        "sh": "Other",
        "svg": "DisplayMagics",
        "sx": "OSMagics",
        "system": "OSMagics",
        "time": "ExecutionMagics",
        "timeit": "ExecutionMagics",
        "writefile": "OSMagics"
       },
       "line": {
        "alias": "OSMagics",
        "alias_magic": "BasicMagics",
        "autoawait": "AsyncMagics",
        "autocall": "AutoMagics",
        "automagic": "AutoMagics",
        "autosave": "KernelMagics",
        "bookmark": "OSMagics",
        "cat": "Other",
        "cd": "OSMagics",
        "clear": "KernelMagics",
        "colors": "BasicMagics",
        "conda": "PackagingMagics",
        "config": "ConfigMagics",
        "connect_info": "KernelMagics",
        "cp": "Other",
        "debug": "ExecutionMagics",
        "dhist": "OSMagics",
        "dirs": "OSMagics",
        "doctest_mode": "BasicMagics",
        "ed": "Other",
        "edit": "KernelMagics",
        "env": "OSMagics",
        "gui": "BasicMagics",
        "hist": "Other",
        "history": "HistoryMagics",
        "killbgscripts": "ScriptMagics",
        "ldir": "Other",
        "less": "KernelMagics",
        "lf": "Other",
        "lk": "Other",
        "ll": "Other",
        "load": "CodeMagics",
        "load_ext": "ExtensionMagics",
        "loadpy": "CodeMagics",
        "logoff": "LoggingMagics",
        "logon": "LoggingMagics",
        "logstart": "LoggingMagics",
        "logstate": "LoggingMagics",
        "logstop": "LoggingMagics",
        "ls": "Other",
        "lsmagic": "BasicMagics",
        "lx": "Other",
        "macro": "ExecutionMagics",
        "magic": "BasicMagics",
        "man": "KernelMagics",
        "matplotlib": "PylabMagics",
        "mkdir": "Other",
        "more": "KernelMagics",
        "mv": "Other",
        "notebook": "BasicMagics",
        "page": "BasicMagics",
        "pastebin": "CodeMagics",
        "pdb": "ExecutionMagics",
        "pdef": "NamespaceMagics",
        "pdoc": "NamespaceMagics",
        "pfile": "NamespaceMagics",
        "pinfo": "NamespaceMagics",
        "pinfo2": "NamespaceMagics",
        "pip": "PackagingMagics",
        "popd": "OSMagics",
        "pprint": "BasicMagics",
        "precision": "BasicMagics",
        "prun": "ExecutionMagics",
        "psearch": "NamespaceMagics",
        "psource": "NamespaceMagics",
        "pushd": "OSMagics",
        "pwd": "OSMagics",
        "pycat": "OSMagics",
        "pylab": "PylabMagics",
        "qtconsole": "KernelMagics",
        "quickref": "BasicMagics",
        "recall": "HistoryMagics",
        "rehashx": "OSMagics",
        "reload_ext": "ExtensionMagics",
        "rep": "Other",
        "rerun": "HistoryMagics",
        "reset": "NamespaceMagics",
        "reset_selective": "NamespaceMagics",
        "rm": "Other",
        "rmdir": "Other",
        "run": "ExecutionMagics",
        "save": "CodeMagics",
        "sc": "OSMagics",
        "set_env": "OSMagics",
        "store": "StoreMagics",
        "sx": "OSMagics",
        "system": "OSMagics",
        "tb": "ExecutionMagics",
        "time": "ExecutionMagics",
        "timeit": "ExecutionMagics",
        "unalias": "OSMagics",
        "unload_ext": "ExtensionMagics",
        "who": "NamespaceMagics",
        "who_ls": "NamespaceMagics",
        "whos": "NamespaceMagics",
        "xdel": "NamespaceMagics",
        "xmode": "BasicMagics"
       }
      },
      "text/plain": [
       "Available line magics:\n",
       "%alias  %alias_magic  %autoawait  %autocall  %automagic  %autosave  %bookmark  %cat  %cd  %clear  %colors  %conda  %config  %connect_info  %cp  %debug  %dhist  %dirs  %doctest_mode  %ed  %edit  %env  %gui  %hist  %history  %killbgscripts  %ldir  %less  %lf  %lk  %ll  %load  %load_ext  %loadpy  %logoff  %logon  %logstart  %logstate  %logstop  %ls  %lsmagic  %lx  %macro  %magic  %man  %matplotlib  %mkdir  %more  %mv  %notebook  %page  %pastebin  %pdb  %pdef  %pdoc  %pfile  %pinfo  %pinfo2  %pip  %popd  %pprint  %precision  %prun  %psearch  %psource  %pushd  %pwd  %pycat  %pylab  %qtconsole  %quickref  %recall  %rehashx  %reload_ext  %rep  %rerun  %reset  %reset_selective  %rm  %rmdir  %run  %save  %sc  %set_env  %store  %sx  %system  %tb  %time  %timeit  %unalias  %unload_ext  %who  %who_ls  %whos  %xdel  %xmode\n",
       "\n",
       "Available cell magics:\n",
       "%%!  %%HTML  %%SVG  %%bash  %%capture  %%debug  %%file  %%html  %%javascript  %%js  %%latex  %%markdown  %%perl  %%prun  %%pypy  %%python  %%python2  %%python3  %%ruby  %%script  %%sh  %%svg  %%sx  %%system  %%time  %%timeit  %%writefile\n",
       "\n",
       "Automagic is ON, % prefix IS NOT needed for line magics."
      ]
     },
     "execution_count": 17,
     "metadata": {},
     "output_type": "execute_result"
    }
   ],
   "source": [
    "%lsmagic"
   ]
  },
  {
   "cell_type": "markdown",
   "metadata": {},
   "source": [
    "This is an example of a LaTeX cell"
   ]
  },
  {
   "cell_type": "code",
   "execution_count": 18,
   "metadata": {},
   "outputs": [
    {
     "data": {
      "text/latex": [
       "\n",
       "\\begin{equation}\n",
       "    G_O = \\int_0^\\infty \\mathrm{d}r\\; 4 \\pi r^2 \\left [ g_O(r) -1 \\right ]\n",
       "\\end{equation}\n"
      ],
      "text/plain": [
       "<IPython.core.display.Latex object>"
      ]
     },
     "metadata": {},
     "output_type": "display_data"
    }
   ],
   "source": [
    "%%latex\n",
    "\n",
    "\\begin{equation}\n",
    "    G_O = \\int_0^\\infty \\mathrm{d}r\\; 4 \\pi r^2 \\left [ g_O(r) -1 \\right ]\n",
    "\\end{equation}"
   ]
  },
  {
   "cell_type": "markdown",
   "metadata": {},
   "source": [
    "This is an example of an [SVG](https://www.w3.org/Graphics/SVG/IG/resources/svgprimer.html) cell "
   ]
  },
  {
   "cell_type": "code",
   "execution_count": 19,
   "metadata": {},
   "outputs": [
    {
     "data": {
      "image/svg+xml": [
       "<svg height=\"100\" width=\"400\">\n",
       "  <style>\n",
       "    .bold { font: bold 40px sans-serif; }\n",
       "    .italic { font: italic 30px serif; }\n",
       "  </style>\n",
       "  <defs>\n",
       "    <marker id=\"arrowS\" markerHeight=\"15\" markerUnits=\"strokeWidth\" markerWidth=\"15\" orient=\"180\" refX=\"0\" refY=\"3\" viewBox=\"0 0 20 20\">\n",
       "      <path d=\"M0,0 L0,6 L9,3 z\" fill=\"black\"/>\n",
       "    </marker>\n",
       "    <marker id=\"arrowE\" markerHeight=\"15\" markerUnits=\"strokeWidth\" markerWidth=\"15\" orient=\"0\" refX=\"0\" refY=\"3\" viewBox=\"0 0 20 20\">\n",
       "      <path d=\"M0,0 L0,6 L9,3 z\" fill=\"black\"/>\n",
       "    </marker>\n",
       "  </defs>\n",
       "  <circle cx=\"50\" cy=\"50\" fill=\"transparent\" r=\"40\" stroke=\"blue\" stroke-width=\"6\"/>\n",
       "  <circle cx=\"300\" cy=\"50\" fill=\"transparent\" r=\"40\" stroke=\"red\" stroke-width=\"6\"/>\n",
       "  <text class=\"bold\" fill=\"blue\" x=\"38\" y=\"60\">+</text>\n",
       "  <text class=\"bold\" fill=\"red\" x=\"294\" y=\"61\">-</text>\n",
       "  <text class=\"italic\" fill=\"black\" x=\"170\" y=\"43\">r</text>\n",
       "  <line marker-end=\"url(#arrowE)\" marker-start=\"url(#arrowS)\" stroke-dasharray=\"5,2\" style=\"stroke:black; stroke-width:2\" x1=\"110\" x2=\"240\" y1=\"50\" y2=\"50\"/>\n",
       "</svg>"
      ],
      "text/plain": [
       "<IPython.core.display.SVG object>"
      ]
     },
     "metadata": {},
     "output_type": "display_data"
    }
   ],
   "source": [
    "%%svg\n",
    "\n",
    "<svg height=\"100\" width=\"400\">\n",
    "  <style>\n",
    "    .bold { font: bold 40px sans-serif; }\n",
    "    .italic { font: italic 30px serif; }\n",
    "  </style>\n",
    "  <defs>\n",
    "    <marker id=\"arrowS\" markerWidth=\"15\" markerHeight=\"15\" refX=\"0\" refY=\"3\" \n",
    "        orient=\"180\" markerUnits=\"strokeWidth\" viewBox=\"0 0 20 20\">\n",
    "      <path d=\"M0,0 L0,6 L9,3 z\" fill=\"black\" />\n",
    "    </marker>\n",
    "    <marker id=\"arrowE\" markerWidth=\"15\" markerHeight=\"15\" refX=\"0\" refY=\"3\" \n",
    "        orient=\"0\" markerUnits=\"strokeWidth\" viewBox=\"0 0 20 20\">\n",
    "      <path d=\"M0,0 L0,6 L9,3 z\" fill=\"black\" />\n",
    "    </marker>\n",
    "  </defs>\n",
    "  <circle cx=\"50\" cy=\"50\" r=\"40\" stroke=\"blue\" stroke-width=\"6\" fill=\"transparent\" />\n",
    "  <circle cx=\"300\" cy=\"50\" r=\"40\" stroke=\"red\" stroke-width=\"6\" fill=\"transparent\" />\n",
    "  <text x=\"38\" y=\"60\" fill=\"blue\" class=\"bold\">+</text>\n",
    "  <text x=\"294\" y=\"61\" fill=\"red\" class=\"bold\">-</text>\n",
    "  <text x=\"170\" y=\"43\" fill=\"black\" class=\"italic\">r</text>\n",
    "  <line x1=\"110\" y1=\"50\" x2=\"240\" y2=\"50\" style=\"stroke:black; stroke-width:2\" \n",
    "    stroke-dasharray=\"5,2\" marker-start=\"url(#arrowS)\" marker-end=\"url(#arrowE)\" />\n",
    "</svg> "
   ]
  },
  {
   "cell_type": "markdown",
   "metadata": {},
   "source": [
    "### [Shell commands](https://jakevdp.github.io/PythonDataScienceHandbook/01.05-ipython-and-shell-commands.html)"
   ]
  },
  {
   "cell_type": "markdown",
   "metadata": {},
   "source": [
    "* find the path of the current directory using `%pwd`\n",
    "* create a new directory using `%mkdir`\n",
    "* enter the new directory using `%cd`\n",
    "* find the path of the current directory using `%pwd`\n",
    "* get back to the parent directory using `%cd`\n",
    "* view a list of files and folders in the current directory with `%ls`\n",
    "* use `%cat` to view the environment.yml file of the course repository"
   ]
  },
  {
   "cell_type": "markdown",
   "metadata": {},
   "source": [
    "Besides the Magic commands, any command that works on your terminal can be run in the Notebook by prepending an exclamation mark! These commands are executed in a temporary subshell, _e.g._, compare the output of the following two cells."
   ]
  },
  {
   "cell_type": "code",
   "execution_count": 20,
   "metadata": {},
   "outputs": [
    {
     "name": "stdout",
     "output_type": "stream",
     "text": [
      "/home/yulia/Desktop/jupyter-course-master/exercises/new_dir\n",
      "/home/yulia/Desktop/jupyter-course-master/exercises\n"
     ]
    }
   ],
   "source": [
    "%mkdir new_dir\n",
    "%cd new_dir\n",
    "%pwd\n",
    "%ls\n",
    "%cd ..\n",
    "%pwd\n",
    "%rm -r new_dir"
   ]
  },
  {
   "cell_type": "code",
   "execution_count": 21,
   "metadata": {},
   "outputs": [
    {
     "name": "stdout",
     "output_type": "stream",
     "text": [
      "data  day_1.ipynb  day_2.ipynb\tday_3.ipynb  figs  new_dir\n",
      "/home/yulia/Desktop/jupyter-course-master/exercises\n",
      "/home/yulia/Desktop/jupyter-course-master/exercises\n"
     ]
    }
   ],
   "source": [
    "%mkdir new_dir\n",
    "!cd new_dir\n",
    "!ls\n",
    "!pwd\n",
    "!cd ..\n",
    "!pwd\n",
    "%rm -r new_dir"
   ]
  },
  {
   "cell_type": "markdown",
   "metadata": {},
   "source": [
    "### Task 3\n",
    "  - Write a script in a Python cell which creates and deletes this directory tree: \n",
    "    ```bash\n",
    "    .\n",
    "    └── new_dir\n",
    "        ├── dir_1\n",
    "        ├── dir_2\n",
    "        ├── dir_3\n",
    "        └── dir_4\n",
    "    ```\n",
    "  - To write your script, translate the following bash shell."
   ]
  },
  {
   "cell_type": "code",
   "execution_count": 32,
   "metadata": {},
   "outputs": [],
   "source": [
    "%%bash\n",
    "mkdir new_dir\n",
    "cd new_dir\n",
    "for i in {1..4}\n",
    "do\n",
    "mkdir dir_$i\n",
    "done\n",
    "cd ..\n",
    "rm -r new_dir"
   ]
  },
  {
   "cell_type": "code",
   "execution_count": null,
   "metadata": {},
   "outputs": [],
   "source": [
    "answer = 'gAAAAABcASqXgQ5RM5983tgSRo4nD-XKkEiKOpq95dvnucHN62hTjGmSZ0IE5zbBooxiuMD72EmfXoY_3pLy89XMf9Wn-sxohva6A15UfPsfAydL7n3Qq628J4kam9LoBpinpVberru5ojcPui6p7VC9VXaE2HcqGTiCjn_GpPNineaXh8EgaMxWASEYpj2cGRfnmPV02nSK'\n"
   ]
  },
  {
   "cell_type": "code",
   "execution_count": null,
   "metadata": {},
   "outputs": [],
   "source": [
    "decrypt(answer,)"
   ]
  },
  {
   "cell_type": "markdown",
   "metadata": {},
   "source": [
    "### Task 4\n",
    "  - Search stackoverflow.com for different ways of saving a string to file in Python\n",
    "  - Use one of those methods to write a file named dirtree.txt containing the bash script to create the directory tree of the previous task \n",
    "  - Read the new file using `%cat`\n",
    "  - Use the `%%writefile` Magic command to save the same string to file "
   ]
  },
  {
   "cell_type": "code",
   "execution_count": 146,
   "metadata": {},
   "outputs": [
    {
     "name": "stdout",
     "output_type": "stream",
     "text": [
      "Here is my string, yay"
     ]
    }
   ],
   "source": [
    "text_file = open(\"dirtree.txt\", \"w\")\n",
    "n = text_file.write('Here is my string, yay')\n",
    "text_file.close()\n",
    "\n",
    "%cat dirtree.txt"
   ]
  },
  {
   "cell_type": "code",
   "execution_count": 147,
   "metadata": {},
   "outputs": [
    {
     "name": "stdout",
     "output_type": "stream",
     "text": [
      "Overwriting dirtree.txt\n"
     ]
    }
   ],
   "source": [
    "%%writefile dirtree.txt \n",
    "Here is my string, yay"
   ]
  },
  {
   "cell_type": "code",
   "execution_count": null,
   "metadata": {},
   "outputs": [],
   "source": [
    "answer = 'gAAAAABcATGAqC3y72nhYgn_E9BXBLx4ASSuSPcL4wLsn7BbprEwqVpW0GdDJfsDZYNMBbCvNjBOUrE1-AtJ4uTehitEyiU22VBerBYe5HGJoT58bBJhJOduZn5pMTQu4_UDf3Tp7TQSbceTB7d3IsGCFg92F1tiuNZkJsbELRJPcHU4NjrjcToYXAHkLRF-bC6jl312p91HpxbWnIflpUXesJqRdUmlzLwxkSYJ4DmRUiRru-BR1dEEio38ciQbs3coLJQY8edUiEyQoyRPEUzJIcxROM0PGrB9iYrsaD5eUs_NQOOaALpQDdiT_pMVmeUjSVlJpiI298l84ahqa5Io6mitG6YnZ0qj2C-BJlQUc55vK1SJvCIIGC4EoPQ9S83C-Q1VekR5ilUM5T0N1FPD4XiSurarcZRJGdMdsGPrK-24vX2Ok9l7QLCOvR03-gLMFnoKRXmBF0i8cQ-8Ms5UAGUHAYLv3AaiOmcLwbAzwwotHUmmTZw='"
   ]
  },
  {
   "cell_type": "code",
   "execution_count": null,
   "metadata": {},
   "outputs": [],
   "source": [
    "decrypt(answer,)"
   ]
  },
  {
   "cell_type": "markdown",
   "metadata": {},
   "source": [
    "## Cross-language interaction\n",
    "\n",
    "It is possible to integrate [multiple languages](https://blog.jupyter.org/i-python-you-r-we-julia-baf064ca1fb6) in the same Notebook. For example we can pass variables from Bash to Python and vice versa. We can also define and compile [Cython](https://cython.org/) or Fortran functions in the Notebook and run them in a Python cell (vide infra).\n",
    "\n",
    "### Task 5\n",
    "  - Create a Python variable storing the path of the current directory\n",
    "  - Create a Python variable storing the list of files and folders in the current directory (using `!ls` on Unix and `!dir` on Windows)"
   ]
  },
  {
   "cell_type": "code",
   "execution_count": 57,
   "metadata": {},
   "outputs": [
    {
     "data": {
      "text/plain": [
       "['/home/yulia/Desktop/jupyter-course-master/exercises']"
      ]
     },
     "execution_count": 57,
     "metadata": {},
     "output_type": "execute_result"
    }
   ],
   "source": [
    "my_path = !pwd\n",
    "my_path"
   ]
  },
  {
   "cell_type": "code",
   "execution_count": 58,
   "metadata": {},
   "outputs": [
    {
     "data": {
      "text/plain": [
       "['data', 'day_1.ipynb', 'day_2.ipynb', 'day_3.ipynb', 'dirtree.txt', 'figs']"
      ]
     },
     "execution_count": 58,
     "metadata": {},
     "output_type": "execute_result"
    }
   ],
   "source": [
    "my_list = !ls\n",
    "my_list"
   ]
  },
  {
   "cell_type": "code",
   "execution_count": 47,
   "metadata": {},
   "outputs": [],
   "source": [
    "answer = 'gAAAAABcAGuDmNC7FPu2tRLRlcnuPGB0ZNGjMJW7dvPic723eZeqR2fueK25CFKrfgPFQ3HzAoludqrlQLAr8d1cWRW7JW-ZGS6DTBZNaRo1ejwWTnRXaexSypoZjH4YFVzwZ3t_CRRg'\n"
   ]
  },
  {
   "cell_type": "code",
   "execution_count": null,
   "metadata": {},
   "outputs": [],
   "source": [
    "decrypt(answer,)"
   ]
  },
  {
   "cell_type": "markdown",
   "metadata": {},
   "source": [
    "<a id='2'></a>"
   ]
  },
  {
   "cell_type": "markdown",
   "metadata": {},
   "source": [
    "# Python built-in functions"
   ]
  },
  {
   "cell_type": "code",
   "execution_count": 64,
   "metadata": {
    "scrolled": true
   },
   "outputs": [
    {
     "data": {
      "image/jpeg": "[encoded data removed]",
      "text/html": [
       "\n",
       "        <iframe\n",
       "            width=\"400\"\n",
       "            height=\"300\"\n",
       "            src=\"https://www.youtube.com/embed/YpBUiEsTiEA\"\n",
       "            frameborder=\"0\"\n",
       "            allowfullscreen\n",
       "        ></iframe>\n",
       "        "
      ],
      "text/plain": [
       "<IPython.lib.display.YouTubeVideo at 0x7f914d21fdd0>"
      ]
     },
     "execution_count": 64,
     "metadata": {},
     "output_type": "execute_result"
    }
   ],
   "source": [
    "YouTubeVideo('YpBUiEsTiEA')"
   ]
  },
  {
   "cell_type": "markdown",
   "metadata": {},
   "source": [
    "### Task 6\n",
    "Find the type of the items of the arrays `np.arange(0,9,1)` and `np.arange(0.,9,1)`."
   ]
  },
  {
   "cell_type": "code",
   "execution_count": 72,
   "metadata": {},
   "outputs": [
    {
     "name": "stdout",
     "output_type": "stream",
     "text": [
      "int64\n"
     ]
    }
   ],
   "source": [
    "arr1 = np.arange(0,9,1)\n",
    "print(arr1.dtype)"
   ]
  },
  {
   "cell_type": "code",
   "execution_count": 73,
   "metadata": {},
   "outputs": [
    {
     "name": "stdout",
     "output_type": "stream",
     "text": [
      "float64\n"
     ]
    }
   ],
   "source": [
    "arr2=np.arange(0.,9,1)\n",
    "print(arr2.dtype)"
   ]
  },
  {
   "cell_type": "code",
   "execution_count": null,
   "metadata": {},
   "outputs": [],
   "source": [
    "answer = 'gAAAAABcAXC6ubPFyqGJPj-A6Mf7CUH0yX6Q55wFMDx-WUSVnAd38Ysi4wrkkBGJJAotGDGZ452zkXKoVX1J8G-fFWnvNtPyovGhVxC6sK7yDRbTFo9LolHQ5b2w3cTfZ0m7kAu063tYE8-VmCIQBh6m6zEd5l9Evw=='"
   ]
  },
  {
   "cell_type": "code",
   "execution_count": null,
   "metadata": {},
   "outputs": [],
   "source": [
    "decrypt(answer,)"
   ]
  },
  {
   "cell_type": "markdown",
   "metadata": {},
   "source": [
    "### Task 7\n",
    "Use a list comprehension to generate all possible 4-digit codes consisting of 2 alphabetical letters and 2 numbers (from 0 to 9). How many items does the list of contain? Turn the list into a NumPy array and count the number of unique items."
   ]
  },
  {
   "cell_type": "code",
   "execution_count": 138,
   "metadata": {},
   "outputs": [
    {
     "data": {
      "text/plain": [
       "['aa00',\n",
       " 'aa10',\n",
       " 'aa20',\n",
       " 'aa30',\n",
       " 'aa40',\n",
       " 'aa50',\n",
       " 'aa60',\n",
       " 'aa70',\n",
       " 'aa80',\n",
       " 'aa90',\n",
       " 'aa01',\n",
       " 'aa11',\n",
       " 'aa21',\n",
       " 'aa31',\n",
       " 'aa41',\n",
       " 'aa51',\n",
       " 'aa61',\n",
       " 'aa71',\n",
       " 'aa81',\n",
       " 'aa91',\n",
       " 'aa02',\n",
       " 'aa12',\n",
       " 'aa22',\n",
       " 'aa32',\n",
       " 'aa42',\n",
       " 'aa52',\n",
       " 'aa62',\n",
       " 'aa72',\n",
       " 'aa82',\n",
       " 'aa92',\n",
       " 'aa03',\n",
       " 'aa13',\n",
       " 'aa23',\n",
       " 'aa33',\n",
       " 'aa43',\n",
       " 'aa53',\n",
       " 'aa63',\n",
       " 'aa73',\n",
       " 'aa83',\n",
       " 'aa93',\n",
       " 'aa04',\n",
       " 'aa14',\n",
       " 'aa24',\n",
       " 'aa34',\n",
       " 'aa44',\n",
       " 'aa54',\n",
       " 'aa64',\n",
       " 'aa74',\n",
       " 'aa84',\n",
       " 'aa94',\n",
       " 'aa05',\n",
       " 'aa15',\n",
       " 'aa25',\n",
       " 'aa35',\n",
       " 'aa45',\n",
       " 'aa55',\n",
       " 'aa65',\n",
       " 'aa75',\n",
       " 'aa85',\n",
       " 'aa95',\n",
       " 'aa06',\n",
       " 'aa16',\n",
       " 'aa26',\n",
       " 'aa36',\n",
       " 'aa46',\n",
       " 'aa56',\n",
       " 'aa66',\n",
       " 'aa76',\n",
       " 'aa86',\n",
       " 'aa96',\n",
       " 'aa07',\n",
       " 'aa17',\n",
       " 'aa27',\n",
       " 'aa37',\n",
       " 'aa47',\n",
       " 'aa57',\n",
       " 'aa67',\n",
       " 'aa77',\n",
       " 'aa87',\n",
       " 'aa97',\n",
       " 'aa08',\n",
       " 'aa18',\n",
       " 'aa28',\n",
       " 'aa38',\n",
       " 'aa48',\n",
       " 'aa58',\n",
       " 'aa68',\n",
       " 'aa78',\n",
       " 'aa88',\n",
       " 'aa98',\n",
       " 'aa09',\n",
       " 'aa19',\n",
       " 'aa29',\n",
       " 'aa39',\n",
       " 'aa49',\n",
       " 'aa59',\n",
       " 'aa69',\n",
       " 'aa79',\n",
       " 'aa89',\n",
       " 'aa99',\n",
       " 'ab00',\n",
       " 'ab10',\n",
       " 'ab20',\n",
       " 'ab30',\n",
       " 'ab40',\n",
       " 'ab50',\n",
       " 'ab60',\n",
       " 'ab70',\n",
       " 'ab80',\n",
       " 'ab90',\n",
       " 'ab01',\n",
       " 'ab11',\n",
       " 'ab21',\n",
       " 'ab31',\n",
       " 'ab41',\n",
       " 'ab51',\n",
       " 'ab61',\n",
       " 'ab71',\n",
       " 'ab81',\n",
       " 'ab91',\n",
       " 'ab02',\n",
       " 'ab12',\n",
       " 'ab22',\n",
       " 'ab32',\n",
       " 'ab42',\n",
       " 'ab52',\n",
       " 'ab62',\n",
       " 'ab72',\n",
       " 'ab82',\n",
       " 'ab92',\n",
       " 'ab03',\n",
       " 'ab13',\n",
       " 'ab23',\n",
       " 'ab33',\n",
       " 'ab43',\n",
       " 'ab53',\n",
       " 'ab63',\n",
       " 'ab73',\n",
       " 'ab83',\n",
       " 'ab93',\n",
       " 'ab04',\n",
       " 'ab14',\n",
       " 'ab24',\n",
       " 'ab34',\n",
       " 'ab44',\n",
       " 'ab54',\n",
       " 'ab64',\n",
       " 'ab74',\n",
       " 'ab84',\n",
       " 'ab94',\n",
       " 'ab05',\n",
       " 'ab15',\n",
       " 'ab25',\n",
       " 'ab35',\n",
       " 'ab45',\n",
       " 'ab55',\n",
       " 'ab65',\n",
       " 'ab75',\n",
       " 'ab85',\n",
       " 'ab95',\n",
       " 'ab06',\n",
       " 'ab16',\n",
       " 'ab26',\n",
       " 'ab36',\n",
       " 'ab46',\n",
       " 'ab56',\n",
       " 'ab66',\n",
       " 'ab76',\n",
       " 'ab86',\n",
       " 'ab96',\n",
       " 'ab07',\n",
       " 'ab17',\n",
       " 'ab27',\n",
       " 'ab37',\n",
       " 'ab47',\n",
       " 'ab57',\n",
       " 'ab67',\n",
       " 'ab77',\n",
       " 'ab87',\n",
       " 'ab97',\n",
       " 'ab08',\n",
       " 'ab18',\n",
       " 'ab28',\n",
       " 'ab38',\n",
       " 'ab48',\n",
       " 'ab58',\n",
       " 'ab68',\n",
       " 'ab78',\n",
       " 'ab88',\n",
       " 'ab98',\n",
       " 'ab09',\n",
       " 'ab19',\n",
       " 'ab29',\n",
       " 'ab39',\n",
       " 'ab49',\n",
       " 'ab59',\n",
       " 'ab69',\n",
       " 'ab79',\n",
       " 'ab89',\n",
       " 'ab99',\n",
       " 'ac00',\n",
       " 'ac10',\n",
       " 'ac20',\n",
       " 'ac30',\n",
       " 'ac40',\n",
       " 'ac50',\n",
       " 'ac60',\n",
       " 'ac70',\n",
       " 'ac80',\n",
       " 'ac90',\n",
       " 'ac01',\n",
       " 'ac11',\n",
       " 'ac21',\n",
       " 'ac31',\n",
       " 'ac41',\n",
       " 'ac51',\n",
       " 'ac61',\n",
       " 'ac71',\n",
       " 'ac81',\n",
       " 'ac91',\n",
       " 'ac02',\n",
       " 'ac12',\n",
       " 'ac22',\n",
       " 'ac32',\n",
       " 'ac42',\n",
       " 'ac52',\n",
       " 'ac62',\n",
       " 'ac72',\n",
       " 'ac82',\n",
       " 'ac92',\n",
       " 'ac03',\n",
       " 'ac13',\n",
       " 'ac23',\n",
       " 'ac33',\n",
       " 'ac43',\n",
       " 'ac53',\n",
       " 'ac63',\n",
       " 'ac73',\n",
       " 'ac83',\n",
       " 'ac93',\n",
       " 'ac04',\n",
       " 'ac14',\n",
       " 'ac24',\n",
       " 'ac34',\n",
       " 'ac44',\n",
       " 'ac54',\n",
       " 'ac64',\n",
       " 'ac74',\n",
       " 'ac84',\n",
       " 'ac94',\n",
       " 'ac05',\n",
       " 'ac15',\n",
       " 'ac25',\n",
       " 'ac35',\n",
       " 'ac45',\n",
       " 'ac55',\n",
       " 'ac65',\n",
       " 'ac75',\n",
       " 'ac85',\n",
       " 'ac95',\n",
       " 'ac06',\n",
       " 'ac16',\n",
       " 'ac26',\n",
       " 'ac36',\n",
       " 'ac46',\n",
       " 'ac56',\n",
       " 'ac66',\n",
       " 'ac76',\n",
       " 'ac86',\n",
       " 'ac96',\n",
       " 'ac07',\n",
       " 'ac17',\n",
       " 'ac27',\n",
       " 'ac37',\n",
       " 'ac47',\n",
       " 'ac57',\n",
       " 'ac67',\n",
       " 'ac77',\n",
       " 'ac87',\n",
       " 'ac97',\n",
       " 'ac08',\n",
       " 'ac18',\n",
       " 'ac28',\n",
       " 'ac38',\n",
       " 'ac48',\n",
       " 'ac58',\n",
       " 'ac68',\n",
       " 'ac78',\n",
       " 'ac88',\n",
       " 'ac98',\n",
       " 'ac09',\n",
       " 'ac19',\n",
       " 'ac29',\n",
       " 'ac39',\n",
       " 'ac49',\n",
       " 'ac59',\n",
       " 'ac69',\n",
       " 'ac79',\n",
       " 'ac89',\n",
       " 'ac99',\n",
       " 'ad00',\n",
       " 'ad10',\n",
       " 'ad20',\n",
       " 'ad30',\n",
       " 'ad40',\n",
       " 'ad50',\n",
       " 'ad60',\n",
       " 'ad70',\n",
       " 'ad80',\n",
       " 'ad90',\n",
       " 'ad01',\n",
       " 'ad11',\n",
       " 'ad21',\n",
       " 'ad31',\n",
       " 'ad41',\n",
       " 'ad51',\n",
       " 'ad61',\n",
       " 'ad71',\n",
       " 'ad81',\n",
       " 'ad91',\n",
       " 'ad02',\n",
       " 'ad12',\n",
       " 'ad22',\n",
       " 'ad32',\n",
       " 'ad42',\n",
       " 'ad52',\n",
       " 'ad62',\n",
       " 'ad72',\n",
       " 'ad82',\n",
       " 'ad92',\n",
       " 'ad03',\n",
       " 'ad13',\n",
       " 'ad23',\n",
       " 'ad33',\n",
       " 'ad43',\n",
       " 'ad53',\n",
       " 'ad63',\n",
       " 'ad73',\n",
       " 'ad83',\n",
       " 'ad93',\n",
       " 'ad04',\n",
       " 'ad14',\n",
       " 'ad24',\n",
       " 'ad34',\n",
       " 'ad44',\n",
       " 'ad54',\n",
       " 'ad64',\n",
       " 'ad74',\n",
       " 'ad84',\n",
       " 'ad94',\n",
       " 'ad05',\n",
       " 'ad15',\n",
       " 'ad25',\n",
       " 'ad35',\n",
       " 'ad45',\n",
       " 'ad55',\n",
       " 'ad65',\n",
       " 'ad75',\n",
       " 'ad85',\n",
       " 'ad95',\n",
       " 'ad06',\n",
       " 'ad16',\n",
       " 'ad26',\n",
       " 'ad36',\n",
       " 'ad46',\n",
       " 'ad56',\n",
       " 'ad66',\n",
       " 'ad76',\n",
       " 'ad86',\n",
       " 'ad96',\n",
       " 'ad07',\n",
       " 'ad17',\n",
       " 'ad27',\n",
       " 'ad37',\n",
       " 'ad47',\n",
       " 'ad57',\n",
       " 'ad67',\n",
       " 'ad77',\n",
       " 'ad87',\n",
       " 'ad97',\n",
       " 'ad08',\n",
       " 'ad18',\n",
       " 'ad28',\n",
       " 'ad38',\n",
       " 'ad48',\n",
       " 'ad58',\n",
       " 'ad68',\n",
       " 'ad78',\n",
       " 'ad88',\n",
       " 'ad98',\n",
       " 'ad09',\n",
       " 'ad19',\n",
       " 'ad29',\n",
       " 'ad39',\n",
       " 'ad49',\n",
       " 'ad59',\n",
       " 'ad69',\n",
       " 'ad79',\n",
       " 'ad89',\n",
       " 'ad99',\n",
       " 'ae00',\n",
       " 'ae10',\n",
       " 'ae20',\n",
       " 'ae30',\n",
       " 'ae40',\n",
       " 'ae50',\n",
       " 'ae60',\n",
       " 'ae70',\n",
       " 'ae80',\n",
       " 'ae90',\n",
       " 'ae01',\n",
       " 'ae11',\n",
       " 'ae21',\n",
       " 'ae31',\n",
       " 'ae41',\n",
       " 'ae51',\n",
       " 'ae61',\n",
       " 'ae71',\n",
       " 'ae81',\n",
       " 'ae91',\n",
       " 'ae02',\n",
       " 'ae12',\n",
       " 'ae22',\n",
       " 'ae32',\n",
       " 'ae42',\n",
       " 'ae52',\n",
       " 'ae62',\n",
       " 'ae72',\n",
       " 'ae82',\n",
       " 'ae92',\n",
       " 'ae03',\n",
       " 'ae13',\n",
       " 'ae23',\n",
       " 'ae33',\n",
       " 'ae43',\n",
       " 'ae53',\n",
       " 'ae63',\n",
       " 'ae73',\n",
       " 'ae83',\n",
       " 'ae93',\n",
       " 'ae04',\n",
       " 'ae14',\n",
       " 'ae24',\n",
       " 'ae34',\n",
       " 'ae44',\n",
       " 'ae54',\n",
       " 'ae64',\n",
       " 'ae74',\n",
       " 'ae84',\n",
       " 'ae94',\n",
       " 'ae05',\n",
       " 'ae15',\n",
       " 'ae25',\n",
       " 'ae35',\n",
       " 'ae45',\n",
       " 'ae55',\n",
       " 'ae65',\n",
       " 'ae75',\n",
       " 'ae85',\n",
       " 'ae95',\n",
       " 'ae06',\n",
       " 'ae16',\n",
       " 'ae26',\n",
       " 'ae36',\n",
       " 'ae46',\n",
       " 'ae56',\n",
       " 'ae66',\n",
       " 'ae76',\n",
       " 'ae86',\n",
       " 'ae96',\n",
       " 'ae07',\n",
       " 'ae17',\n",
       " 'ae27',\n",
       " 'ae37',\n",
       " 'ae47',\n",
       " 'ae57',\n",
       " 'ae67',\n",
       " 'ae77',\n",
       " 'ae87',\n",
       " 'ae97',\n",
       " 'ae08',\n",
       " 'ae18',\n",
       " 'ae28',\n",
       " 'ae38',\n",
       " 'ae48',\n",
       " 'ae58',\n",
       " 'ae68',\n",
       " 'ae78',\n",
       " 'ae88',\n",
       " 'ae98',\n",
       " 'ae09',\n",
       " 'ae19',\n",
       " 'ae29',\n",
       " 'ae39',\n",
       " 'ae49',\n",
       " 'ae59',\n",
       " 'ae69',\n",
       " 'ae79',\n",
       " 'ae89',\n",
       " 'ae99',\n",
       " 'af00',\n",
       " 'af10',\n",
       " 'af20',\n",
       " 'af30',\n",
       " 'af40',\n",
       " 'af50',\n",
       " 'af60',\n",
       " 'af70',\n",
       " 'af80',\n",
       " 'af90',\n",
       " 'af01',\n",
       " 'af11',\n",
       " 'af21',\n",
       " 'af31',\n",
       " 'af41',\n",
       " 'af51',\n",
       " 'af61',\n",
       " 'af71',\n",
       " 'af81',\n",
       " 'af91',\n",
       " 'af02',\n",
       " 'af12',\n",
       " 'af22',\n",
       " 'af32',\n",
       " 'af42',\n",
       " 'af52',\n",
       " 'af62',\n",
       " 'af72',\n",
       " 'af82',\n",
       " 'af92',\n",
       " 'af03',\n",
       " 'af13',\n",
       " 'af23',\n",
       " 'af33',\n",
       " 'af43',\n",
       " 'af53',\n",
       " 'af63',\n",
       " 'af73',\n",
       " 'af83',\n",
       " 'af93',\n",
       " 'af04',\n",
       " 'af14',\n",
       " 'af24',\n",
       " 'af34',\n",
       " 'af44',\n",
       " 'af54',\n",
       " 'af64',\n",
       " 'af74',\n",
       " 'af84',\n",
       " 'af94',\n",
       " 'af05',\n",
       " 'af15',\n",
       " 'af25',\n",
       " 'af35',\n",
       " 'af45',\n",
       " 'af55',\n",
       " 'af65',\n",
       " 'af75',\n",
       " 'af85',\n",
       " 'af95',\n",
       " 'af06',\n",
       " 'af16',\n",
       " 'af26',\n",
       " 'af36',\n",
       " 'af46',\n",
       " 'af56',\n",
       " 'af66',\n",
       " 'af76',\n",
       " 'af86',\n",
       " 'af96',\n",
       " 'af07',\n",
       " 'af17',\n",
       " 'af27',\n",
       " 'af37',\n",
       " 'af47',\n",
       " 'af57',\n",
       " 'af67',\n",
       " 'af77',\n",
       " 'af87',\n",
       " 'af97',\n",
       " 'af08',\n",
       " 'af18',\n",
       " 'af28',\n",
       " 'af38',\n",
       " 'af48',\n",
       " 'af58',\n",
       " 'af68',\n",
       " 'af78',\n",
       " 'af88',\n",
       " 'af98',\n",
       " 'af09',\n",
       " 'af19',\n",
       " 'af29',\n",
       " 'af39',\n",
       " 'af49',\n",
       " 'af59',\n",
       " 'af69',\n",
       " 'af79',\n",
       " 'af89',\n",
       " 'af99',\n",
       " 'ag00',\n",
       " 'ag10',\n",
       " 'ag20',\n",
       " 'ag30',\n",
       " 'ag40',\n",
       " 'ag50',\n",
       " 'ag60',\n",
       " 'ag70',\n",
       " 'ag80',\n",
       " 'ag90',\n",
       " 'ag01',\n",
       " 'ag11',\n",
       " 'ag21',\n",
       " 'ag31',\n",
       " 'ag41',\n",
       " 'ag51',\n",
       " 'ag61',\n",
       " 'ag71',\n",
       " 'ag81',\n",
       " 'ag91',\n",
       " 'ag02',\n",
       " 'ag12',\n",
       " 'ag22',\n",
       " 'ag32',\n",
       " 'ag42',\n",
       " 'ag52',\n",
       " 'ag62',\n",
       " 'ag72',\n",
       " 'ag82',\n",
       " 'ag92',\n",
       " 'ag03',\n",
       " 'ag13',\n",
       " 'ag23',\n",
       " 'ag33',\n",
       " 'ag43',\n",
       " 'ag53',\n",
       " 'ag63',\n",
       " 'ag73',\n",
       " 'ag83',\n",
       " 'ag93',\n",
       " 'ag04',\n",
       " 'ag14',\n",
       " 'ag24',\n",
       " 'ag34',\n",
       " 'ag44',\n",
       " 'ag54',\n",
       " 'ag64',\n",
       " 'ag74',\n",
       " 'ag84',\n",
       " 'ag94',\n",
       " 'ag05',\n",
       " 'ag15',\n",
       " 'ag25',\n",
       " 'ag35',\n",
       " 'ag45',\n",
       " 'ag55',\n",
       " 'ag65',\n",
       " 'ag75',\n",
       " 'ag85',\n",
       " 'ag95',\n",
       " 'ag06',\n",
       " 'ag16',\n",
       " 'ag26',\n",
       " 'ag36',\n",
       " 'ag46',\n",
       " 'ag56',\n",
       " 'ag66',\n",
       " 'ag76',\n",
       " 'ag86',\n",
       " 'ag96',\n",
       " 'ag07',\n",
       " 'ag17',\n",
       " 'ag27',\n",
       " 'ag37',\n",
       " 'ag47',\n",
       " 'ag57',\n",
       " 'ag67',\n",
       " 'ag77',\n",
       " 'ag87',\n",
       " 'ag97',\n",
       " 'ag08',\n",
       " 'ag18',\n",
       " 'ag28',\n",
       " 'ag38',\n",
       " 'ag48',\n",
       " 'ag58',\n",
       " 'ag68',\n",
       " 'ag78',\n",
       " 'ag88',\n",
       " 'ag98',\n",
       " 'ag09',\n",
       " 'ag19',\n",
       " 'ag29',\n",
       " 'ag39',\n",
       " 'ag49',\n",
       " 'ag59',\n",
       " 'ag69',\n",
       " 'ag79',\n",
       " 'ag89',\n",
       " 'ag99',\n",
       " 'ah00',\n",
       " 'ah10',\n",
       " 'ah20',\n",
       " 'ah30',\n",
       " 'ah40',\n",
       " 'ah50',\n",
       " 'ah60',\n",
       " 'ah70',\n",
       " 'ah80',\n",
       " 'ah90',\n",
       " 'ah01',\n",
       " 'ah11',\n",
       " 'ah21',\n",
       " 'ah31',\n",
       " 'ah41',\n",
       " 'ah51',\n",
       " 'ah61',\n",
       " 'ah71',\n",
       " 'ah81',\n",
       " 'ah91',\n",
       " 'ah02',\n",
       " 'ah12',\n",
       " 'ah22',\n",
       " 'ah32',\n",
       " 'ah42',\n",
       " 'ah52',\n",
       " 'ah62',\n",
       " 'ah72',\n",
       " 'ah82',\n",
       " 'ah92',\n",
       " 'ah03',\n",
       " 'ah13',\n",
       " 'ah23',\n",
       " 'ah33',\n",
       " 'ah43',\n",
       " 'ah53',\n",
       " 'ah63',\n",
       " 'ah73',\n",
       " 'ah83',\n",
       " 'ah93',\n",
       " 'ah04',\n",
       " 'ah14',\n",
       " 'ah24',\n",
       " 'ah34',\n",
       " 'ah44',\n",
       " 'ah54',\n",
       " 'ah64',\n",
       " 'ah74',\n",
       " 'ah84',\n",
       " 'ah94',\n",
       " 'ah05',\n",
       " 'ah15',\n",
       " 'ah25',\n",
       " 'ah35',\n",
       " 'ah45',\n",
       " 'ah55',\n",
       " 'ah65',\n",
       " 'ah75',\n",
       " 'ah85',\n",
       " 'ah95',\n",
       " 'ah06',\n",
       " 'ah16',\n",
       " 'ah26',\n",
       " 'ah36',\n",
       " 'ah46',\n",
       " 'ah56',\n",
       " 'ah66',\n",
       " 'ah76',\n",
       " 'ah86',\n",
       " 'ah96',\n",
       " 'ah07',\n",
       " 'ah17',\n",
       " 'ah27',\n",
       " 'ah37',\n",
       " 'ah47',\n",
       " 'ah57',\n",
       " 'ah67',\n",
       " 'ah77',\n",
       " 'ah87',\n",
       " 'ah97',\n",
       " 'ah08',\n",
       " 'ah18',\n",
       " 'ah28',\n",
       " 'ah38',\n",
       " 'ah48',\n",
       " 'ah58',\n",
       " 'ah68',\n",
       " 'ah78',\n",
       " 'ah88',\n",
       " 'ah98',\n",
       " 'ah09',\n",
       " 'ah19',\n",
       " 'ah29',\n",
       " 'ah39',\n",
       " 'ah49',\n",
       " 'ah59',\n",
       " 'ah69',\n",
       " 'ah79',\n",
       " 'ah89',\n",
       " 'ah99',\n",
       " 'ai00',\n",
       " 'ai10',\n",
       " 'ai20',\n",
       " 'ai30',\n",
       " 'ai40',\n",
       " 'ai50',\n",
       " 'ai60',\n",
       " 'ai70',\n",
       " 'ai80',\n",
       " 'ai90',\n",
       " 'ai01',\n",
       " 'ai11',\n",
       " 'ai21',\n",
       " 'ai31',\n",
       " 'ai41',\n",
       " 'ai51',\n",
       " 'ai61',\n",
       " 'ai71',\n",
       " 'ai81',\n",
       " 'ai91',\n",
       " 'ai02',\n",
       " 'ai12',\n",
       " 'ai22',\n",
       " 'ai32',\n",
       " 'ai42',\n",
       " 'ai52',\n",
       " 'ai62',\n",
       " 'ai72',\n",
       " 'ai82',\n",
       " 'ai92',\n",
       " 'ai03',\n",
       " 'ai13',\n",
       " 'ai23',\n",
       " 'ai33',\n",
       " 'ai43',\n",
       " 'ai53',\n",
       " 'ai63',\n",
       " 'ai73',\n",
       " 'ai83',\n",
       " 'ai93',\n",
       " 'ai04',\n",
       " 'ai14',\n",
       " 'ai24',\n",
       " 'ai34',\n",
       " 'ai44',\n",
       " 'ai54',\n",
       " 'ai64',\n",
       " 'ai74',\n",
       " 'ai84',\n",
       " 'ai94',\n",
       " 'ai05',\n",
       " 'ai15',\n",
       " 'ai25',\n",
       " 'ai35',\n",
       " 'ai45',\n",
       " 'ai55',\n",
       " 'ai65',\n",
       " 'ai75',\n",
       " 'ai85',\n",
       " 'ai95',\n",
       " 'ai06',\n",
       " 'ai16',\n",
       " 'ai26',\n",
       " 'ai36',\n",
       " 'ai46',\n",
       " 'ai56',\n",
       " 'ai66',\n",
       " 'ai76',\n",
       " 'ai86',\n",
       " 'ai96',\n",
       " 'ai07',\n",
       " 'ai17',\n",
       " 'ai27',\n",
       " 'ai37',\n",
       " 'ai47',\n",
       " 'ai57',\n",
       " 'ai67',\n",
       " 'ai77',\n",
       " 'ai87',\n",
       " 'ai97',\n",
       " 'ai08',\n",
       " 'ai18',\n",
       " 'ai28',\n",
       " 'ai38',\n",
       " 'ai48',\n",
       " 'ai58',\n",
       " 'ai68',\n",
       " 'ai78',\n",
       " 'ai88',\n",
       " 'ai98',\n",
       " 'ai09',\n",
       " 'ai19',\n",
       " 'ai29',\n",
       " 'ai39',\n",
       " 'ai49',\n",
       " 'ai59',\n",
       " 'ai69',\n",
       " 'ai79',\n",
       " 'ai89',\n",
       " 'ai99',\n",
       " 'aj00',\n",
       " 'aj10',\n",
       " 'aj20',\n",
       " 'aj30',\n",
       " 'aj40',\n",
       " 'aj50',\n",
       " 'aj60',\n",
       " 'aj70',\n",
       " 'aj80',\n",
       " 'aj90',\n",
       " 'aj01',\n",
       " 'aj11',\n",
       " 'aj21',\n",
       " 'aj31',\n",
       " 'aj41',\n",
       " 'aj51',\n",
       " 'aj61',\n",
       " 'aj71',\n",
       " 'aj81',\n",
       " 'aj91',\n",
       " 'aj02',\n",
       " 'aj12',\n",
       " 'aj22',\n",
       " 'aj32',\n",
       " 'aj42',\n",
       " 'aj52',\n",
       " 'aj62',\n",
       " 'aj72',\n",
       " 'aj82',\n",
       " 'aj92',\n",
       " 'aj03',\n",
       " 'aj13',\n",
       " 'aj23',\n",
       " 'aj33',\n",
       " 'aj43',\n",
       " 'aj53',\n",
       " 'aj63',\n",
       " 'aj73',\n",
       " 'aj83',\n",
       " 'aj93',\n",
       " 'aj04',\n",
       " 'aj14',\n",
       " 'aj24',\n",
       " 'aj34',\n",
       " 'aj44',\n",
       " 'aj54',\n",
       " 'aj64',\n",
       " 'aj74',\n",
       " 'aj84',\n",
       " 'aj94',\n",
       " 'aj05',\n",
       " 'aj15',\n",
       " 'aj25',\n",
       " 'aj35',\n",
       " 'aj45',\n",
       " 'aj55',\n",
       " 'aj65',\n",
       " 'aj75',\n",
       " 'aj85',\n",
       " 'aj95',\n",
       " 'aj06',\n",
       " 'aj16',\n",
       " 'aj26',\n",
       " 'aj36',\n",
       " 'aj46',\n",
       " 'aj56',\n",
       " 'aj66',\n",
       " 'aj76',\n",
       " 'aj86',\n",
       " 'aj96',\n",
       " 'aj07',\n",
       " 'aj17',\n",
       " 'aj27',\n",
       " 'aj37',\n",
       " 'aj47',\n",
       " 'aj57',\n",
       " 'aj67',\n",
       " 'aj77',\n",
       " 'aj87',\n",
       " 'aj97',\n",
       " 'aj08',\n",
       " 'aj18',\n",
       " 'aj28',\n",
       " 'aj38',\n",
       " 'aj48',\n",
       " 'aj58',\n",
       " 'aj68',\n",
       " 'aj78',\n",
       " 'aj88',\n",
       " 'aj98',\n",
       " 'aj09',\n",
       " 'aj19',\n",
       " 'aj29',\n",
       " 'aj39',\n",
       " 'aj49',\n",
       " 'aj59',\n",
       " 'aj69',\n",
       " 'aj79',\n",
       " 'aj89',\n",
       " 'aj99',\n",
       " ...]"
      ]
     },
     "execution_count": 138,
     "metadata": {},
     "output_type": "execute_result"
    }
   ],
   "source": [
    "t7 = ['{}{}{}{}'.format(chr(x),chr(k),m,y) for x in range(ord('a'), ord('z') + 1) for k in range(ord('a'), ord('z') + 1) for y in range(0,10) for m in range(0,10)]\n",
    "t7"
   ]
  },
  {
   "cell_type": "code",
   "execution_count": 140,
   "metadata": {},
   "outputs": [
    {
     "data": {
      "text/plain": [
       "67600"
      ]
     },
     "execution_count": 140,
     "metadata": {},
     "output_type": "execute_result"
    }
   ],
   "source": [
    "len(t7)"
   ]
  },
  {
   "cell_type": "code",
   "execution_count": 143,
   "metadata": {},
   "outputs": [
    {
     "data": {
      "text/plain": [
       "67600"
      ]
     },
     "execution_count": 143,
     "metadata": {},
     "output_type": "execute_result"
    }
   ],
   "source": [
    "t7np = np.asarray(t7)\n",
    "len(np.unique(t7np))"
   ]
  },
  {
   "cell_type": "code",
   "execution_count": null,
   "metadata": {},
   "outputs": [],
   "source": [
    "answer = 'gAAAAABcAXUFYR3d2T0gj4i2zvger7rLhjcdCpmHtMJ25cg0I-Cng6cC2w5ZTCvDHRpt1XOKds6fWztIMkMPoihsu-XDusbRCL7S4-BiWICQHyUqyKuHtrNen4TrJXv2UHP_pzPsCv2BM6xUXKocTsgtBuAuYCLSxX-4bnyXyLNVEsOmTt7jw-QeVmBqiGvqXqP-vv4G7ueg1f6vpRWBNaqayso5ZhVlRzUNc6fNcgWX7q3EvOs_RqY1avTku9V46ldfWSbwFxcCyX-N1aEaYGHuVCgpyZy2w6HDSbWzGfx_quF293TLAX94nJOAh2JYS6NGk9IlvQYWa4LUyGW_Xj1V01I_AlSXiA=='\n"
   ]
  },
  {
   "cell_type": "code",
   "execution_count": null,
   "metadata": {},
   "outputs": [],
   "source": [
    "decrypt(answer,)"
   ]
  },
  {
   "cell_type": "markdown",
   "metadata": {},
   "source": [
    "### Task 8\n",
    "Generate the array [9 7 5 3] with `np.linspace(start=0,stop=10,num=11)` and indexing. Convert its elements to strings with 2 trailing zeros using [`format`](https://pyformat.info/)."
   ]
  },
  {
   "cell_type": "code",
   "execution_count": 105,
   "metadata": {},
   "outputs": [
    {
     "data": {
      "text/plain": [
       "array([ 0.,  1.,  2.,  3.,  4.,  5.,  6.,  7.,  8.,  9., 10.])"
      ]
     },
     "execution_count": 105,
     "metadata": {},
     "output_type": "execute_result"
    }
   ],
   "source": [
    "np.linspace(start=0,stop=10,num=11)"
   ]
  },
  {
   "cell_type": "code",
   "execution_count": null,
   "metadata": {},
   "outputs": [],
   "source": [
    "answer = 'gAAAAABcAXWqJ3EkPOBOFbWCE8-SH72Mxtjk9Vupi0T6fBICvOOaJrbNMdr2prHQGeOfWflKEbtWxCODpVK5HY7Q1PEeg1r7-SVmSIWO9HSk_rdBitN-DnIL2XbfC9AaM2SSurG4O9PYa-7Mq1lVhm1oyV9vdzVbK0W6M5Wup08NvRZliVlkve1Y4OvcsqxoQdrM1VfuM-fDU3yd7Ytk0zNIAaIueLFCOOkOoEgLipGSDRWdCSqbXquMtsd-xQ9sH2emp0k-k5yE'\n"
   ]
  },
  {
   "cell_type": "code",
   "execution_count": null,
   "metadata": {},
   "outputs": [],
   "source": [
    "decrypt(answer,)"
   ]
  },
  {
   "cell_type": "markdown",
   "metadata": {},
   "source": [
    "### Task 9\n",
    "- create a linear sequence of integers from 0 to 7 stepping by 1 with `arange` and `linspace`\n",
    "- create a linear sequence of floating-point numbers from 0 to 7 stepping by 0.25 with `arange` and `linspace`"
   ]
  },
  {
   "cell_type": "code",
   "execution_count": 115,
   "metadata": {},
   "outputs": [
    {
     "data": {
      "text/plain": [
       "array([0, 1, 2, 3, 4, 5, 6])"
      ]
     },
     "execution_count": 115,
     "metadata": {},
     "output_type": "execute_result"
    }
   ],
   "source": [
    "np.arange(0,7,1)"
   ]
  },
  {
   "cell_type": "code",
   "execution_count": 112,
   "metadata": {},
   "outputs": [
    {
     "data": {
      "text/plain": [
       "array([0., 1., 2., 3., 4., 5., 6., 7.])"
      ]
     },
     "execution_count": 112,
     "metadata": {},
     "output_type": "execute_result"
    }
   ],
   "source": [
    "np.linspace(0,7,8)"
   ]
  },
  {
   "cell_type": "code",
   "execution_count": 114,
   "metadata": {},
   "outputs": [
    {
     "data": {
      "text/plain": [
       "array([0.  , 0.25, 0.5 , 0.75, 1.  , 1.25, 1.5 , 1.75, 2.  , 2.25, 2.5 ,\n",
       "       2.75, 3.  , 3.25, 3.5 , 3.75, 4.  , 4.25, 4.5 , 4.75, 5.  , 5.25,\n",
       "       5.5 , 5.75, 6.  , 6.25, 6.5 , 6.75])"
      ]
     },
     "execution_count": 114,
     "metadata": {},
     "output_type": "execute_result"
    }
   ],
   "source": [
    "np.arange(0,7,0.25)"
   ]
  },
  {
   "cell_type": "code",
   "execution_count": 119,
   "metadata": {},
   "outputs": [
    {
     "data": {
      "text/plain": [
       "array([0.  , 0.25, 0.5 , 0.75, 1.  , 1.25, 1.5 , 1.75, 2.  , 2.25, 2.5 ,\n",
       "       2.75, 3.  , 3.25, 3.5 , 3.75, 4.  , 4.25, 4.5 , 4.75, 5.  , 5.25,\n",
       "       5.5 , 5.75, 6.  , 6.25, 6.5 , 6.75, 7.  ])"
      ]
     },
     "execution_count": 119,
     "metadata": {},
     "output_type": "execute_result"
    }
   ],
   "source": [
    "np.linspace(0,7,29)"
   ]
  },
  {
   "cell_type": "code",
   "execution_count": null,
   "metadata": {},
   "outputs": [],
   "source": [
    "answer = 'gAAAAABcAXacH2s6wH7Q02OEFFeRxe9NXtcuBKGUB4UffBOYJnUZVnv8XeoToWcoQ7FGYa3_elbyhsuFj1n7t6ywpNMqfGIHyuSZA80EnCUrhBv-4hRGUEeeH-FFo_Ca2hck89vkCb-rCTXdVB3oKY_Sj5Cl1BbHY3p3lCtvRTrVY47y_GaUaIlnL1ZB1liPGl6t1m0-ejLJQTu9Jir0_-6HSaoQikAmhzZP1qhKnTbFp4-jK-ddpgxpVLjFJs316OcrGMkkk5YCosZRzzRW9QZSzbufN3nuJj13G7qbl9skcdgM2uvGWcQY3UzEmJy-tbqtnD809YrqtO9I7tpkSwBs82oxJ32hJ9FsSwGhy05GaDRhcUve7CI='\n"
   ]
  },
  {
   "cell_type": "code",
   "execution_count": null,
   "metadata": {},
   "outputs": [],
   "source": [
    "decrypt(answer,)"
   ]
  },
  {
   "cell_type": "markdown",
   "metadata": {},
   "source": [
    "### Task 10\n",
    "- Create an uninitialized array of size 0 and populate it, in a for loop, with the 4-digit codes containing the letter \"a\" and selected from those generated in Task 7.<br>\n",
    "Hint: use `empty` and `append`.\n",
    "- Create the same array in a single line using list comprehension."
   ]
  },
  {
   "cell_type": "code",
   "execution_count": 168,
   "metadata": {
    "scrolled": false
   },
   "outputs": [
    {
     "data": {
      "text/plain": [
       "array(['aa00', 'aa10', 'aa20', ..., 'za79', 'za89', 'za99'], dtype='<U32')"
      ]
     },
     "execution_count": 168,
     "metadata": {},
     "output_type": "execute_result"
    }
   ],
   "source": [
    "t10 = np.empty(0)\n",
    "for x in t7np:\n",
    "    if ('a' in x):\n",
    "        t10 = np.append(t10,x)\n",
    "t10"
   ]
  },
  {
   "cell_type": "code",
   "execution_count": null,
   "metadata": {},
   "outputs": [],
   "source": [
    "answer = 'gAAAAABcAX7FytesghVv_mvr9wtxzVRr8OP5di6oAxZuVVELnr2VIbXR8xTdwX7kyt32y2JRd3UiOc1FKIc1IyLOlmFJma2XXQ72wPGOnqlFaPTceiASAQ8dv50fvtwCsd3CkKDPFsL6Qs2Bk7gnCR602ZmQJJJgLuuaIip0N3d_H88olMevcDyBnMUU9hUqruGTaSf3WR3cRtCInw_5ACJgYgZ9FP4FDU20Ba6bN9guR45P1ShCZOwbLf0NKeLv03sl1LWw2nQSAHEmkMvJgdNZ5_Qwupv3_JxscIBFpN8ho7gKCXbbzCF2OB5-RivPv2DulrOe8WfUl_nm-r-sHhuC0doAs2m6-g=='\n"
   ]
  },
  {
   "cell_type": "code",
   "execution_count": null,
   "metadata": {},
   "outputs": [],
   "source": [
    "decrypt(answer,)"
   ]
  },
  {
   "cell_type": "markdown",
   "metadata": {},
   "source": [
    "<a id='3'></a>"
   ]
  },
  {
   "cell_type": "markdown",
   "metadata": {},
   "source": [
    "# Storage and manipulation of numerical arrays\n",
    "<img src=\"https://upload.wikimedia.org/wikipedia/commons/1/1a/NumPy_logo.svg\" width=\"200\" align=\"left\"/>"
   ]
  },
  {
   "cell_type": "code",
   "execution_count": 75,
   "metadata": {},
   "outputs": [
    {
     "data": {
      "image/jpeg": "[encoded data removed]",
      "text/html": [
       "\n",
       "        <iframe\n",
       "            width=\"400\"\n",
       "            height=\"300\"\n",
       "            src=\"https://www.youtube.com/embed/2xJsNi3wk-s\"\n",
       "            frameborder=\"0\"\n",
       "            allowfullscreen\n",
       "        ></iframe>\n",
       "        "
      ],
      "text/plain": [
       "<IPython.lib.display.YouTubeVideo at 0x7f914cd18fd0>"
      ]
     },
     "execution_count": 75,
     "metadata": {},
     "output_type": "execute_result"
    }
   ],
   "source": [
    "YouTubeVideo('2xJsNi3wk-s')"
   ]
  },
  {
   "cell_type": "markdown",
   "metadata": {},
   "source": [
    "### Task 11\n",
    "Generate a 3x3 zero matrix and turn it into a 3x3 identity matrix by modifying values one by one or by fancy indexing."
   ]
  },
  {
   "cell_type": "code",
   "execution_count": 179,
   "metadata": {},
   "outputs": [
    {
     "data": {
      "text/plain": [
       "array([[0., 0., 0.],\n",
       "       [0., 0., 0.],\n",
       "       [0., 0., 0.]])"
      ]
     },
     "execution_count": 179,
     "metadata": {},
     "output_type": "execute_result"
    }
   ],
   "source": [
    "N = 3\n",
    "my_arr1 = np.eye(N)\n",
    "my_arr = np.zeros((N,N))\n",
    "my_arr"
   ]
  },
  {
   "cell_type": "code",
   "execution_count": 181,
   "metadata": {},
   "outputs": [
    {
     "data": {
      "text/plain": [
       "array([[1., 0., 0.],\n",
       "       [0., 1., 0.],\n",
       "       [0., 0., 1.]])"
      ]
     },
     "execution_count": 181,
     "metadata": {},
     "output_type": "execute_result"
    }
   ],
   "source": [
    "my_arr[range(3), range(3)] = 1\n",
    "my_arr"
   ]
  },
  {
   "cell_type": "code",
   "execution_count": null,
   "metadata": {},
   "outputs": [],
   "source": [
    "answer = 'gAAAAABcAYDE5-H_i0u-50j3_pcGQwGmrLyH-98v5F-kISABJWSIDDiQues0yc1-M6rIQ57o_neV8kpksWCgjJUR-k0N7u2SrqBgz1oxnwSzryRYsfJLWKSxzNhJM0588wVeXPowZ0wjEKTeURn0f9aDhS3rghxDFaYD30qyubR1qXOqY3644FKa1x4YWgaLpN8x9s_Hs7_6MuPgnx0eoP5oDx1IfL4Dmqb51rIsgiGbQbvWT7tnAjI8JL7LCxP6PIG7FITginHriuM1edJ1h__JbxCQq78mdSFZYgsqy2TGoupVvOqNfN23ox91vXHotjp2UE6y_b0rY6d7mydOt4GgvMgKnDl6QCybpV_Td-ySVCvNuqWTADKwsfntWb-wrJwhh8SsFBrH-35h70ruU1U-307PtfjWZUCirkhANhWh4c5tJpzBJVjsTYyQDwoRNYzVgeAcHkmYocODTwhswnirZOZDwCuAgQY4F6Ba_zB47n6gltOsPYy_DUNAQClAIOABK4Zt79_1bMDDLrnVaHT1TqF4CR42PUJ143SF86zuqDoz0H_E1szwUsz_95qyBvcf1ZzO99tDdAFBt-5P4r5EVoy-iQ35kA=='\n"
   ]
  },
  {
   "cell_type": "code",
   "execution_count": null,
   "metadata": {},
   "outputs": [],
   "source": [
    "decrypt(answer,)"
   ]
  },
  {
   "cell_type": "markdown",
   "metadata": {},
   "source": [
    "### Task 12\n",
    "Complete the following lines\n",
    "\n",
    "```.py\n",
    "x = \n",
    "y = \n",
    "np.savetxt('',np.c_[],fmt='%',header='\\t',delimiter='',comments='')\n",
    "%cat ```\n",
    "\n",
    "The cell should\n",
    "- write to file the following table as a tab-separated value file, specifying a header and the format of the numbers\n",
    "\n",
    "x        | y        |   \n",
    "-------- | -------- | \n",
    "0        | 0        |\n",
    "1        | 1        |\n",
    "2        | 4        |\n",
    "3        | 9        |\n",
    "4        | 16       |\n",
    "5        | 25       |\n",
    "6        | 36       |\n",
    "7        | 49       |\n",
    "8        | 64       |\n",
    "9        | 81       |\n",
    "\n",
    "- read the file in the notebook to check that it look as it should."
   ]
  },
  {
   "cell_type": "code",
   "execution_count": 8,
   "metadata": {},
   "outputs": [
    {
     "name": "stdout",
     "output_type": "stream",
     "text": [
      "x\ty\r\n",
      "0\t0\r\n",
      "1\t1\r\n",
      "2\t4\r\n",
      "3\t9\r\n",
      "4\t16\r\n",
      "5\t25\r\n",
      "6\t36\r\n",
      "7\t49\r\n",
      "8\t64\r\n",
      "9\t81\r\n"
     ]
    }
   ],
   "source": [
    "x = np.arange(0, 10, 1)\n",
    "y = x**2\n",
    "np.savetxt('parabola.txt',np.c_[x,y],fmt='%d',header='x\ty',delimiter='\t',comments='')\n",
    "%cat parabola.txt"
   ]
  },
  {
   "cell_type": "code",
   "execution_count": 5,
   "metadata": {},
   "outputs": [],
   "source": [
    "answer = 'gAAAAABcAoobPB8I2ABv5t6VCQQteRUOEPicO0MQ2Auh8Jw_UjJ3I7zAFTfSmNIdWktMQP1_nGsVTe-aQRcqJXoFtyruJp4Lm23MKpKie_dS_AQEBHfWD0xjqJiQQSmsPNSgNfI2qfO-umzSR0QbkFP9a9SafpfluAwlHliBG3rJfQ_foe5O9JccdsbqzG903DsDyZASaEhQmu0bWiq_0xTI3QR2ORwc8DKrrNNYJqm6IV15G9u66yM9zapPx8dNlrpnNCf5HE6t'\n"
   ]
  },
  {
   "cell_type": "code",
   "execution_count": 6,
   "metadata": {},
   "outputs": [
    {
     "name": "stdout",
     "output_type": "stream",
     "text": [
      "x = np.arange(0,10,1)\n",
      "y = x**2\n",
      "np.savetxt('parabola.txt',np.c_[x,y],fmt='%d',header='x\ty',delimiter='\t',comments='')\n",
      "%cat parabola.txt\n"
     ]
    }
   ],
   "source": [
    "decrypt(answer, 'Trelleborg')"
   ]
  },
  {
   "cell_type": "markdown",
   "metadata": {},
   "source": [
    "### Task 13\n",
    "\n",
    "Complete the following lines\n",
    "\n",
    "```.py\n",
    "x,y = np.loadtxt(,dtype=str,delimiter=,skiprows=,unpack=)\n",
    "plt.plot(x,y)\n",
    "plt.show()\n",
    "x,y = np.loadtxt(,dtype=int,delimiter=,skiprows=,unpack=)\n",
    "plt.plot(x,y)\n",
    "plt.show()```\n",
    "\n",
    "The cell should\n",
    "- load the text file created in the previous task so that the values are interpreted as strings (each column should be loaded into a separate array)\n",
    "- plot $y$ vs $x$\n",
    "- load the text file created in the previous task so that the values are interpreted as integers (each column should be loaded into a separate array)\n",
    "- plot $y$ vs $x$ and compare with the previous plot."
   ]
  },
  {
   "cell_type": "code",
   "execution_count": 12,
   "metadata": {},
   "outputs": [
    {
     "data": {
      "image/png": "[encoded data removed]",
      "text/plain": [
       "<Figure size 432x288 with 1 Axes>"
      ]
     },
     "metadata": {
      "needs_background": "light"
     },
     "output_type": "display_data"
    },
    {
     "data": {
      "image/png": "[encoded data removed]",
      "text/plain": [
       "<Figure size 432x288 with 1 Axes>"
      ]
     },
     "metadata": {
      "needs_background": "light"
     },
     "output_type": "display_data"
    }
   ],
   "source": [
    "x,y = np.loadtxt('parabola.txt',dtype=str,delimiter='\t',skiprows=1,unpack=True)\n",
    "plt.plot(x,y)\n",
    "plt.show()\n",
    "x,y = np.loadtxt('parabola.txt',dtype=int,delimiter='\t',skiprows=1,unpack=True)\n",
    "plt.plot(x,y)\n",
    "plt.show()"
   ]
  },
  {
   "cell_type": "code",
   "execution_count": 10,
   "metadata": {},
   "outputs": [],
   "source": [
    "answer = 'gAAAAABcAos1k2OGaYibgW_3ODaNjTrbU92NNsxSDFCTirW3uEf7DLxBrxNwMln4ZDiMRff3N6ctjB1KZGIE4FsOpG3x2MbteJgrycQJLoiW2atBA_3oXeaE83LPOK7Qcca0cuJPrxxJXY1lbBQPw0tZXe3-0zcytax9eI37TovKhPpNGWq2vxr-f3j22_0QREjMiZGhU2T5g2dXNFO9R5OKHk6gEtDldPf196SkJT9lO_WVxe21bkMXY7ogm6a-Jaxz71eovm_iaGqDg904nCd1sccqvS-oZFxPKZxNA-xzAKNvRfFzCPVnEMfm3YnUoFS7B5gPMnb3BVGkxD5fAYVpIXeI-ByaLGvutV7HvC8-PtJKOtJg-eM='\n"
   ]
  },
  {
   "cell_type": "code",
   "execution_count": 11,
   "metadata": {},
   "outputs": [
    {
     "name": "stdout",
     "output_type": "stream",
     "text": [
      "x,y = np.loadtxt('parabola.txt',dtype=str,delimiter='\t',skiprows=1,unpack=True)\n",
      "plt.plot(x,y)\n",
      "plt.show()\n",
      "x,y = np.loadtxt('parabola.txt',dtype=int,delimiter='\t',skiprows=1,unpack=True)\n",
      "plt.plot(x,y)\n",
      "plt.show()\n"
     ]
    }
   ],
   "source": [
    "decrypt(answer, 'Simrishamn')"
   ]
  },
  {
   "cell_type": "markdown",
   "metadata": {},
   "source": [
    "<a id='4'></a>"
   ]
  },
  {
   "cell_type": "markdown",
   "metadata": {},
   "source": [
    "# Repeated operations and universal functions"
   ]
  },
  {
   "cell_type": "code",
   "execution_count": 13,
   "metadata": {},
   "outputs": [
    {
     "data": {
      "image/jpeg": "[encoded data removed]",
      "text/html": [
       "\n",
       "        <iframe\n",
       "            width=\"400\"\n",
       "            height=\"300\"\n",
       "            src=\"https://www.youtube.com/embed/469ukhzwEPg\"\n",
       "            frameborder=\"0\"\n",
       "            allowfullscreen\n",
       "        ></iframe>\n",
       "        "
      ],
      "text/plain": [
       "<IPython.lib.display.YouTubeVideo at 0x7fc8923019d0>"
      ]
     },
     "execution_count": 13,
     "metadata": {},
     "output_type": "execute_result"
    }
   ],
   "source": [
    "YouTubeVideo('469ukhzwEPg')"
   ]
  },
  {
   "cell_type": "markdown",
   "metadata": {},
   "source": [
    "### Task 14\n",
    "Compute and plot the function $z=xy\\exp[-(x^2+y^2)]$ on a square grid 100x100 with side lengths ranging from -2 to 2. Complete the following lines:\n",
    "\n",
    "```.py\n",
    "y = x[:,np.]\n",
    "z = * * np.exp( -  - ) \n",
    "plt.imshow(z, extent=, origin=)\n",
    "plt.colorbar(label=)\n",
    "plt.xlabel()\n",
    "plt.ylabel();```"
   ]
  },
  {
   "cell_type": "code",
   "execution_count": 18,
   "metadata": {},
   "outputs": [
    {
     "data": {
      "image/png": "[encoded data removed]",
      "text/plain": [
       "<Figure size 432x288 with 2 Axes>"
      ]
     },
     "metadata": {
      "needs_background": "light"
     },
     "output_type": "display_data"
    }
   ],
   "source": [
    "x = np.linspace(-2, 2, 100)\n",
    "y = x[:,np.newaxis]\n",
    "z = x *y*np.exp(- x**2 - y**2)\n",
    "plt.imshow(z, extent=[-2,2,2,-2], origin='lower')\n",
    "plt.colorbar(label='z')\n",
    "plt.xlabel('x')\n",
    "plt.ylabel('y');"
   ]
  },
  {
   "cell_type": "code",
   "execution_count": 15,
   "metadata": {},
   "outputs": [],
   "source": [
    "answer = 'gAAAAABcAoMby1Rf-3JRj1ehvYtOVLeVNwYOuGoUFrmbarZifjvZwDnLzdox_J9dSAkRSacDW9DcP5WbF3nCbXp0ByN7u4LiRhIVCCAJAHvQCjgKLJuimG3X-PHcCuvlofloVxMpuaYGY5QtpoFSH3FJRb40kHwFxrlKIgBqFK_yFMCOwOSc5srYCeJVgRydPqalgSqIHK5DTtIvR_DfRRcrA-MDPMM_hPyuPNYC-QYoeXH-scxbW-22kSNG8p-pcVNoySgIPn4C1YFq_T6m-oB8AOKy6pwtFog84--3yS1g63eYy6diu34nMMUOEnZEk9VmdqyhEPym'\n"
   ]
  },
  {
   "cell_type": "code",
   "execution_count": 16,
   "metadata": {},
   "outputs": [
    {
     "name": "stdout",
     "output_type": "stream",
     "text": [
      "x = np.linspace(-2, 2, 100)\n",
      "y = x[:,np.newaxis]\n",
      "z = x*y*np.exp( - x**2 - y**2) \n",
      "plt.imshow(z, extent=[-2,2,2,-2], origin='lower')\n",
      "plt.colorbar(label='z')\n",
      "plt.xlabel('x')\n",
      "plt.ylabel('y');\n"
     ]
    }
   ],
   "source": [
    "decrypt(answer,'Kristianstad')"
   ]
  },
  {
   "cell_type": "markdown",
   "metadata": {},
   "source": [
    "### Task 15\n",
    "Use boolean masking to set to 0.18 the $z$ values that are lower than 0.04 in the previous plot."
   ]
  },
  {
   "cell_type": "code",
   "execution_count": 20,
   "metadata": {},
   "outputs": [],
   "source": [
    "answer = 'gAAAAABcApILR-KMnBa3VT2u-pmDiqF_LKSym5bvRjZmMm6ndi03WhBvgQEr3oKlJo5rOgM2MbBwwyHoLPnb81YakQFtnsG6PNdX-SR1K9gMPH9L4st8ihBFolIzrRjiuJldtCbLUmrAEx_Dpn1cjRtTlHND2OizxVrzneguu8PuVk1e-GHSUjXROBlACkkIQ--fJA4ypHYADl-rZpJh5aSgLaTF3PzziT2vvXlQBAQIjU4aAMCLFDEfH-iGI_mbxTNd6BEqY-AUfUDRd29YUobAM-MjmN-W1T79sVAY4w16ZRGptj1waz9vhYjB2avawWvW8COMFXATK-LQUH6TwFi_a_8yreMmZg=='\n"
   ]
  },
  {
   "cell_type": "code",
   "execution_count": 21,
   "metadata": {},
   "outputs": [
    {
     "name": "stdout",
     "output_type": "stream",
     "text": [
      "x = np.linspace(-2, 2, 100)\n",
      "y = x[:,np.newaxis]\n",
      "z = x*y*np.exp( - x**2 - y**2) \n",
      "z[z<.04]=.18\n",
      "plt.imshow(z, extent=[-2,2,2,-2], origin='lower')\n",
      "plt.colorbar(label='z')\n",
      "plt.xlabel('x')\n",
      "plt.ylabel('y');\n"
     ]
    }
   ],
   "source": [
    "decrypt(answer,'Ystad')"
   ]
  },
  {
   "cell_type": "markdown",
   "metadata": {},
   "source": [
    "### Task 16\n",
    "\n",
    "Define 3 functions that estimate the limiting value of $\\sum_1^\\infty \\frac{\\sqrt{n}}{n^3}$:\n",
    "1. a Python funtion involving a for loop\n",
    "2. a Python function exploiting universal functions for repeated operations and aggregation functions\n",
    "3. a Cython function defined with `cpdef` involving a for loop\n",
    "Cython is a mix of C and Python. With `cpdef` we can define a function as we would in Python (_i.e._ without declarying any types) but we obtain a function that is almost as fast as C generated code."
   ]
  },
  {
   "cell_type": "markdown",
   "metadata": {},
   "source": [
    "Here are snippets of code to complete for each of the three subtasks:\n",
    "1. ```.py\n",
    "def func1(n):\n",
    "    result = 0\n",
    "    for k in range():\n",
    "        result += \n",
    "    return result```\n",
    "2. ```.py\n",
    "def func2(n):\n",
    "    return ( ).sum()```\n",
    "3. ```.py\n",
    "%load_ext Cython\n",
    "%%cython\n",
    "cdef extern from \"math.h\":\n",
    "    double sqrt(int)\n",
    "cpdef func3(n): # note the 'p' in 'cpdef'\n",
    "    result = 0\n",
    "    for k in range():\n",
    "        result += \n",
    "    return result```\n",
    "    \n",
    "Use `%timeit` to compare the speed of `func1`, `func2`, and `func3`."
   ]
  },
  {
   "cell_type": "code",
   "execution_count": 35,
   "metadata": {},
   "outputs": [
    {
     "name": "stdout",
     "output_type": "stream",
     "text": [
      "2.41 ms ± 55.5 µs per loop (mean ± std. dev. of 7 runs, 100 loops each)\n",
      "97.7 µs ± 797 ns per loop (mean ± std. dev. of 7 runs, 10000 loops each)\n"
     ]
    }
   ],
   "source": [
    "def func1(n):\n",
    "    result = 0\n",
    "    for k in range(1,int(n)):\n",
    "        result += np.sqrt(k)/k**3\n",
    "    return result\n",
    "\n",
    "def func2(n):\n",
    "    return ( np.sqrt(np.arange(1.,n)) / (np.arange(1.,n)**3) ).sum()\n",
    "\n",
    "\n",
    "\n",
    "\n",
    "\n",
    "%timeit func1(1e3)\n",
    "%timeit func2(1e3)\n",
    "\n"
   ]
  },
  {
   "cell_type": "code",
   "execution_count": 22,
   "metadata": {},
   "outputs": [],
   "source": [
    "answer = 'gAAAAABcAqbaIiWIulQgcO267q_p8PFsH41h2jQuTOZt3vnqlEBt29xULPJTQYQTRjYyVqiEIRJXYfQe-4xJ5bUnd2PVD1YClavYu5Dbj8JjpG_Y_D6DZED4DJV6qfTotHSUX8lNn-8m51YRheaWqMrPxcMyRfAw9I8DGMLlr9064KXVpLlIPIO5q95WWnl5E127o_NhRisZp5GsolVTJw7kxoipgZyGMg=='\n"
   ]
  },
  {
   "cell_type": "code",
   "execution_count": 23,
   "metadata": {},
   "outputs": [
    {
     "name": "stdout",
     "output_type": "stream",
     "text": [
      "def func1(n):\n",
      "    result = 0\n",
      "    for k in range(1,int(n)):\n",
      "        result += np.sqrt(k)/k**3\n",
      "    return result\n"
     ]
    }
   ],
   "source": [
    "decrypt(answer, 'Svedala')"
   ]
  },
  {
   "cell_type": "code",
   "execution_count": 25,
   "metadata": {},
   "outputs": [],
   "source": [
    "answer = 'gAAAAABcAqcJPTwdzkomK_6f-zDZ7wbvZnch14UFrHEHQTmKcHmobziYV7dkfnBMmjyddE10f9pR9N9ymzPL0xh1X6tYmVoI9EBj2v5ty0soSsMzttDw0f1-UCioiIFTkrKmEyVBjJlUdZWxY1ybiRDeElJuvLpr6VygSgfJYDMIuv1Ho3YQbQznXQrbAQ5EhP4o-fh2XnFI'\n"
   ]
  },
  {
   "cell_type": "code",
   "execution_count": 26,
   "metadata": {},
   "outputs": [
    {
     "name": "stdout",
     "output_type": "stream",
     "text": [
      "def func2(n):\n",
      "    return ( np.sqrt(np.arange(1.,n)) / (np.arange(1.,n)**3) ).sum()\n"
     ]
    }
   ],
   "source": [
    "decrypt(answer, 'Svedala')"
   ]
  },
  {
   "cell_type": "code",
   "execution_count": 28,
   "metadata": {},
   "outputs": [],
   "source": [
    "answer = 'gAAAAABcAqcun5hh9C7geQYhS-uzCeB2-uRhI_9yc6HtVO-di2GNbcmnLVFWRP-vghmxLPT7vNDrI4BepkH1kxrneRCTaP45Js2od2NYvOLME7xc1cIy4xTNsbYl2hwtK0JLHUK2NyDI6X4-cE9vtc7lHXwZt8gX6h1GA81LWjUwmYlEU-bwv1s9iJytNRF4Cs0s4pl6RfyN2wzCovjeCqt4oXHccoenWnlvW2hjhpI6Zpb6MdcsAfhsaoo39oWaL1XYn-lnQLj71gfc48qP9x5paPSX-xXXATSPJoY8bcGaTyK0dbcyuN6Bg0Iipg3MYGmIcozPEeW_FY1YQhrfXm4Fx09YdkvqbA=='\n"
   ]
  },
  {
   "cell_type": "code",
   "execution_count": 29,
   "metadata": {},
   "outputs": [
    {
     "name": "stdout",
     "output_type": "stream",
     "text": [
      "%%cython\n",
      "\n",
      "cdef extern from \"math.h\":\n",
      "    double sqrt(int)\n",
      "\n",
      "cpdef func3(n): # note the 'p' in 'cpdef'\n",
      "    result = 0\n",
      "    for k in range(1,int(n)):\n",
      "        result += sqrt(k)/k**3\n",
      "    return result\n"
     ]
    }
   ],
   "source": [
    "decrypt(answer,'Svedala')"
   ]
  },
  {
   "cell_type": "code",
   "execution_count": 30,
   "metadata": {},
   "outputs": [],
   "source": [
    "answer = 'gAAAAABcAqdTNpsPmdHE8Jrn6mxQGyRjquTtBOOwub9M47tFjCRCWu2xFuj9jH2-86BPouk-L3tZ7z97FaD_7cxi81KtQjHRutnrf8gwusJY9dCwgypzqtMsitla1XoBqeGX7fMXLT_Pz6B8yj8RP2SJLwuCOlXjKQ=='\n"
   ]
  },
  {
   "cell_type": "code",
   "execution_count": 31,
   "metadata": {},
   "outputs": [
    {
     "name": "stdout",
     "output_type": "stream",
     "text": [
      "%timeit func1(1e3)\n",
      "%timeit func2(1e3)\n",
      "%timeit func3(1e3)\n"
     ]
    }
   ],
   "source": [
    "decrypt(answer, 'Svedala')"
   ]
  },
  {
   "cell_type": "code",
   "execution_count": null,
   "metadata": {},
   "outputs": [],
   "source": []
  }
 ],
 "metadata": {
  "kernelspec": {
   "display_name": "Python 3",
   "language": "python",
   "name": "python3"
  },
  "language_info": {
   "codemirror_mode": {
    "name": "ipython",
    "version": 3
   },
   "file_extension": ".py",
   "mimetype": "text/x-python",
   "name": "python",
   "nbconvert_exporter": "python",
   "pygments_lexer": "ipython3",
   "version": "3.7.4"
  }
 },
 "nbformat": 4,
 "nbformat_minor": 2
}
