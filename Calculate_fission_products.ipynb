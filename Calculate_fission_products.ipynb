{
 "cells": [
  {
   "cell_type": "code",
   "execution_count": 1,
   "metadata": {},
   "outputs": [],
   "source": [
    "import pandas as pd\n",
    "import numpy as np\n"
   ]
  },
  {
   "cell_type": "code",
   "execution_count": 2,
   "metadata": {},
   "outputs": [
    {
     "name": "stdout",
     "output_type": "stream",
     "text": [
      "A = 142, Z = 59\n"
     ]
    }
   ],
   "source": [
    "a_C = 0.714\n",
    "a_A = 23.2\n",
    "def GetZfromA(A):\n",
    "    f_A = 1+(a_C/(2*a_A))*np.power(A, 2./3)\n",
    "    Z = np.divide(A, 1+f_A)\n",
    "    return np.round(Z).astype(int)\n",
    "print(\"A = 142, Z =\", GetZfromA(142))"
   ]
  },
  {
   "cell_type": "code",
   "execution_count": 3,
   "metadata": {},
   "outputs": [
    {
     "name": "stdout",
     "output_type": "stream",
     "text": [
      "A1: [142 175 208] Z1: [59 71 82]\n",
      "A2: [142 109  76] Z2: [59 46 33]\n"
     ]
    }
   ],
   "source": [
    "A0 = 284\n",
    "#A1 = np.linspace(80, 208, 7, dtype=int)\n",
    "A1 = np.linspace(142, 208, 3, dtype=int)\n",
    "Z1 = GetZfromA(A1)\n",
    "A2 = A0 - A1\n",
    "Z2 = GetZfromA(A2)\n",
    "print(\"A1:\", A1, \"Z1:\", Z1)\n",
    "print(\"A2:\", A2, \"Z2:\", Z2)"
   ]
  },
  {
   "cell_type": "code",
   "execution_count": 4,
   "metadata": {},
   "outputs": [],
   "source": [
    "TKE = 275"
   ]
  },
  {
   "cell_type": "code",
   "execution_count": 5,
   "metadata": {},
   "outputs": [],
   "source": [
    "A0 = 284"
   ]
  },
  {
   "cell_type": "code",
   "execution_count": 6,
   "metadata": {},
   "outputs": [
    {
     "name": "stdout",
     "output_type": "stream",
     "text": [
      "[142 175 208]\n",
      "[142 109  76]\n",
      "Fragment 1 kinetic energy: [112.5         86.3556338   60.21126761] MeV\n",
      "Fragment 2 kinetic energy: [112.5        138.6443662  164.78873239] MeV\n"
     ]
    }
   ],
   "source": [
    "print(A1)\n",
    "print(A0-A1)\n",
    "TKE_all = [225] # MeV\n",
    "for j, TKE in enumerate(TKE_all):\n",
    "    E1 = np.divide(TKE, 1+np.divide(A1, A0-A1))\n",
    "    E2 = TKE - E1 \n",
    "    print(\"Fragment 1 kinetic energy:\", E1, \"MeV\")\n",
    "    print(\"Fragment 2 kinetic energy:\", E2, \"MeV\")"
   ]
  },
  {
   "cell_type": "code",
   "execution_count": 7,
   "metadata": {},
   "outputs": [
    {
     "data": {
      "text/html": [
       "<div>\n",
       "<style scoped>\n",
       "    .dataframe tbody tr th:only-of-type {\n",
       "        vertical-align: middle;\n",
       "    }\n",
       "\n",
       "    .dataframe tbody tr th {\n",
       "        vertical-align: top;\n",
       "    }\n",
       "\n",
       "    .dataframe thead th {\n",
       "        text-align: right;\n",
       "    }\n",
       "</style>\n",
       "<table border=\"1\" class=\"dataframe\">\n",
       "  <thead>\n",
       "    <tr style=\"text-align: right;\">\n",
       "      <th></th>\n",
       "      <th>TKE</th>\n",
       "      <th>A1</th>\n",
       "      <th>A2</th>\n",
       "      <th>E1</th>\n",
       "      <th>E2</th>\n",
       "      <th>Z1</th>\n",
       "      <th>Z2</th>\n",
       "    </tr>\n",
       "  </thead>\n",
       "  <tbody>\n",
       "  </tbody>\n",
       "</table>\n",
       "</div>"
      ],
      "text/plain": [
       "Empty DataFrame\n",
       "Columns: [TKE, A1, A2, E1, E2, Z1, Z2]\n",
       "Index: []"
      ]
     },
     "execution_count": 7,
     "metadata": {},
     "output_type": "execute_result"
    }
   ],
   "source": [
    "cols = [\"TKE\", \"A1\", \"A2\", \"E1\", \"E2\", \"Z1\", \"Z2\"]\n",
    "df_energies = pd.DataFrame(columns=cols)\n",
    "df_energies"
   ]
  },
  {
   "cell_type": "code",
   "execution_count": 8,
   "metadata": {},
   "outputs": [
    {
     "name": "stdout",
     "output_type": "stream",
     "text": [
      "[142 175 208]\n",
      "[142 109  76]\n",
      "Fragment 1 kinetic energy: [112.5         86.3556338   60.21126761] MeV\n",
      "Fragment 2 kinetic energy: [112.5        138.6443662  164.78873239] MeV\n",
      "Fragment 1 kinetic energy: [125.          95.95070423  66.90140845] MeV\n",
      "Fragment 2 kinetic energy: [125.         154.04929577 183.09859155] MeV\n",
      "Fragment 1 kinetic energy: [137.5        105.54577465  73.5915493 ] MeV\n",
      "Fragment 2 kinetic energy: [137.5        169.45422535 201.4084507 ] MeV\n"
     ]
    }
   ],
   "source": [
    "TKE_all = [225, 250, 275] # MeV\n",
    "print(A1)\n",
    "A2 = A0-A1\n",
    "print(A2)\n",
    "for j, TKE in enumerate(TKE_all):\n",
    "    E1 = np.divide(TKE, 1+np.divide(A1, A2))\n",
    "    E2 = TKE - E1 \n",
    "    for k, E1_k in enumerate(E1):\n",
    "        df_energies = df_energies.append({'TKE': TKE, 'A1': A1[k], 'A2': A2[k], 'E1': E1_k, 'E2': E2[k], 'Z1':  GetZfromA(A1[k]), 'Z2': 112 - GetZfromA(A1[k])}, ignore_index=True)\n",
    "    print(\"Fragment 1 kinetic energy:\", E1, \"MeV\")\n",
    "    print(\"Fragment 2 kinetic energy:\", E2, \"MeV\")"
   ]
  },
  {
   "cell_type": "code",
   "execution_count": 9,
   "metadata": {},
   "outputs": [
    {
     "data": {
      "text/html": [
       "<div>\n",
       "<style scoped>\n",
       "    .dataframe tbody tr th:only-of-type {\n",
       "        vertical-align: middle;\n",
       "    }\n",
       "\n",
       "    .dataframe tbody tr th {\n",
       "        vertical-align: top;\n",
       "    }\n",
       "\n",
       "    .dataframe thead th {\n",
       "        text-align: right;\n",
       "    }\n",
       "</style>\n",
       "<table border=\"1\" class=\"dataframe\">\n",
       "  <thead>\n",
       "    <tr style=\"text-align: right;\">\n",
       "      <th></th>\n",
       "      <th>TKE</th>\n",
       "      <th>A1</th>\n",
       "      <th>A2</th>\n",
       "      <th>E1</th>\n",
       "      <th>E2</th>\n",
       "      <th>Z1</th>\n",
       "      <th>Z2</th>\n",
       "    </tr>\n",
       "  </thead>\n",
       "  <tbody>\n",
       "    <tr>\n",
       "      <td>0</td>\n",
       "      <td>225.0</td>\n",
       "      <td>142.0</td>\n",
       "      <td>142.0</td>\n",
       "      <td>112.500000</td>\n",
       "      <td>112.500000</td>\n",
       "      <td>59.0</td>\n",
       "      <td>53.0</td>\n",
       "    </tr>\n",
       "    <tr>\n",
       "      <td>1</td>\n",
       "      <td>225.0</td>\n",
       "      <td>175.0</td>\n",
       "      <td>109.0</td>\n",
       "      <td>86.355634</td>\n",
       "      <td>138.644366</td>\n",
       "      <td>71.0</td>\n",
       "      <td>41.0</td>\n",
       "    </tr>\n",
       "    <tr>\n",
       "      <td>2</td>\n",
       "      <td>225.0</td>\n",
       "      <td>208.0</td>\n",
       "      <td>76.0</td>\n",
       "      <td>60.211268</td>\n",
       "      <td>164.788732</td>\n",
       "      <td>82.0</td>\n",
       "      <td>30.0</td>\n",
       "    </tr>\n",
       "    <tr>\n",
       "      <td>3</td>\n",
       "      <td>250.0</td>\n",
       "      <td>142.0</td>\n",
       "      <td>142.0</td>\n",
       "      <td>125.000000</td>\n",
       "      <td>125.000000</td>\n",
       "      <td>59.0</td>\n",
       "      <td>53.0</td>\n",
       "    </tr>\n",
       "    <tr>\n",
       "      <td>4</td>\n",
       "      <td>250.0</td>\n",
       "      <td>175.0</td>\n",
       "      <td>109.0</td>\n",
       "      <td>95.950704</td>\n",
       "      <td>154.049296</td>\n",
       "      <td>71.0</td>\n",
       "      <td>41.0</td>\n",
       "    </tr>\n",
       "    <tr>\n",
       "      <td>5</td>\n",
       "      <td>250.0</td>\n",
       "      <td>208.0</td>\n",
       "      <td>76.0</td>\n",
       "      <td>66.901408</td>\n",
       "      <td>183.098592</td>\n",
       "      <td>82.0</td>\n",
       "      <td>30.0</td>\n",
       "    </tr>\n",
       "    <tr>\n",
       "      <td>6</td>\n",
       "      <td>275.0</td>\n",
       "      <td>142.0</td>\n",
       "      <td>142.0</td>\n",
       "      <td>137.500000</td>\n",
       "      <td>137.500000</td>\n",
       "      <td>59.0</td>\n",
       "      <td>53.0</td>\n",
       "    </tr>\n",
       "    <tr>\n",
       "      <td>7</td>\n",
       "      <td>275.0</td>\n",
       "      <td>175.0</td>\n",
       "      <td>109.0</td>\n",
       "      <td>105.545775</td>\n",
       "      <td>169.454225</td>\n",
       "      <td>71.0</td>\n",
       "      <td>41.0</td>\n",
       "    </tr>\n",
       "    <tr>\n",
       "      <td>8</td>\n",
       "      <td>275.0</td>\n",
       "      <td>208.0</td>\n",
       "      <td>76.0</td>\n",
       "      <td>73.591549</td>\n",
       "      <td>201.408451</td>\n",
       "      <td>82.0</td>\n",
       "      <td>30.0</td>\n",
       "    </tr>\n",
       "  </tbody>\n",
       "</table>\n",
       "</div>"
      ],
      "text/plain": [
       "     TKE     A1     A2          E1          E2    Z1    Z2\n",
       "0  225.0  142.0  142.0  112.500000  112.500000  59.0  53.0\n",
       "1  225.0  175.0  109.0   86.355634  138.644366  71.0  41.0\n",
       "2  225.0  208.0   76.0   60.211268  164.788732  82.0  30.0\n",
       "3  250.0  142.0  142.0  125.000000  125.000000  59.0  53.0\n",
       "4  250.0  175.0  109.0   95.950704  154.049296  71.0  41.0\n",
       "5  250.0  208.0   76.0   66.901408  183.098592  82.0  30.0\n",
       "6  275.0  142.0  142.0  137.500000  137.500000  59.0  53.0\n",
       "7  275.0  175.0  109.0  105.545775  169.454225  71.0  41.0\n",
       "8  275.0  208.0   76.0   73.591549  201.408451  82.0  30.0"
      ]
     },
     "execution_count": 9,
     "metadata": {},
     "output_type": "execute_result"
    }
   ],
   "source": [
    "df_energies"
   ]
  },
  {
   "cell_type": "code",
   "execution_count": 10,
   "metadata": {},
   "outputs": [],
   "source": [
    "df_energies.set_index(['TKE', 'A1', 'A2'],inplace=True)"
   ]
  },
  {
   "cell_type": "code",
   "execution_count": 11,
   "metadata": {},
   "outputs": [
    {
     "data": {
      "text/html": [
       "<div>\n",
       "<style scoped>\n",
       "    .dataframe tbody tr th:only-of-type {\n",
       "        vertical-align: middle;\n",
       "    }\n",
       "\n",
       "    .dataframe tbody tr th {\n",
       "        vertical-align: top;\n",
       "    }\n",
       "\n",
       "    .dataframe thead th {\n",
       "        text-align: right;\n",
       "    }\n",
       "</style>\n",
       "<table border=\"1\" class=\"dataframe\">\n",
       "  <thead>\n",
       "    <tr style=\"text-align: right;\">\n",
       "      <th></th>\n",
       "      <th></th>\n",
       "      <th></th>\n",
       "      <th>E1</th>\n",
       "      <th>E2</th>\n",
       "      <th>Z1</th>\n",
       "      <th>Z2</th>\n",
       "    </tr>\n",
       "    <tr>\n",
       "      <th>TKE</th>\n",
       "      <th>A1</th>\n",
       "      <th>A2</th>\n",
       "      <th></th>\n",
       "      <th></th>\n",
       "      <th></th>\n",
       "      <th></th>\n",
       "    </tr>\n",
       "  </thead>\n",
       "  <tbody>\n",
       "    <tr>\n",
       "      <td rowspan=\"3\" valign=\"top\">225.0</td>\n",
       "      <td>142.0</td>\n",
       "      <td>142.0</td>\n",
       "      <td>112.500000</td>\n",
       "      <td>112.500000</td>\n",
       "      <td>59.0</td>\n",
       "      <td>53.0</td>\n",
       "    </tr>\n",
       "    <tr>\n",
       "      <td>175.0</td>\n",
       "      <td>109.0</td>\n",
       "      <td>86.355634</td>\n",
       "      <td>138.644366</td>\n",
       "      <td>71.0</td>\n",
       "      <td>41.0</td>\n",
       "    </tr>\n",
       "    <tr>\n",
       "      <td>208.0</td>\n",
       "      <td>76.0</td>\n",
       "      <td>60.211268</td>\n",
       "      <td>164.788732</td>\n",
       "      <td>82.0</td>\n",
       "      <td>30.0</td>\n",
       "    </tr>\n",
       "    <tr>\n",
       "      <td rowspan=\"3\" valign=\"top\">250.0</td>\n",
       "      <td>142.0</td>\n",
       "      <td>142.0</td>\n",
       "      <td>125.000000</td>\n",
       "      <td>125.000000</td>\n",
       "      <td>59.0</td>\n",
       "      <td>53.0</td>\n",
       "    </tr>\n",
       "    <tr>\n",
       "      <td>175.0</td>\n",
       "      <td>109.0</td>\n",
       "      <td>95.950704</td>\n",
       "      <td>154.049296</td>\n",
       "      <td>71.0</td>\n",
       "      <td>41.0</td>\n",
       "    </tr>\n",
       "    <tr>\n",
       "      <td>208.0</td>\n",
       "      <td>76.0</td>\n",
       "      <td>66.901408</td>\n",
       "      <td>183.098592</td>\n",
       "      <td>82.0</td>\n",
       "      <td>30.0</td>\n",
       "    </tr>\n",
       "    <tr>\n",
       "      <td rowspan=\"3\" valign=\"top\">275.0</td>\n",
       "      <td>142.0</td>\n",
       "      <td>142.0</td>\n",
       "      <td>137.500000</td>\n",
       "      <td>137.500000</td>\n",
       "      <td>59.0</td>\n",
       "      <td>53.0</td>\n",
       "    </tr>\n",
       "    <tr>\n",
       "      <td>175.0</td>\n",
       "      <td>109.0</td>\n",
       "      <td>105.545775</td>\n",
       "      <td>169.454225</td>\n",
       "      <td>71.0</td>\n",
       "      <td>41.0</td>\n",
       "    </tr>\n",
       "    <tr>\n",
       "      <td>208.0</td>\n",
       "      <td>76.0</td>\n",
       "      <td>73.591549</td>\n",
       "      <td>201.408451</td>\n",
       "      <td>82.0</td>\n",
       "      <td>30.0</td>\n",
       "    </tr>\n",
       "  </tbody>\n",
       "</table>\n",
       "</div>"
      ],
      "text/plain": [
       "                           E1          E2    Z1    Z2\n",
       "TKE   A1    A2                                       \n",
       "225.0 142.0 142.0  112.500000  112.500000  59.0  53.0\n",
       "      175.0 109.0   86.355634  138.644366  71.0  41.0\n",
       "      208.0 76.0    60.211268  164.788732  82.0  30.0\n",
       "250.0 142.0 142.0  125.000000  125.000000  59.0  53.0\n",
       "      175.0 109.0   95.950704  154.049296  71.0  41.0\n",
       "      208.0 76.0    66.901408  183.098592  82.0  30.0\n",
       "275.0 142.0 142.0  137.500000  137.500000  59.0  53.0\n",
       "      175.0 109.0  105.545775  169.454225  71.0  41.0\n",
       "      208.0 76.0    73.591549  201.408451  82.0  30.0"
      ]
     },
     "execution_count": 11,
     "metadata": {},
     "output_type": "execute_result"
    }
   ],
   "source": [
    "df_energies"
   ]
  },
  {
   "cell_type": "code",
   "execution_count": 18,
   "metadata": {},
   "outputs": [
    {
     "data": {
      "text/plain": [
       "E1     86.355634\n",
       "E2    138.644366\n",
       "Z1     71.000000\n",
       "Z2     41.000000\n",
       "Name: (225.0, 175.0, 109.0), dtype: float64"
      ]
     },
     "execution_count": 18,
     "metadata": {},
     "output_type": "execute_result"
    }
   ],
   "source": [
    "df_energies.loc[225,175,109] "
   ]
  },
  {
   "cell_type": "code",
   "execution_count": null,
   "metadata": {},
   "outputs": [],
   "source": []
  }
 ],
 "metadata": {
  "kernelspec": {
   "display_name": "Python 3",
   "language": "python",
   "name": "python3"
  },
  "language_info": {
   "codemirror_mode": {
    "name": "ipython",
    "version": 3
   },
   "file_extension": ".py",
   "mimetype": "text/x-python",
   "name": "python",
   "nbconvert_exporter": "python",
   "pygments_lexer": "ipython3",
   "version": "3.7.4"
  }
 },
 "nbformat": 4,
 "nbformat_minor": 2
}
